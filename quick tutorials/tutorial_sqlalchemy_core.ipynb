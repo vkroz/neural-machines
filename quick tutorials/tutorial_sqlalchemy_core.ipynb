{
 "cells": [
  {
   "metadata": {},
   "cell_type": "markdown",
   "source": "# Getting started with SQLAlchemy",
   "id": "2acf6b5b12f3ccba"
  },
  {
   "metadata": {
    "ExecuteTime": {
     "end_time": "2024-07-11T23:03:52.601662Z",
     "start_time": "2024-07-11T23:03:52.590504Z"
    }
   },
   "cell_type": "code",
   "source": [
    "import sqlalchemy\n",
    "sqlalchemy.__version__\n"
   ],
   "id": "initial_id",
   "outputs": [
    {
     "data": {
      "text/plain": [
       "'2.0.31'"
      ]
     },
     "execution_count": 2,
     "metadata": {},
     "output_type": "execute_result"
    }
   ],
   "execution_count": 2
  },
  {
   "metadata": {
    "ExecuteTime": {
     "end_time": "2024-07-11T23:03:52.641139Z",
     "start_time": "2024-07-11T23:03:52.620353Z"
    }
   },
   "cell_type": "code",
   "source": [
    "from sqlalchemy import create_engine\n",
    "engine = create_engine('sqlite:///:memory:', echo=True)"
   ],
   "id": "5c2ee302da88bba2",
   "outputs": [],
   "execution_count": 3
  },
  {
   "metadata": {
    "ExecuteTime": {
     "end_time": "2024-07-11T23:03:52.671952Z",
     "start_time": "2024-07-11T23:03:52.661157Z"
    }
   },
   "cell_type": "code",
   "source": [
    "from sqlalchemy import text\n",
    "with engine.connect() as conn:\n",
    "    result = conn.execute(text(\"select 'hello world'\"))\n",
    "    print(result.all())"
   ],
   "id": "701f3561e5af2017",
   "outputs": [
    {
     "name": "stdout",
     "output_type": "stream",
     "text": [
      "2024-07-11 16:03:52,664 INFO sqlalchemy.engine.Engine BEGIN (implicit)\n",
      "2024-07-11 16:03:52,665 INFO sqlalchemy.engine.Engine select 'hello world'\n",
      "2024-07-11 16:03:52,667 INFO sqlalchemy.engine.Engine [generated in 0.00276s] ()\n",
      "[('hello world',)]\n",
      "2024-07-11 16:03:52,669 INFO sqlalchemy.engine.Engine ROLLBACK\n"
     ]
    }
   ],
   "execution_count": 4
  },
  {
   "metadata": {
    "ExecuteTime": {
     "end_time": "2024-07-11T23:03:52.796490Z",
     "start_time": "2024-07-11T23:03:52.680505Z"
    }
   },
   "cell_type": "code",
   "source": [
    "with engine.connect() as conn:\n",
    "    conn.execute(text(\"CREATE TABLE some_table (x int, y int)\"))\n",
    "    conn.execute(\n",
    "        text(\"INSERT INTO some_table (x, y) VALUES (:x, :y)\"), \n",
    "        [{\"x\": 1, \"y\": 1}, {\"x\": 2, \"y\": 4}]\n",
    "    )\n",
    "    conn.commit()\n"
   ],
   "id": "9ca99816d0d900",
   "outputs": [
    {
     "name": "stdout",
     "output_type": "stream",
     "text": [
      "2024-07-11 16:03:52,682 INFO sqlalchemy.engine.Engine BEGIN (implicit)\n",
      "2024-07-11 16:03:52,684 INFO sqlalchemy.engine.Engine CREATE TABLE some_table (x int, y int)\n",
      "2024-07-11 16:03:52,686 INFO sqlalchemy.engine.Engine [generated in 0.00321s] ()\n",
      "2024-07-11 16:03:52,688 INFO sqlalchemy.engine.Engine INSERT INTO some_table (x, y) VALUES (?, ?)\n",
      "2024-07-11 16:03:52,790 INFO sqlalchemy.engine.Engine [generated in 0.10298s] [(1, 1), (2, 4)]\n",
      "2024-07-11 16:03:52,793 INFO sqlalchemy.engine.Engine COMMIT\n"
     ]
    }
   ],
   "execution_count": 5
  },
  {
   "metadata": {
    "ExecuteTime": {
     "end_time": "2024-07-11T23:03:52.809457Z",
     "start_time": "2024-07-11T23:03:52.800335Z"
    }
   },
   "cell_type": "code",
   "source": [
    "with engine.connect() as conn:\n",
    "    result = conn.execute(text(\"select * from some_table\"))\n",
    "    print(result.all())"
   ],
   "id": "b2196140ff288c0",
   "outputs": [
    {
     "name": "stdout",
     "output_type": "stream",
     "text": [
      "2024-07-11 16:03:52,802 INFO sqlalchemy.engine.Engine BEGIN (implicit)\n",
      "2024-07-11 16:03:52,803 INFO sqlalchemy.engine.Engine select * from some_table\n",
      "2024-07-11 16:03:52,805 INFO sqlalchemy.engine.Engine [generated in 0.00332s] ()\n",
      "[(1, 1), (2, 4)]\n",
      "2024-07-11 16:03:52,807 INFO sqlalchemy.engine.Engine ROLLBACK\n"
     ]
    }
   ],
   "execution_count": 6
  },
  {
   "metadata": {
    "ExecuteTime": {
     "end_time": "2024-07-11T23:03:52.821361Z",
     "start_time": "2024-07-11T23:03:52.811382Z"
    }
   },
   "cell_type": "code",
   "source": [
    "with engine.begin() as conn:\n",
    "    conn.execute(\n",
    "        text(\"INSERT INTO some_table (x, y) VALUES (:x, :y)\"), \n",
    "        [{\"x\": 6, \"y\": 8}, {\"x\": 9, \"y\": 10}]\n",
    "    )\n",
    "    "
   ],
   "id": "38c91efa8434559a",
   "outputs": [
    {
     "name": "stdout",
     "output_type": "stream",
     "text": [
      "2024-07-11 16:03:52,813 INFO sqlalchemy.engine.Engine BEGIN (implicit)\n",
      "2024-07-11 16:03:52,815 INFO sqlalchemy.engine.Engine INSERT INTO some_table (x, y) VALUES (?, ?)\n",
      "2024-07-11 16:03:52,817 INFO sqlalchemy.engine.Engine [cached since 0.1293s ago] [(6, 8), (9, 10)]\n",
      "2024-07-11 16:03:52,818 INFO sqlalchemy.engine.Engine COMMIT\n"
     ]
    }
   ],
   "execution_count": 7
  },
  {
   "metadata": {
    "ExecuteTime": {
     "end_time": "2024-07-11T23:03:52.878592Z",
     "start_time": "2024-07-11T23:03:52.866921Z"
    }
   },
   "cell_type": "code",
   "source": [
    "with engine.connect() as conn:\n",
    "    result = conn.execute(text(\"select * from some_table\"))\n",
    "    print(result.all())"
   ],
   "id": "5ac7d7f21d45e66b",
   "outputs": [
    {
     "name": "stdout",
     "output_type": "stream",
     "text": [
      "2024-07-11 16:03:52,868 INFO sqlalchemy.engine.Engine BEGIN (implicit)\n",
      "2024-07-11 16:03:52,870 INFO sqlalchemy.engine.Engine select * from some_table\n",
      "2024-07-11 16:03:52,872 INFO sqlalchemy.engine.Engine [cached since 0.07053s ago] ()\n",
      "[(1, 1), (2, 4), (6, 8), (9, 10)]\n",
      "2024-07-11 16:03:52,875 INFO sqlalchemy.engine.Engine ROLLBACK\n"
     ]
    }
   ],
   "execution_count": 8
  },
  {
   "metadata": {},
   "cell_type": "markdown",
   "source": [
    "## Statements execution\n",
    "\n",
    "### Fetching rows"
   ],
   "id": "ddceb6d281d7e776"
  },
  {
   "metadata": {
    "ExecuteTime": {
     "end_time": "2024-07-11T23:03:52.913520Z",
     "start_time": "2024-07-11T23:03:52.901521Z"
    }
   },
   "cell_type": "code",
   "source": [
    "with engine.connect() as conn:\n",
    "    result = conn.execute(text(\"SELECT x, y FROM some_table\"))\n",
    "    for row in result:\n",
    "        print(f\"x: {row.x}  y: {row.y}\")"
   ],
   "id": "5381faec57eb6987",
   "outputs": [
    {
     "name": "stdout",
     "output_type": "stream",
     "text": [
      "2024-07-11 16:03:52,903 INFO sqlalchemy.engine.Engine BEGIN (implicit)\n",
      "2024-07-11 16:03:52,905 INFO sqlalchemy.engine.Engine SELECT x, y FROM some_table\n",
      "2024-07-11 16:03:52,908 INFO sqlalchemy.engine.Engine [generated in 0.00483s] ()\n",
      "x: 1  y: 1\n",
      "x: 2  y: 4\n",
      "x: 6  y: 8\n",
      "x: 9  y: 10\n",
      "2024-07-11 16:03:52,910 INFO sqlalchemy.engine.Engine ROLLBACK\n"
     ]
    }
   ],
   "execution_count": 9
  },
  {
   "metadata": {
    "ExecuteTime": {
     "end_time": "2024-07-11T23:03:53.025688Z",
     "start_time": "2024-07-11T23:03:53.021882Z"
    }
   },
   "cell_type": "code",
   "source": "",
   "id": "eed1f1384df69585",
   "outputs": [],
   "execution_count": 9
  },
  {
   "metadata": {
    "ExecuteTime": {
     "end_time": "2024-07-11T23:03:53.102422Z",
     "start_time": "2024-07-11T23:03:53.050447Z"
    }
   },
   "cell_type": "code",
   "source": [
    "with engine.connect() as conn:\n",
    "    result = conn.execute(text(\"SELECT x, y FROM some_table WHERE y > :myparam\"), {\"myparam\": 2})\n",
    "    for row in result:\n",
    "        print(f\"x: {row.x}  y: {row.y}\")"
   ],
   "id": "ff61ff2203ffb6ef",
   "outputs": [
    {
     "name": "stdout",
     "output_type": "stream",
     "text": [
      "2024-07-11 16:03:53,053 INFO sqlalchemy.engine.Engine BEGIN (implicit)\n",
      "2024-07-11 16:03:53,066 INFO sqlalchemy.engine.Engine SELECT x, y FROM some_table WHERE y > ?\n",
      "2024-07-11 16:03:53,096 INFO sqlalchemy.engine.Engine [generated in 0.04364s] (2,)\n",
      "x: 2  y: 4\n",
      "x: 6  y: 8\n",
      "x: 9  y: 10\n",
      "2024-07-11 16:03:53,099 INFO sqlalchemy.engine.Engine ROLLBACK\n"
     ]
    }
   ],
   "execution_count": 10
  },
  {
   "metadata": {},
   "cell_type": "markdown",
   "source": "### Executing with an ORM Session\n",
   "id": "db838ec356af05c1"
  },
  {
   "metadata": {
    "ExecuteTime": {
     "end_time": "2024-07-11T23:03:53.165056Z",
     "start_time": "2024-07-11T23:03:53.133334Z"
    }
   },
   "cell_type": "code",
   "source": [
    "from sqlalchemy.orm import Session\n",
    "\n",
    "stmt = text(\"SELECT x, y FROM some_table WHERE y > :ymin ORDER BY x, y\")\n",
    "with Session(engine) as session:\n",
    "    result = session.execute(stmt, {\"ymin\": 6})\n",
    "    for row in result:\n",
    "        print(f\"x: {row.x}  y: {row.y}\")"
   ],
   "id": "969dc59b94cce15a",
   "outputs": [
    {
     "name": "stdout",
     "output_type": "stream",
     "text": [
      "2024-07-11 16:03:53,147 INFO sqlalchemy.engine.Engine BEGIN (implicit)\n",
      "2024-07-11 16:03:53,155 INFO sqlalchemy.engine.Engine SELECT x, y FROM some_table WHERE y > ? ORDER BY x, y\n",
      "2024-07-11 16:03:53,158 INFO sqlalchemy.engine.Engine [generated in 0.00258s] (6,)\n",
      "x: 6  y: 8\n",
      "x: 9  y: 10\n",
      "2024-07-11 16:03:53,161 INFO sqlalchemy.engine.Engine ROLLBACK\n"
     ]
    }
   ],
   "execution_count": 11
  }
 ],
 "metadata": {
  "kernelspec": {
   "display_name": "Python 3",
   "language": "python",
   "name": "python3"
  },
  "language_info": {
   "codemirror_mode": {
    "name": "ipython",
    "version": 2
   },
   "file_extension": ".py",
   "mimetype": "text/x-python",
   "name": "python",
   "nbconvert_exporter": "python",
   "pygments_lexer": "ipython2",
   "version": "2.7.6"
  }
 },
 "nbformat": 4,
 "nbformat_minor": 5
}
