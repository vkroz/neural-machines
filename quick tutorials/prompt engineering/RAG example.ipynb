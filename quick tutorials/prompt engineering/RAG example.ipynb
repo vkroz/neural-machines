{
 "cells": [
  {
   "metadata": {},
   "cell_type": "markdown",
   "source": "## Setup for inference",
   "id": "edb64eeaf5e58dda"
  },
  {
   "metadata": {
    "ExecuteTime": {
     "end_time": "2024-04-15T22:47:22.042969Z",
     "start_time": "2024-04-15T22:47:19.293855Z"
    }
   },
   "cell_type": "code",
   "source": [
    "import os\n",
    "\n",
    "from dotenv import load_dotenv\n",
    "from langchain_openai import ChatOpenAI\n",
    "\n",
    "load_dotenv()\n",
    "OPENAI_API_KEY = os.getenv('OPENAI_API_KEY')\n",
    "\n",
    "llm = ChatOpenAI(api_key=OPENAI_API_KEY)\n",
    "\n",
    "# Smoke test\n",
    "llm.invoke(\"How tall is the eiffel tower?\")"
   ],
   "id": "9bbc9c9eb4ac72ab",
   "outputs": [
    {
     "data": {
      "text/plain": [
       "AIMessage(content='The Eiffel Tower is 1,063 feet (324 meters) tall, including antennas.', response_metadata={'token_usage': {'completion_tokens': 20, 'prompt_tokens': 16, 'total_tokens': 36}, 'model_name': 'gpt-3.5-turbo', 'system_fingerprint': 'fp_c2295e73ad', 'finish_reason': 'stop', 'logprobs': None}, id='run-e0631445-8b1a-451d-a2f5-08a52e1fc5c6-0')"
      ]
     },
     "execution_count": 1,
     "metadata": {},
     "output_type": "execute_result"
    }
   ],
   "execution_count": 1
  },
  {
   "metadata": {},
   "cell_type": "markdown",
   "source": "### Retrieval Augmented Generation (RAG)",
   "id": "4cc545c884e80a2f"
  },
  {
   "metadata": {
    "ExecuteTime": {
     "end_time": "2024-04-15T22:47:23.047393Z",
     "start_time": "2024-04-15T22:47:22.046874Z"
    }
   },
   "cell_type": "code",
   "source": [
    "import pandas as pd\n",
    "\n",
    "df = pd.read_csv('../data/reinvent_qa.csv', delimiter=';')\n",
    "\n",
    "with pd.option_context(\"display.max_rows\", None):\n",
    "    with pd.option_context(\"display.max_colwidth\", None):\n",
    "        display(df.head())\n"
   ],
   "id": "c51fbbc95cd1a833",
   "outputs": [
    {
     "data": {
      "text/plain": [
       "                                             Question  \\\n",
       "0           What city was AWS re:Invent 2022 held in?   \n",
       "1             When did AWS re:Invent 2022 take place?   \n",
       "2      How many years has AWS re:Invent been running?   \n",
       "3  How many people attended re:Invent 2022 in person?   \n",
       "4  How many keynotes were featured at re:Invent 2022?   \n",
       "\n",
       "                            Answer  \n",
       "0                        Las Vegas  \n",
       "1  November 28 to December 2, 2022  \n",
       "2                         11 years  \n",
       "3                      Over 51,000  \n",
       "4                       5 keynotes  "
      ],
      "text/html": [
       "<div>\n",
       "<style scoped>\n",
       "    .dataframe tbody tr th:only-of-type {\n",
       "        vertical-align: middle;\n",
       "    }\n",
       "\n",
       "    .dataframe tbody tr th {\n",
       "        vertical-align: top;\n",
       "    }\n",
       "\n",
       "    .dataframe thead th {\n",
       "        text-align: right;\n",
       "    }\n",
       "</style>\n",
       "<table border=\"1\" class=\"dataframe\">\n",
       "  <thead>\n",
       "    <tr style=\"text-align: right;\">\n",
       "      <th></th>\n",
       "      <th>Question</th>\n",
       "      <th>Answer</th>\n",
       "    </tr>\n",
       "  </thead>\n",
       "  <tbody>\n",
       "    <tr>\n",
       "      <th>0</th>\n",
       "      <td>What city was AWS re:Invent 2022 held in?</td>\n",
       "      <td>Las Vegas</td>\n",
       "    </tr>\n",
       "    <tr>\n",
       "      <th>1</th>\n",
       "      <td>When did AWS re:Invent 2022 take place?</td>\n",
       "      <td>November 28 to December 2, 2022</td>\n",
       "    </tr>\n",
       "    <tr>\n",
       "      <th>2</th>\n",
       "      <td>How many years has AWS re:Invent been running?</td>\n",
       "      <td>11 years</td>\n",
       "    </tr>\n",
       "    <tr>\n",
       "      <th>3</th>\n",
       "      <td>How many people attended re:Invent 2022 in person?</td>\n",
       "      <td>Over 51,000</td>\n",
       "    </tr>\n",
       "    <tr>\n",
       "      <th>4</th>\n",
       "      <td>How many keynotes were featured at re:Invent 2022?</td>\n",
       "      <td>5 keynotes</td>\n",
       "    </tr>\n",
       "  </tbody>\n",
       "</table>\n",
       "</div>"
      ]
     },
     "metadata": {},
     "output_type": "display_data"
    }
   ],
   "execution_count": 2
  },
  {
   "metadata": {},
   "cell_type": "markdown",
   "source": "#### Prompting without retriever\n",
   "id": "561c69f4d45db02a"
  },
  {
   "metadata": {
    "ExecuteTime": {
     "end_time": "2024-04-15T22:48:22.624755Z",
     "start_time": "2024-04-15T22:48:22.167544Z"
    }
   },
   "cell_type": "code",
   "source": [
    "\n",
    "\n",
    "template = \"\"\"\n",
    "\n",
    "Human: Answer the question below.\n",
    "Keep your response as precise as possible and limit it to a few words. \n",
    "If you don't know the answer, respond \"I don't know\".\n",
    "\n",
    "Here is the question: \n",
    "{question}\n",
    "\n",
    "Assistant:\"\"\"\n",
    "\n",
    "\n",
    "def answer_question_llm(question: str) -> str:\n",
    "    prompt_message = PromptTemplate.from_template(template).format(\n",
    "        question=question\n",
    "    )\n",
    "    print(prompt_message)\n",
    "    answer = llm.invoke(prompt_message)\n",
    "    return answer.content.strip()\n",
    "\n",
    "\n",
    "# Smoke test\n",
    "answer_question_llm(\"What city was AWS re:Invent 2022 held in?\")"
   ],
   "id": "57a3ef4fda455d89",
   "outputs": [
    {
     "name": "stdout",
     "output_type": "stream",
     "text": [
      "\n",
      "\n",
      "Human: Answer the question below.\n",
      "Keep your response as precise as possible and limit it to a few words. \n",
      "If you don't know the answer, respond \"I don't know\".\n",
      "\n",
      "Here is the question: \n",
      "What city was AWS re:Invent 2022 held in?\n",
      "\n",
      "Assistant:\n"
     ]
    },
    {
     "data": {
      "text/plain": [
       "\"I don't know.\""
      ]
     },
     "execution_count": 4,
     "metadata": {},
     "output_type": "execute_result"
    }
   ],
   "execution_count": 4
  },
  {
   "metadata": {
    "ExecuteTime": {
     "end_time": "2024-04-15T22:48:37.792531Z",
     "start_time": "2024-04-15T22:48:28.835298Z"
    }
   },
   "cell_type": "code",
   "source": [
    "from langchain.prompts import PromptTemplate\n",
    "\n",
    "template = \"\"\"\n",
    "\n",
    "Human: Answer the question below.\n",
    "Keep your response as precise as possible and limit it to a few words. \n",
    "If you don't know the answer, respond \"I don't know\".\n",
    "\n",
    "Here is the question: \n",
    "{question}\n",
    "\n",
    "Assistant:\"\"\"\n",
    "\n",
    "def ask_llm(row):\n",
    "    prompt_message = PromptTemplate.from_template(template).format(\n",
    "        question=row['Question']\n",
    "    )\n",
    "    answer = llm.invoke(prompt_message)\n",
    "    return answer.content.strip()\n",
    "\n",
    "df[\"LLM_answer\"] = df.apply(ask_llm, axis=1)\n",
    "\n",
    "with pd.option_context(\"display.max_rows\", None):\n",
    "    with pd.option_context(\"display.max_colwidth\", None):\n",
    "        display(df.head())"
   ],
   "id": "81e4708d7a9e1431",
   "outputs": [
    {
     "data": {
      "text/plain": [
       "                                             Question  \\\n",
       "0           What city was AWS re:Invent 2022 held in?   \n",
       "1             When did AWS re:Invent 2022 take place?   \n",
       "2      How many years has AWS re:Invent been running?   \n",
       "3  How many people attended re:Invent 2022 in person?   \n",
       "4  How many keynotes were featured at re:Invent 2022?   \n",
       "\n",
       "                            Answer     LLM_answer  \n",
       "0                        Las Vegas      Las Vegas  \n",
       "1  November 28 to December 2, 2022  I don't know.  \n",
       "2                         11 years        9 years  \n",
       "3                      Over 51,000  I don't know.  \n",
       "4                       5 keynotes  I don't know.  "
      ],
      "text/html": [
       "<div>\n",
       "<style scoped>\n",
       "    .dataframe tbody tr th:only-of-type {\n",
       "        vertical-align: middle;\n",
       "    }\n",
       "\n",
       "    .dataframe tbody tr th {\n",
       "        vertical-align: top;\n",
       "    }\n",
       "\n",
       "    .dataframe thead th {\n",
       "        text-align: right;\n",
       "    }\n",
       "</style>\n",
       "<table border=\"1\" class=\"dataframe\">\n",
       "  <thead>\n",
       "    <tr style=\"text-align: right;\">\n",
       "      <th></th>\n",
       "      <th>Question</th>\n",
       "      <th>Answer</th>\n",
       "      <th>LLM_answer</th>\n",
       "    </tr>\n",
       "  </thead>\n",
       "  <tbody>\n",
       "    <tr>\n",
       "      <th>0</th>\n",
       "      <td>What city was AWS re:Invent 2022 held in?</td>\n",
       "      <td>Las Vegas</td>\n",
       "      <td>Las Vegas</td>\n",
       "    </tr>\n",
       "    <tr>\n",
       "      <th>1</th>\n",
       "      <td>When did AWS re:Invent 2022 take place?</td>\n",
       "      <td>November 28 to December 2, 2022</td>\n",
       "      <td>I don't know.</td>\n",
       "    </tr>\n",
       "    <tr>\n",
       "      <th>2</th>\n",
       "      <td>How many years has AWS re:Invent been running?</td>\n",
       "      <td>11 years</td>\n",
       "      <td>9 years</td>\n",
       "    </tr>\n",
       "    <tr>\n",
       "      <th>3</th>\n",
       "      <td>How many people attended re:Invent 2022 in person?</td>\n",
       "      <td>Over 51,000</td>\n",
       "      <td>I don't know.</td>\n",
       "    </tr>\n",
       "    <tr>\n",
       "      <th>4</th>\n",
       "      <td>How many keynotes were featured at re:Invent 2022?</td>\n",
       "      <td>5 keynotes</td>\n",
       "      <td>I don't know.</td>\n",
       "    </tr>\n",
       "  </tbody>\n",
       "</table>\n",
       "</div>"
      ]
     },
     "metadata": {},
     "output_type": "display_data"
    }
   ],
   "execution_count": 5
  },
  {
   "metadata": {},
   "cell_type": "markdown",
   "source": [
    "#### Prompting with retriever\n",
    "\n",
    "A way to incorporate current knowledge into the model is to use an information from related sources. Let's use LangChain document loader. "
   ],
   "id": "dea673c1dab38eb0"
  },
  {
   "metadata": {
    "ExecuteTime": {
     "end_time": "2024-04-15T22:48:46.575913Z",
     "start_time": "2024-04-15T22:48:42.228363Z"
    }
   },
   "cell_type": "code",
   "source": [
    "import re\n",
    "from langchain.document_loaders import UnstructuredURLLoader\n",
    "\n",
    "# List of URLs for the loader. We will only use one in this example.\n",
    "urls = [\n",
    "    \"https://aws.amazon.com/blogs/security/three-key-security-themes-from-aws-reinvent-2022/\",\n",
    "]\n",
    "\n",
    "# Define the URL Loader\n",
    "loader = UnstructuredURLLoader(urls=urls)\n",
    "\n",
    "# Load the data\n",
    "data = loader.load()\n",
    "\n",
    "# Pre-process the content for prettier display\n",
    "data[0].page_content = re.sub(\"\\n{3,}\", \"\\n\", data[0].page_content)\n",
    "data[0].page_content = re.sub(\" {2,}\", \" \", data[0].page_content)\n",
    "\n",
    "print(data[0].page_content[214:1200])\n",
    "print()"
   ],
   "id": "dcd4769b3b5c0614",
   "outputs": [
    {
     "name": "stdout",
     "output_type": "stream",
     "text": [
      "\n",
      "AWS re:Invent returned to Las Vegas, Nevada, November 28 to December 2, 2022. After a virtual event in 2020 and a hybrid 2021 edition, spirits were high as over 51,000 in-person attendees returned to network and learn about the latest AWS innovations.\n",
      "\n",
      "Now in its 11th year, the conference featured 5 keynotes, 22 leadership sessions, and more than 2,200 breakout sessions and hands-on labs at 6 venues over 5 days.\n",
      "\n",
      "With well over 100 service and feature announcements—and innumerable best practices shared by AWS executives, customers, and partners—distilling highlights is a challenge. From a security perspective, three key themes emerged.\n",
      "\n",
      "Turn data into actionable insights\n",
      "\n",
      "Security teams are always looking for ways to increase visibility into their security posture and uncover patterns to make more informed decisions. However, as AWS Vice President of Data and Machine Learning, Swami Sivasubramanian, pointed out during his keynote, data often exists in silos; it isn’t alw\n",
      "\n"
     ]
    }
   ],
   "execution_count": 6
  },
  {
   "metadata": {},
   "cell_type": "markdown",
   "source": [
    "#### Split documents into chunks\n",
    "\n",
    "Handling extensive documents can be problematic for RAG due to their potential to exceed the context window's capacity. To manage this, documents are typically divided into smaller segments. This division not only facilitates the retrieval of the most pertinent segments by the retriever but also prevents the need to process the whole document through an LLM at once. In this segment, we utilize the [`RecursiveCharacterTextSplitter`](https://api.python.langchain.com/en/latest/text_splitter/langchain.text_splitter.RecursiveCharacterTextSplitter.html), a standard [text splitter](https://python.langchain.com/docs/modules/data_connection/document_transformers/#text-splitters) tool in LangChain. This splitter operates by taking an array of separators, initially splitting the text using the first separator, and progressing to subsequent separators if the resulting segments are still excessively large.\n"
   ],
   "id": "e7974093e3f33508"
  },
  {
   "metadata": {
    "ExecuteTime": {
     "end_time": "2024-04-15T22:49:15.544275Z",
     "start_time": "2024-04-15T22:49:15.522860Z"
    }
   },
   "cell_type": "code",
   "source": [
    "import random\n",
    "from langchain.text_splitter import (\n",
    "    RecursiveCharacterTextSplitter,\n",
    ")\n",
    "\n",
    "# Use the recursive character splitter\n",
    "recur_splitter = RecursiveCharacterTextSplitter(\n",
    "    chunk_size=2000,\n",
    "    chunk_overlap=200,\n",
    "    separators=[r\"\\n\\n\", r\"\\n\", r\"(?<=\\. )\", r\" \", r\"\"],\n",
    "    is_separator_regex=True,\n",
    ")\n",
    "\n",
    "# Perform the splits using the splitter\n",
    "data_splits = recur_splitter.split_documents(data)\n",
    "\n",
    "# Print a random chunk\n",
    "print(random.choice(data_splits).page_content)"
   ],
   "id": "fcffad32090ecf37",
   "outputs": [
    {
     "name": "stdout",
     "output_type": "stream",
     "text": [
      "AWS Security Blog\n",
      "\n",
      "Three key security themes from AWS re:Invent 2022\n",
      "\n",
      "Anne Grahn and\n",
      "\n",
      "Paul Hawkins | on\n",
      "\n",
      "AWS re:Invent, Events, Security, Identity, & Compliance, Thought Leadership |\n",
      "\n",
      "Permalink |\n",
      "\n",
      "Comments |\n",
      "\n",
      "Share\n",
      "AWS re:Invent returned to Las Vegas, Nevada, November 28 to December 2, 2022. After a virtual event in 2020 and a hybrid 2021 edition, spirits were high as over 51,000 in-person attendees returned to network and learn about the latest AWS innovations.\n",
      "\n",
      "Now in its 11th year, the conference featured 5 keynotes, 22 leadership sessions, and more than 2,200 breakout sessions and hands-on labs at 6 venues over 5 days.\n",
      "\n",
      "With well over 100 service and feature announcements—and innumerable best practices shared by AWS executives, customers, and partners—distilling highlights is a challenge. From a security perspective, three key themes emerged.\n",
      "\n",
      "Turn data into actionable insights\n",
      "\n",
      "Security teams are always looking for ways to increase visibility into their security posture and uncover patterns to make more informed decisions. However, as AWS Vice President of Data and Machine Learning, Swami Sivasubramanian, pointed out during his keynote, data often exists in silos; it isn’t always easy to analyze or visualize, which can make it hard to identify correlations that spark new ideas.\n",
      "\n",
      "“Data is the genesis for modern invention.” – Swami Sivasubramanian, AWS VP of Data and Machine Learning\n"
     ]
    }
   ],
   "execution_count": 7
  },
  {
   "metadata": {},
   "cell_type": "markdown",
   "source": [
    "#### Embeddings and vector databases\n",
    "\n",
    "For RAG to be successful, we need a way of doing a semantic search to **retrieve the documents that contain the most relevant information to be used in the answer generation process**. At this stage, the concept of **embedding** comes into play. This is the transformation of the previously extracted and chunked text into a vector in a high-dimensional space that represents the semantic meaning.\n",
    "\n",
    "In this example we will use Amazon's  to generate the embeddings."
   ],
   "id": "4647429d95bbcee7"
  },
  {
   "metadata": {
    "ExecuteTime": {
     "end_time": "2024-04-15T22:54:06.210936Z",
     "start_time": "2024-04-15T22:54:05.977776Z"
    }
   },
   "cell_type": "code",
   "source": [
    "from langchain_openai import OpenAIEmbeddings\n",
    "\n",
    "llm_embeddings = OpenAIEmbeddings(\n",
    "    model=\"text-embedding-3-large\", \n",
    "    dimensions=1024, \n",
    "    api_key=OPENAI_API_KEY)\n",
    "\n",
    "# Smoke test\n",
    "text = \"This is a test document.\"\n",
    "query_result = llm_embeddings.embed_query(text)\n",
    "print(f\"\"\"\n",
    "    vector size: {len(query_result)}\n",
    "    query vectoir: {query_result[:25]} ...\n",
    "\"\"\")\n"
   ],
   "id": "8d52e78fc96390f5",
   "outputs": [
    {
     "name": "stdout",
     "output_type": "stream",
     "text": [
      "\n",
      "    vector size: 1024\n",
      "    query vectoir: [-0.019694647271140783, -0.0373372483308096, -0.027477411446023763, 0.07857839199827614, -0.030555480763231713, 0.02947940838592398, -0.03193185622055001, 0.0879377287167644, -0.02294789276413989, 0.02597591280977609, 0.02533777621533371, 0.033858777390447584, -0.021508956648679415, -0.06651635736201304, -0.009622099119529994, 0.05310297376686256, -0.03195687899369087, -0.0016563398507412205, -0.01775521285202776, -0.03228220484684229, 0.022685129431775666, 0.006140500798186626, -0.05665652047722721, 0.06246231048535083, 0.02177171998104364] ...\n",
      "\n"
     ]
    }
   ],
   "execution_count": 11
  },
  {
   "metadata": {},
   "cell_type": "markdown",
   "source": "We also need a place to store the documents' vector representation efficiently, allowing for quick retrieval. For the sake of this example we will use FAISS (Facebook AI Similarity Search). For real production system you will need scalable vector search databases. See more: https://python.langchain.com/docs/integrations/vectorstores/",
   "id": "9e48f47532969e70"
  },
  {
   "metadata": {
    "ExecuteTime": {
     "end_time": "2024-04-15T23:01:07.629300Z",
     "start_time": "2024-04-15T23:01:07.180151Z"
    }
   },
   "cell_type": "code",
   "source": [
    "from langchain_community.vectorstores import FAISS\n",
    "\n",
    "# Create a vector DB from documents retrieved from the URL and split with the RecursiveCharacterTextSplitter\n",
    "db = FAISS.from_documents(\n",
    "    data_splits,\n",
    "    llm_embeddings,\n",
    ")"
   ],
   "id": "7218abb685ae1a51",
   "outputs": [],
   "execution_count": 17
  },
  {
   "metadata": {
    "ExecuteTime": {
     "end_time": "2024-04-15T23:04:39.651486Z",
     "start_time": "2024-04-15T23:04:39.328396Z"
    }
   },
   "cell_type": "code",
   "source": [
    "docs = db.search(\"When was AWS Re:Invent?\", search_type='similarity')\n",
    "print(docs[0].page_content)\n"
   ],
   "id": "936ae7c702d08cc9",
   "outputs": [
    {
     "name": "stdout",
     "output_type": "stream",
     "text": [
      "AWS Security Blog\n",
      "\n",
      "Three key security themes from AWS re:Invent 2022\n",
      "\n",
      "Anne Grahn and\n",
      "\n",
      "Paul Hawkins | on\n",
      "\n",
      "AWS re:Invent, Events, Security, Identity, & Compliance, Thought Leadership |\n",
      "\n",
      "Permalink |\n",
      "\n",
      "Comments |\n",
      "\n",
      "Share\n",
      "AWS re:Invent returned to Las Vegas, Nevada, November 28 to December 2, 2022. After a virtual event in 2020 and a hybrid 2021 edition, spirits were high as over 51,000 in-person attendees returned to network and learn about the latest AWS innovations.\n",
      "\n",
      "Now in its 11th year, the conference featured 5 keynotes, 22 leadership sessions, and more than 2,200 breakout sessions and hands-on labs at 6 venues over 5 days.\n",
      "\n",
      "With well over 100 service and feature announcements—and innumerable best practices shared by AWS executives, customers, and partners—distilling highlights is a challenge. From a security perspective, three key themes emerged.\n",
      "\n",
      "Turn data into actionable insights\n",
      "\n",
      "Security teams are always looking for ways to increase visibility into their security posture and uncover patterns to make more informed decisions. However, as AWS Vice President of Data and Machine Learning, Swami Sivasubramanian, pointed out during his keynote, data often exists in silos; it isn’t always easy to analyze or visualize, which can make it hard to identify correlations that spark new ideas.\n",
      "\n",
      "“Data is the genesis for modern invention.” – Swami Sivasubramanian, AWS VP of Data and Machine Learning\n"
     ]
    }
   ],
   "execution_count": 20
  },
  {
   "metadata": {},
   "cell_type": "markdown",
   "source": [
    "#### Prompting with retriever\n",
    "\n",
    "Finally, let's  assemble the text generation with the LLM and the retriever. The query to the model is converted into a vector using the embedding model. This query vector represents the semantic meaning of the user's query. To find the most relevant documents to the user's query, we use a process called \"vector similarity search\". In essence, this process compares the query vector with all the document vectors in the database, finding the ones most similar to the query vector. The similarity between vectors is typically measured using the \"cosine similarity\", which captures the angle between the vectors in a multidimensional space. The documents corresponding to the most similar vectors are then returned as the search results.\n",
    "\n",
    "https://python.langchain.com/docs/modules/data_connection/retrievers/\n"
   ],
   "id": "3424aae9342b9018"
  },
  {
   "metadata": {
    "ExecuteTime": {
     "end_time": "2024-04-15T23:30:21.012908Z",
     "start_time": "2024-04-15T23:30:00.708612Z"
    }
   },
   "cell_type": "code",
   "source": [
    "import warnings\n",
    "from langchain.chains import RetrievalQA\n",
    "from langchain.prompts import PromptTemplate\n",
    "\n",
    "# Supress warnings\n",
    "warnings.filterwarnings(\"ignore\")\n",
    "\n",
    "context_template = \"\"\"\n",
    "\n",
    "Human: Answer the question below.\n",
    "Use the given context to answer the question. \n",
    "If you don't know the answer, respond \"I don't know\".\n",
    "Keep your response as precise as possible and limit it to a few words. \n",
    "\n",
    "Here is the context:\n",
    "{context}\n",
    "\n",
    "Here is the question: \n",
    "{question}\n",
    "\n",
    "Assistant:\"\"\"\n",
    "\n",
    "# Define the prompt template for Q&A\n",
    "context_prompt_template = PromptTemplate.from_template(context_template)\n",
    "\n",
    "# Define the RetrievalQ&A chain\n",
    "# We pass the llm and the FAISS vector store, retrieving the k most relevant documents\n",
    "rag_chain = RetrievalQA.from_chain_type(\n",
    "    llm,\n",
    "    retriever=db.as_retriever(\n",
    "        search_type=\"similarity\", search_kwargs={\"k\": 3}\n",
    "    ),\n",
    "    return_source_documents=True,\n",
    "    chain_type=\"stuff\",\n",
    "    chain_type_kwargs={\"prompt\": context_prompt_template},\n",
    ")\n",
    "\n",
    "# Perform RAG using the RetrievalQA chain with FAISS as retriever\n",
    "df[\"LLM_answer \"] = df.Question.apply(\n",
    "    lambda question: rag_chain({\"query\": question})[\"result\"].strip()\n",
    ")\n",
    "\n",
    "with pd.option_context(\"display.max_rows\", None):\n",
    "    with pd.option_context(\"display.max_colwidth\", None):\n",
    "        display(df.head())"
   ],
   "id": "f016cce879a0ad1e",
   "outputs": [
    {
     "data": {
      "text/plain": [
       "                                             Question  \\\n",
       "0           What city was AWS re:Invent 2022 held in?   \n",
       "1             When did AWS re:Invent 2022 take place?   \n",
       "2      How many years has AWS re:Invent been running?   \n",
       "3  How many people attended re:Invent 2022 in person?   \n",
       "4  How many keynotes were featured at re:Invent 2022?   \n",
       "\n",
       "                            Answer                       LLM_answer  \\\n",
       "0                        Las Vegas                        Las Vegas   \n",
       "1  November 28 to December 2, 2022  November 28 to December 2, 2022   \n",
       "2                         11 years                               11   \n",
       "3                      Over 51,000                      Over 51,000   \n",
       "4                       5 keynotes                                5   \n",
       "\n",
       "                 claude_rag_answer  \n",
       "0                        Las Vegas  \n",
       "1  November 28 to December 2, 2022  \n",
       "2                        11 years.  \n",
       "3                      Over 51,000  \n",
       "4                                5  "
      ],
      "text/html": [
       "<div>\n",
       "<style scoped>\n",
       "    .dataframe tbody tr th:only-of-type {\n",
       "        vertical-align: middle;\n",
       "    }\n",
       "\n",
       "    .dataframe tbody tr th {\n",
       "        vertical-align: top;\n",
       "    }\n",
       "\n",
       "    .dataframe thead th {\n",
       "        text-align: right;\n",
       "    }\n",
       "</style>\n",
       "<table border=\"1\" class=\"dataframe\">\n",
       "  <thead>\n",
       "    <tr style=\"text-align: right;\">\n",
       "      <th></th>\n",
       "      <th>Question</th>\n",
       "      <th>Answer</th>\n",
       "      <th>LLM_answer</th>\n",
       "      <th>claude_rag_answer</th>\n",
       "    </tr>\n",
       "  </thead>\n",
       "  <tbody>\n",
       "    <tr>\n",
       "      <th>0</th>\n",
       "      <td>What city was AWS re:Invent 2022 held in?</td>\n",
       "      <td>Las Vegas</td>\n",
       "      <td>Las Vegas</td>\n",
       "      <td>Las Vegas</td>\n",
       "    </tr>\n",
       "    <tr>\n",
       "      <th>1</th>\n",
       "      <td>When did AWS re:Invent 2022 take place?</td>\n",
       "      <td>November 28 to December 2, 2022</td>\n",
       "      <td>November 28 to December 2, 2022</td>\n",
       "      <td>November 28 to December 2, 2022</td>\n",
       "    </tr>\n",
       "    <tr>\n",
       "      <th>2</th>\n",
       "      <td>How many years has AWS re:Invent been running?</td>\n",
       "      <td>11 years</td>\n",
       "      <td>11</td>\n",
       "      <td>11 years.</td>\n",
       "    </tr>\n",
       "    <tr>\n",
       "      <th>3</th>\n",
       "      <td>How many people attended re:Invent 2022 in person?</td>\n",
       "      <td>Over 51,000</td>\n",
       "      <td>Over 51,000</td>\n",
       "      <td>Over 51,000</td>\n",
       "    </tr>\n",
       "    <tr>\n",
       "      <th>4</th>\n",
       "      <td>How many keynotes were featured at re:Invent 2022?</td>\n",
       "      <td>5 keynotes</td>\n",
       "      <td>5</td>\n",
       "      <td>5</td>\n",
       "    </tr>\n",
       "  </tbody>\n",
       "</table>\n",
       "</div>"
      ]
     },
     "metadata": {},
     "output_type": "display_data"
    }
   ],
   "execution_count": 22
  },
  {
   "metadata": {},
   "cell_type": "markdown",
   "source": [
    "#### Evaluation\n",
    "\n",
    "TBD"
   ],
   "id": "4c77f5ac80863fad"
  }
 ],
 "metadata": {
  "kernelspec": {
   "display_name": "Python 3",
   "language": "python",
   "name": "python3"
  },
  "language_info": {
   "codemirror_mode": {
    "name": "ipython",
    "version": 2
   },
   "file_extension": ".py",
   "mimetype": "text/x-python",
   "name": "python",
   "nbconvert_exporter": "python",
   "pygments_lexer": "ipython2",
   "version": "2.7.6"
  }
 },
 "nbformat": 4,
 "nbformat_minor": 5
}
