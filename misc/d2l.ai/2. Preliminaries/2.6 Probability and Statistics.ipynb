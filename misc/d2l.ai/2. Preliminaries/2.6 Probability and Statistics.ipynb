{
 "cells": [
  {
   "cell_type": "code",
   "execution_count": 1,
   "metadata": {
    "collapsed": true,
    "ExecuteTime": {
     "end_time": "2023-08-09T01:09:20.931565Z",
     "start_time": "2023-08-09T01:09:16.671515Z"
    }
   },
   "outputs": [],
   "source": [
    "%matplotlib inline\n",
    "import random\n",
    "import torch\n",
    "from torch.distributions import multinomial\n"
   ]
  },
  {
   "cell_type": "markdown",
   "source": [
    "## Basic concept of a discrete random variable.\n",
    "\n",
    "**Discrete Random Variable:**\n",
    "In probability theory, a random variable is a variable that can take on different values based on the outcome of a random event. A discrete random variable is one that can only take on distinct, separate values, typically integers. For example, when rolling a six-sided die, the number rolled is a discrete random variable because it can only take values from 1 to 6.\n",
    "\n",
    "**Probability Mass Function (PMF):**\n",
    "For a discrete random variable, the probability mass function (PMF) gives the probability of each possible value that the random variable can take. The PMF provides a probability distribution for the discrete random variable, showing how likely each outcome is. PMF is represented by tensor (array). \n"
   ],
   "metadata": {
    "collapsed": false
   }
  },
  {
   "cell_type": "code",
   "execution_count": 10,
   "outputs": [
    {
     "data": {
      "text/plain": "tensor([0.1667, 0.1667, 0.1667, 0.1667, 0.1667, 0.1667])"
     },
     "execution_count": 10,
     "metadata": {},
     "output_type": "execute_result"
    }
   ],
   "source": [
    "# Here PMF for fair dice\n",
    "fair_probs = torch.ones(6) / 6\n",
    "fair_probs"
   ],
   "metadata": {
    "collapsed": false,
    "ExecuteTime": {
     "end_time": "2023-08-09T01:27:06.276200Z",
     "start_time": "2023-08-09T01:27:06.260030Z"
    }
   }
  },
  {
   "cell_type": "markdown",
   "source": [
    "**Binomial Distribution:**\n",
    "\n",
    "The binomial distribution is a discrete probability distribution that models the number of successes in a fixed number of independent Bernoulli trials. A Bernoulli trial is a random experiment with two possible outcomes, often referred to as \"success\" and \"failure.\" The binomial distribution is characterized by two parameters:\n",
    "\n",
    "1. **n**: The number of trials.\n",
    "2. **p**: The probability of success in each trial.\n",
    "\n",
    "The probability mass function (PMF) of the binomial distribution gives the probability of getting exactly $k$ successes in $n$ trials, and it is given by the formula:\n",
    "\n",
    "$P(X = k) = \\binom{n}{k} \\cdot p^k \\cdot (1 - p)^{n - k} $\n",
    "\n",
    "Where $\\binom{n}{k}$ represents the binmial coefficient, which is the number of ways to choose $k$ successes out of $n$ trials. \n",
    "The formula to calculate the binomial coefficient is:\n",
    "\n",
    "$\\binom{n}{k} = \\frac{n!}{k!\\cdot (n-k)!}$  \n",
    "\n"
   ],
   "metadata": {
    "collapsed": false
   }
  },
  {
   "cell_type": "markdown",
   "source": [
    "**Example 1: Coin Flips**\n",
    "Suppose you have a fair coin (p = 0.5) and you flip it 5 times (n = 5). What is the probability of getting exactly 3 heads?"
   ],
   "metadata": {
    "collapsed": false
   }
  },
  {
   "cell_type": "code",
   "execution_count": 16,
   "outputs": [
    {
     "data": {
      "text/plain": "(10.0, 0.3125)"
     },
     "execution_count": 16,
     "metadata": {},
     "output_type": "execute_result"
    }
   ],
   "source": [
    "from math import factorial\n",
    "\n",
    "p = 0.5\n",
    "n = 5\n",
    "k = 3\n",
    "binom = factorial(n) / (factorial(k) * factorial(n - k))\n",
    "p = binom * pow(p, k) * pow(1-p, n-k)\n",
    "binom, p\n"
   ],
   "metadata": {
    "collapsed": false,
    "ExecuteTime": {
     "end_time": "2023-08-09T01:56:48.964431Z",
     "start_time": "2023-08-09T01:56:48.952005Z"
    }
   }
  },
  {
   "cell_type": "markdown",
   "source": [
    "In Python, there are several tools and libraries that you can use to work with the binomial distribution:"
   ],
   "metadata": {
    "collapsed": false
   }
  },
  {
   "cell_type": "code",
   "execution_count": 3,
   "outputs": [
    {
     "data": {
      "text/plain": "tensor([0.1000, 0.1000, 0.3000, 0.0000, 0.4000, 0.1000])"
     },
     "execution_count": 3,
     "metadata": {},
     "output_type": "execute_result"
    }
   ],
   "source": [
    "n = 10\n",
    "multinomial.Multinomial(n, fair_probs).sample() / n\n"
   ],
   "metadata": {
    "collapsed": false,
    "ExecuteTime": {
     "end_time": "2023-08-09T01:09:21.004031Z",
     "start_time": "2023-08-09T01:09:20.948935Z"
    }
   }
  },
  {
   "cell_type": "code",
   "execution_count": 4,
   "outputs": [
    {
     "data": {
      "text/plain": "(10000, 5014, 4986)"
     },
     "execution_count": 4,
     "metadata": {},
     "output_type": "execute_result"
    }
   ],
   "source": [
    "n = 10000\n",
    "h = [random.random() > 0.5 for _ in range(n)]\n",
    "n_heads = sum(h)\n",
    "n_tails = n - n_heads\n",
    "n, n_heads, n_tails\n"
   ],
   "metadata": {
    "collapsed": false,
    "ExecuteTime": {
     "end_time": "2023-08-09T01:09:21.018502Z",
     "start_time": "2023-08-09T01:09:21.009888Z"
    }
   }
  },
  {
   "cell_type": "code",
   "execution_count": 5,
   "outputs": [
    {
     "data": {
      "text/plain": "tensor([0.5005, 0.4995])"
     },
     "execution_count": 5,
     "metadata": {},
     "output_type": "execute_result"
    }
   ],
   "source": [
    "fair_probs = torch.tensor([0.5, 0.5])\n",
    "n_tosses = 100000\n",
    "from torch.distributions.multinomial import Multinomial\n",
    "\n",
    "Multinomial(n_tosses, fair_probs).sample() / n_tosses\n"
   ],
   "metadata": {
    "collapsed": false,
    "ExecuteTime": {
     "end_time": "2023-08-09T01:09:21.094945Z",
     "start_time": "2023-08-09T01:09:21.018705Z"
    }
   }
  },
  {
   "cell_type": "code",
   "execution_count": 6,
   "outputs": [
    {
     "data": {
      "text/plain": "torch.Size([500, 2])"
     },
     "execution_count": 6,
     "metadata": {},
     "output_type": "execute_result"
    }
   ],
   "source": [
    "fair_probs = torch.tensor([0.5, 0.5])\n",
    "counts = Multinomial(1000, fair_probs).sample((500,))\n",
    "cum_counts = counts.cumsum(dim=0)\n",
    "estimates = cum_counts / cum_counts.sum(dim=1, keepdims=True)\n",
    "\n",
    "cum_counts.shape"
   ],
   "metadata": {
    "collapsed": false,
    "ExecuteTime": {
     "end_time": "2023-08-09T01:09:21.097599Z",
     "start_time": "2023-08-09T01:09:21.037490Z"
    }
   }
  },
  {
   "cell_type": "code",
   "execution_count": 7,
   "outputs": [
    {
     "data": {
      "text/plain": "torch.Size([500, 2])"
     },
     "execution_count": 7,
     "metadata": {},
     "output_type": "execute_result"
    }
   ],
   "source": [
    "estimates.shape"
   ],
   "metadata": {
    "collapsed": false,
    "ExecuteTime": {
     "end_time": "2023-08-09T01:09:21.099215Z",
     "start_time": "2023-08-09T01:09:21.070659Z"
    }
   }
  },
  {
   "cell_type": "code",
   "execution_count": 8,
   "outputs": [
    {
     "data": {
      "text/plain": "<Figure size 600x450 with 1 Axes>",
      "image/png": "[encoded data removed]"
     },
     "metadata": {},
     "output_type": "display_data"
    }
   ],
   "source": [
    "import matplotlib.pyplot as plt\n",
    "\n",
    "n_experiments, n_categories = estimates.shape\n",
    "\n",
    "plt.figure(figsize=(6, 4.5))\n",
    "\n",
    "for i in range(n_categories):\n",
    "    plt.plot(range(n_experiments), estimates[:, i], label=f'Category {i + 1}')\n",
    "\n",
    "plt.xlabel('Number of Experiments')\n",
    "plt.ylabel('Probability Estimate')\n",
    "plt.title('Convergence of Probability Estimates')\n",
    "plt.legend()\n",
    "plt.grid(True)\n",
    "plt.show()\n",
    "\n"
   ],
   "metadata": {
    "collapsed": false,
    "ExecuteTime": {
     "end_time": "2023-08-09T01:09:21.327962Z",
     "start_time": "2023-08-09T01:09:21.094105Z"
    }
   }
  },
  {
   "cell_type": "code",
   "execution_count": 9,
   "outputs": [
    {
     "data": {
      "text/plain": "range(0, 500)"
     },
     "execution_count": 9,
     "metadata": {},
     "output_type": "execute_result"
    }
   ],
   "source": [
    "range(n_experiments)\n"
   ],
   "metadata": {
    "collapsed": false,
    "ExecuteTime": {
     "end_time": "2023-08-09T01:09:21.338910Z",
     "start_time": "2023-08-09T01:09:21.327169Z"
    }
   }
  }
 ],
 "metadata": {
  "kernelspec": {
   "display_name": "Python 3",
   "language": "python",
   "name": "python3"
  },
  "language_info": {
   "codemirror_mode": {
    "name": "ipython",
    "version": 2
   },
   "file_extension": ".py",
   "mimetype": "text/x-python",
   "name": "python",
   "nbconvert_exporter": "python",
   "pygments_lexer": "ipython2",
   "version": "2.7.6"
  }
 },
 "nbformat": 4,
 "nbformat_minor": 0
}
