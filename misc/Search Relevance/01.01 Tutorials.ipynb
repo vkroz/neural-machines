{
 "cells": [
  {
   "cell_type": "markdown",
   "id": "77c4908662af9421",
   "metadata": {
    "collapsed": false
   },
   "source": [
    "# Tutorials for me to take\n",
    "\n",
    "https://towardsdatascience.com/introduction-to-ranking-algorithms-4e4639d65b8\n",
    "https://towardsdatascience.com/learning-to-rank-a-complete-guide-to-ranking-using-machine-learning-4c9688d370d4\n",
    "https://www.searchenginejournal.com/build-search-ranking-algorithm-machine-learning/297047/\n"
   ]
  },
  {
   "cell_type": "code",
   "execution_count": 2,
   "id": "dbac5dd3-665e-4d51-be27-bd57d5bc2bfd",
   "metadata": {
    "ExecuteTime": {
     "end_time": "2024-03-11T23:04:54.576080Z",
     "start_time": "2024-03-11T23:04:54.522696Z"
    }
   },
   "outputs": [],
   "source": [
    "## BM25\n",
    "\n"
   ]
  },
  {
   "cell_type": "markdown",
   "id": "738e1f5e-d4e7-49d0-9e4c-00099c41b24e",
   "metadata": {
    "ExecuteTime": {
     "end_time": "2024-03-09T01:58:23.673120Z",
     "start_time": "2024-03-09T01:58:23.661286Z"
    },
    "collapsed": false
   },
   "source": [
    "## Learning to Rank\n",
    "\n",
    "Feature vectors:\n",
    "- Document features (doc.length, popularity, reviews, ...)\n",
    "- Query features (frequent query, length, known intent)\n",
    "- features derived from a combination of doc and query (BM-25, TF-IDF)\n",
    "\n"
   ]
  },
  {
   "cell_type": "markdown",
   "id": "6ecb1048d5f3288",
   "metadata": {
    "collapsed": false
   },
   "source": [
    "# Manual Example of Measuring Ranking\n",
    "\n",
    "It would be useful to include a step-by-step example illustrating how to manually calculate these metrics using a simple dataset.\n",
    "Consider discussing the limitations and challenges of manual measurement in real-world applications."
   ]
  },
  {
   "cell_type": "code",
   "execution_count": 3,
   "id": "6587c49c186b8abe",
   "metadata": {
    "collapsed": false,
    "ExecuteTime": {
     "end_time": "2024-03-11T23:04:57.195081Z",
     "start_time": "2024-03-11T23:04:57.190937Z"
    }
   },
   "outputs": [],
   "source": [
    "from neuralsearch.metrics import *\n",
    "\n"
   ]
  },
  {
   "cell_type": "code",
   "execution_count": 5,
   "id": "736d3d6973c43845",
   "metadata": {
    "collapsed": false,
    "ExecuteTime": {
     "end_time": "2024-03-11T23:06:30.024278Z",
     "start_time": "2024-03-11T23:06:30.004390Z"
    }
   },
   "outputs": [],
   "source": [
    "\"\"\"\n",
    "Sample data\n",
    "\"\"\"\n",
    "\n",
    "docs = [\n",
    "    {\"id\": 1, \"title\": \"apple\"},\n",
    "    {\"id\": 2, \"title\": \"banana\"}, \n",
    "    {\"id\": 3, \"title\": \"cherry\"},\n",
    "    {\"id\": 4, \"title\": \"smartphone by apple\"}, \n",
    "    {\"id\": 5, \"title\": \"fruits collection with oranges, bananas, and apples\"}, \n",
    "    {\"id\": 6, \"title\": \"apple pie recipe\"}, \n",
    "    {\"id\": 7, \"title\": \"apple cider vinegar\"}, \n",
    "    {\"id\": 8, \"title\": \"apple cider vinegar benefits\"}, \n",
    "    {\"id\": 9, \"title\": \"cider vinegar for weight loss\"}, \n",
    "    {\"id\": 10, \"title\": \"apple cider vinegar for hair\"}, \n",
    "]\n",
    "\n",
    "queries = [\n",
    "    {\"id\": 1, \"query\": \"apple\"}, {\"id\": 2, \"query\": \"banana\"}, {\"id\": 3, \"query\": \"cherry\"}\n",
    "]\n"
   ]
  },
  {
   "cell_type": "code",
   "execution_count": 6,
   "id": "d8545ac5a1b39725",
   "metadata": {
    "collapsed": false,
    "ExecuteTime": {
     "end_time": "2024-03-11T23:06:34.387386Z",
     "start_time": "2024-03-11T23:06:34.376427Z"
    }
   },
   "outputs": [],
   "source": [
    "\"\"\"\n",
    "Now let's assume we have search result for query 1\n",
    "\"\"\"\n",
    "\n",
    "search_results = [\n",
    "    {\"query_id\": 1, \"doc_id\": 1, \"rank\": 1, \"relevance\": 1},\n",
    "    {\"query_id\": 1, \"doc_id\": 2, \"rank\": 2, \"relevance\": 0},\n",
    "    {\"query_id\": 1, \"doc_id\": 3, \"rank\": 3, \"relevance\": 0},\n",
    "    {\"query_id\": 1, \"doc_id\": 4, \"rank\": 4, \"relevance\": 0},\n",
    "    {\"query_id\": 1, \"doc_id\": 5, \"rank\": 5, \"relevance\": 0},\n",
    "    {\"query_id\": 1, \"doc_id\": 6, \"rank\": 6, \"relevance\": 0},\n",
    "    {\"query_id\": 1, \"doc_id\": 7, \"rank\": 7, \"relevance\": 0},\n",
    "    {\"query_id\": 1, \"doc_id\": 8, \"rank\": 8, \"relevance\": 0},\n",
    "    {\"query_id\": 1, \"doc_id\": 9, \"rank\": 9, \"relevance\": 0},\n",
    "    {\"query_id\": 1, \"doc_id\": 10, \"rank\": 10, \"relevance\": 0}\n",
    "]"
   ]
  },
  {
   "cell_type": "code",
   "outputs": [],
   "source": [],
   "metadata": {
    "collapsed": false
   },
   "id": "2c2965970b62cd4e"
  }
 ],
 "metadata": {
  "kernelspec": {
   "display_name": "Python 3 (ipykernel)",
   "language": "python",
   "name": "python3"
  },
  "language_info": {
   "codemirror_mode": {
    "name": "ipython",
    "version": 3
   },
   "file_extension": ".py",
   "mimetype": "text/x-python",
   "name": "python",
   "nbconvert_exporter": "python",
   "pygments_lexer": "ipython3",
   "version": "3.10.13"
  }
 },
 "nbformat": 4,
 "nbformat_minor": 5
}
