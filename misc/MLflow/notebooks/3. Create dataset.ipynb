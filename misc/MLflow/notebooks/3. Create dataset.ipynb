{
 "cells": [
  {
   "cell_type": "markdown",
   "source": [
    "Create a dataset about apples. \n",
    "Defining a dataset generator"
   ],
   "metadata": {
    "collapsed": false
   },
   "id": "aba53e20f26d3290"
  },
  {
   "cell_type": "code",
   "outputs": [],
   "source": [
    "import pandas as pd\n",
    "import numpy as np\n",
    "from datetime import datetime, timedelta\n",
    "\n",
    "\n",
    "def generate_apple_sales_data_with_promo_adjustment(\n",
    "        base_demand: int = 1000, n_rows: int = 5000\n",
    "):\n",
    "    \"\"\"\n",
    "    Generates a synthetic dataset for predicting apple sales demand with seasonality\n",
    "    and inflation.\n",
    "\n",
    "    This function creates a pandas DataFrame with features relevant to apple sales.\n",
    "    The features include date, average_temperature, rainfall, weekend flag, holiday flag,\n",
    "    promotional flag, price_per_kg, and the previous day's demand. The target variable,\n",
    "    'demand', is generated based on a combination of these features with some added noise.\n",
    "\n",
    "    Args:\n",
    "        base_demand (int, optional): Base demand for apples. Defaults to 1000.\n",
    "        n_rows (int, optional): Number of rows (days) of data to generate. Defaults to 5000.\n",
    "\n",
    "    Returns:\n",
    "        pd.DataFrame: DataFrame with features and target variable for apple sales prediction.\n",
    "\n",
    "    Example:\n",
    "        >>> df = generate_apple_sales_data_with_seasonality(base_demand=1200, n_rows=6000)\n",
    "        >>> df.head()\n",
    "    \"\"\"\n",
    "\n",
    "    # Set seed for reproducibility\n",
    "    np.random.seed(9999)\n",
    "\n",
    "    # Create date range\n",
    "    dates = [datetime.now() - timedelta(days=i) for i in range(n_rows)]\n",
    "    dates.reverse()\n",
    "\n",
    "    # Generate features\n",
    "    df = pd.DataFrame(\n",
    "        {\n",
    "            \"date\": dates,\n",
    "            \"average_temperature\": np.random.uniform(10, 35, n_rows),\n",
    "            \"rainfall\": np.random.exponential(5, n_rows),\n",
    "            \"weekend\": [(date.weekday() >= 5) * 1 for date in dates],\n",
    "            \"holiday\": np.random.choice([0, 1], n_rows, p=[0.97, 0.03]),\n",
    "            \"price_per_kg\": np.random.uniform(0.5, 3, n_rows),\n",
    "            \"month\": [date.month for date in dates],\n",
    "        }\n",
    "    )\n",
    "\n",
    "    # Introduce inflation over time (years)\n",
    "    df[\"inflation_multiplier\"] = (\n",
    "            1 + (df[\"date\"].dt.year - df[\"date\"].dt.year.min()) * 0.03\n",
    "    )\n",
    "\n",
    "    # Incorporate seasonality due to apple harvests\n",
    "    df[\"harvest_effect\"] = np.sin(2 * np.pi * (df[\"month\"] - 3) / 12) + np.sin(\n",
    "        2 * np.pi * (df[\"month\"] - 9) / 12\n",
    "    )\n",
    "\n",
    "    # Modify the price_per_kg based on harvest effect\n",
    "    df[\"price_per_kg\"] = df[\"price_per_kg\"] - df[\"harvest_effect\"] * 0.5\n",
    "\n",
    "    # Adjust promo periods to coincide with periods lagging peak harvest by 1 month\n",
    "    peak_months = [4, 10]  # months following the peak availability\n",
    "    df[\"promo\"] = np.where(\n",
    "        df[\"month\"].isin(peak_months),\n",
    "        1,\n",
    "        np.random.choice([0, 1], n_rows, p=[0.85, 0.15]),\n",
    "    )\n",
    "\n",
    "    # Generate target variable based on features\n",
    "    base_price_effect = -df[\"price_per_kg\"] * 50\n",
    "    seasonality_effect = df[\"harvest_effect\"] * 50\n",
    "    promo_effect = df[\"promo\"] * 200\n",
    "\n",
    "    df[\"demand\"] = (\n",
    "                           base_demand\n",
    "                           + base_price_effect\n",
    "                           + seasonality_effect\n",
    "                           + promo_effect\n",
    "                           + df[\"weekend\"] * 300\n",
    "                           + np.random.normal(0, 50, n_rows)\n",
    "                   ) * df[\n",
    "                       \"inflation_multiplier\"\n",
    "                   ]  # adding random noise\n",
    "\n",
    "    # Add previous day's demand\n",
    "    df[\"previous_days_demand\"] = df[\"demand\"].shift(1)\n",
    "    df[\"previous_days_demand\"].fillna(\n",
    "        method=\"bfill\", inplace=True\n",
    "    )  # fill the first row\n",
    "\n",
    "    # Drop temporary columns\n",
    "    df.drop(columns=[\"inflation_multiplier\", \"harvest_effect\", \"month\"], inplace=True)\n",
    "\n",
    "    return df\n"
   ],
   "metadata": {
    "collapsed": false,
    "ExecuteTime": {
     "end_time": "2024-01-30T16:23:04.330434Z",
     "start_time": "2024-01-30T16:23:02.423085Z"
    }
   },
   "id": "90a9d81959121556",
   "execution_count": 1
  },
  {
   "cell_type": "code",
   "outputs": [
    {
     "name": "stderr",
     "output_type": "stream",
     "text": [
      "/var/folders/vf/7kzgyz110g77_tj0dtxhhrk80000gs/T/ipykernel_41270/3829094379.py:89: FutureWarning: Series.fillna with 'method' is deprecated and will raise in a future version. Use obj.ffill() or obj.bfill() instead.\n",
      "  df[\"previous_days_demand\"].fillna(\n"
     ]
    },
    {
     "data": {
      "text/plain": "                           date  average_temperature   rainfall  weekend  \\\n0    2010-05-24 08:23:14.271950            30.584727   1.199291        0   \n1    2010-05-25 08:23:14.271947            15.465069   1.037626        0   \n2    2010-05-26 08:23:14.271945            10.786525   5.656089        0   \n3    2010-05-27 08:23:14.271942            23.648154  12.030937        0   \n4    2010-05-28 08:23:14.271940            13.861391   4.303812        0   \n...                         ...                  ...        ...      ...   \n4995 2024-01-26 08:23:14.263375            21.643051   3.821656        0   \n4996 2024-01-27 08:23:14.263374            13.808813   1.080603        1   \n4997 2024-01-28 08:23:14.263372            11.698227   1.911000        1   \n4998 2024-01-29 08:23:14.263370            18.052081   1.000521        0   \n4999 2024-01-30 08:23:14.263362            17.017294   0.650213        0   \n\n      holiday  price_per_kg  promo       demand  previous_days_demand  \n0           0      1.726258      0   851.276659            851.276659  \n1           0      0.576471      0   906.836626            851.276659  \n2           0      2.513328      0   857.895424            906.836626  \n3           0      1.839225      0   848.961007            857.895424  \n4           0      1.531772      0   983.128282            848.961007  \n...       ...           ...    ...          ...                   ...  \n4995        0      2.391010      0  1215.125948           1170.799278  \n4996        1      0.898693      0  1738.128382           1215.125948  \n4997        0      2.839860      0  1462.323379           1738.128382  \n4998        0      1.188440      0  1397.144493           1462.323379  \n4999        0      2.131694      0  1338.751631           1397.144493  \n\n[5000 rows x 9 columns]",
      "text/html": "<div>\n<style scoped>\n    .dataframe tbody tr th:only-of-type {\n        vertical-align: middle;\n    }\n\n    .dataframe tbody tr th {\n        vertical-align: top;\n    }\n\n    .dataframe thead th {\n        text-align: right;\n    }\n</style>\n<table border=\"1\" class=\"dataframe\">\n  <thead>\n    <tr style=\"text-align: right;\">\n      <th></th>\n      <th>date</th>\n      <th>average_temperature</th>\n      <th>rainfall</th>\n      <th>weekend</th>\n      <th>holiday</th>\n      <th>price_per_kg</th>\n      <th>promo</th>\n      <th>demand</th>\n      <th>previous_days_demand</th>\n    </tr>\n  </thead>\n  <tbody>\n    <tr>\n      <th>0</th>\n      <td>2010-05-24 08:23:14.271950</td>\n      <td>30.584727</td>\n      <td>1.199291</td>\n      <td>0</td>\n      <td>0</td>\n      <td>1.726258</td>\n      <td>0</td>\n      <td>851.276659</td>\n      <td>851.276659</td>\n    </tr>\n    <tr>\n      <th>1</th>\n      <td>2010-05-25 08:23:14.271947</td>\n      <td>15.465069</td>\n      <td>1.037626</td>\n      <td>0</td>\n      <td>0</td>\n      <td>0.576471</td>\n      <td>0</td>\n      <td>906.836626</td>\n      <td>851.276659</td>\n    </tr>\n    <tr>\n      <th>2</th>\n      <td>2010-05-26 08:23:14.271945</td>\n      <td>10.786525</td>\n      <td>5.656089</td>\n      <td>0</td>\n      <td>0</td>\n      <td>2.513328</td>\n      <td>0</td>\n      <td>857.895424</td>\n      <td>906.836626</td>\n    </tr>\n    <tr>\n      <th>3</th>\n      <td>2010-05-27 08:23:14.271942</td>\n      <td>23.648154</td>\n      <td>12.030937</td>\n      <td>0</td>\n      <td>0</td>\n      <td>1.839225</td>\n      <td>0</td>\n      <td>848.961007</td>\n      <td>857.895424</td>\n    </tr>\n    <tr>\n      <th>4</th>\n      <td>2010-05-28 08:23:14.271940</td>\n      <td>13.861391</td>\n      <td>4.303812</td>\n      <td>0</td>\n      <td>0</td>\n      <td>1.531772</td>\n      <td>0</td>\n      <td>983.128282</td>\n      <td>848.961007</td>\n    </tr>\n    <tr>\n      <th>...</th>\n      <td>...</td>\n      <td>...</td>\n      <td>...</td>\n      <td>...</td>\n      <td>...</td>\n      <td>...</td>\n      <td>...</td>\n      <td>...</td>\n      <td>...</td>\n    </tr>\n    <tr>\n      <th>4995</th>\n      <td>2024-01-26 08:23:14.263375</td>\n      <td>21.643051</td>\n      <td>3.821656</td>\n      <td>0</td>\n      <td>0</td>\n      <td>2.391010</td>\n      <td>0</td>\n      <td>1215.125948</td>\n      <td>1170.799278</td>\n    </tr>\n    <tr>\n      <th>4996</th>\n      <td>2024-01-27 08:23:14.263374</td>\n      <td>13.808813</td>\n      <td>1.080603</td>\n      <td>1</td>\n      <td>1</td>\n      <td>0.898693</td>\n      <td>0</td>\n      <td>1738.128382</td>\n      <td>1215.125948</td>\n    </tr>\n    <tr>\n      <th>4997</th>\n      <td>2024-01-28 08:23:14.263372</td>\n      <td>11.698227</td>\n      <td>1.911000</td>\n      <td>1</td>\n      <td>0</td>\n      <td>2.839860</td>\n      <td>0</td>\n      <td>1462.323379</td>\n      <td>1738.128382</td>\n    </tr>\n    <tr>\n      <th>4998</th>\n      <td>2024-01-29 08:23:14.263370</td>\n      <td>18.052081</td>\n      <td>1.000521</td>\n      <td>0</td>\n      <td>0</td>\n      <td>1.188440</td>\n      <td>0</td>\n      <td>1397.144493</td>\n      <td>1462.323379</td>\n    </tr>\n    <tr>\n      <th>4999</th>\n      <td>2024-01-30 08:23:14.263362</td>\n      <td>17.017294</td>\n      <td>0.650213</td>\n      <td>0</td>\n      <td>0</td>\n      <td>2.131694</td>\n      <td>0</td>\n      <td>1338.751631</td>\n      <td>1397.144493</td>\n    </tr>\n  </tbody>\n</table>\n<p>5000 rows × 9 columns</p>\n</div>"
     },
     "execution_count": 2,
     "metadata": {},
     "output_type": "execute_result"
    }
   ],
   "source": [
    "generate_apple_sales_data_with_promo_adjustment()"
   ],
   "metadata": {
    "collapsed": false,
    "ExecuteTime": {
     "end_time": "2024-01-30T16:23:14.322653Z",
     "start_time": "2024-01-30T16:23:14.273169Z"
    }
   },
   "id": "7d4cadf017617a5c",
   "execution_count": 2
  },
  {
   "cell_type": "code",
   "outputs": [
    {
     "name": "stderr",
     "output_type": "stream",
     "text": [
      "/var/folders/vf/7kzgyz110g77_tj0dtxhhrk80000gs/T/ipykernel_41270/3829094379.py:89: FutureWarning: Series.fillna with 'method' is deprecated and will raise in a future version. Use obj.ffill() or obj.bfill() instead.\n",
      "  df[\"previous_days_demand\"].fillna(\n"
     ]
    }
   ],
   "source": [
    "# Generate the data\n",
    "df = generate_apple_sales_data_with_promo_adjustment(base_demand=1200, n_rows=6000)\n",
    "\n",
    "# Save the DataFrame to CSV file\n",
    "df.to_csv('apple_sales_data.csv', index=False)"
   ],
   "metadata": {
    "collapsed": false,
    "ExecuteTime": {
     "end_time": "2024-01-30T16:23:26.852841Z",
     "start_time": "2024-01-30T16:23:26.740825Z"
    }
   },
   "id": "1d6438d1a37ddd63",
   "execution_count": 3
  },
  {
   "cell_type": "code",
   "outputs": [],
   "source": [],
   "metadata": {
    "collapsed": false
   },
   "id": "17acbc2e626d167f"
  }
 ],
 "metadata": {
  "kernelspec": {
   "display_name": "Python 3 (ipykernel)",
   "language": "python",
   "name": "python3"
  },
  "language_info": {
   "codemirror_mode": {
    "name": "ipython",
    "version": 3
   },
   "file_extension": ".py",
   "mimetype": "text/x-python",
   "name": "python",
   "nbconvert_exporter": "python",
   "pygments_lexer": "ipython3",
   "version": "3.10.13"
  }
 },
 "nbformat": 4,
 "nbformat_minor": 5
}
