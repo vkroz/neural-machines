{
 "cells": [
  {
   "cell_type": "markdown",
   "metadata": {},
   "source": [
    "# Excercises - Chapter 1 PyTorch Basics"
   ]
  },
  {
   "cell_type": "code",
   "execution_count": 2,
   "metadata": {
    "ExecuteTime": {
     "end_time": "2023-04-19T19:20:24.304039Z",
     "start_time": "2023-04-19T19:20:24.297249Z"
    }
   },
   "outputs": [
    {
     "name": "stdout",
     "output_type": "stream",
     "text": [
      "tensor([[0.4820, 0.6920, 0.3640, 0.3591, 0.5891],\n",
      "        [0.4525, 0.1203, 0.0234, 0.4466, 0.4781],\n",
      "        [0.6412, 0.2364, 0.3694, 0.6885, 0.4123],\n",
      "        [0.4713, 0.7269, 0.2152, 0.1294, 0.0716],\n",
      "        [0.9822, 0.5294, 0.7292, 0.2353, 0.8385]])\n",
      "torch.Size([5, 5])\n"
     ]
    }
   ],
   "source": [
    "import torch\n",
    "\n",
    "# Create a 5x5 tensor with random values between 0 and 1. Print the tensor and its shape.\n",
    "\n",
    "tensor = torch.rand(5, 5)\n",
    "print(tensor)\n",
    "print(tensor.shape)"
   ]
  },
  {
   "cell_type": "code",
   "execution_count": 3,
   "metadata": {
    "ExecuteTime": {
     "end_time": "2023-04-19T19:21:39.846317Z",
     "start_time": "2023-04-19T19:21:39.840259Z"
    }
   },
   "outputs": [
    {
     "data": {
      "text/plain": [
       "tensor([[1., 0., 0.],\n",
       "        [0., 1., 0.],\n",
       "        [0., 0., 1.]])"
      ]
     },
     "execution_count": 3,
     "metadata": {},
     "output_type": "execute_result"
    }
   ],
   "source": [
    "# Create a 3x3 identity matrix (ones on the diagonal, zeros elsewhere) using PyTorch.\n",
    "\n",
    "torch.eye(3, 3)"
   ]
  },
  {
   "cell_type": "code",
   "execution_count": 4,
   "metadata": {
    "ExecuteTime": {
     "end_time": "2023-04-19T19:25:20.511684Z",
     "start_time": "2023-04-19T19:25:20.503320Z"
    },
    "pycharm": {
     "name": "#%%md\n"
    }
   },
   "outputs": [
    {
     "name": "stdout",
     "output_type": "stream",
     "text": [
      "tensor([[11, 10,  8],\n",
      "        [16, 12, 15],\n",
      "        [17, 11, 15]])\n"
     ]
    }
   ],
   "source": [
    "# Create two 3x3 tensors with random integer values between 1 and 10. Add them element-wise and print the result.\n",
    "\n",
    "t1 = torch.randint(1, 10, (3, 3))\n",
    "t2 = torch.randint(1, 10, (3, 3))\n",
    "print(t1 + t2)\n"
   ]
  },
  {
   "cell_type": "code",
   "execution_count": 5,
   "metadata": {
    "ExecuteTime": {
     "end_time": "2023-04-19T19:31:59.282910Z",
     "start_time": "2023-04-19T19:31:59.265803Z"
    }
   },
   "outputs": [
    {
     "name": "stdout",
     "output_type": "stream",
     "text": [
      "tensor([[ 0,  0, -1,  0],\n",
      "        [-1,  0,  0,  0],\n",
      "        [-1, -1, -1,  0],\n",
      "        [ 0,  0,  0,  0]])\n",
      "tensor([[ 0,  0, -5,  0],\n",
      "        [-5,  0,  0,  0],\n",
      "        [-5, -5, -5,  0],\n",
      "        [ 0,  0,  0,  0]])\n",
      "tensor([[ 2,  2, -3,  2],\n",
      "        [-3,  2,  2,  2],\n",
      "        [-3, -3, -3,  2],\n",
      "        [ 2,  2,  2,  2]])\n"
     ]
    }
   ],
   "source": [
    "# Create a 4x4 tensor with random values between -1 and 1. Multiply each element by 5 and add 2. Print the tensor.\n",
    "\n",
    "t = torch.randint(-1, 1, (4, 4))\n",
    "print(t)\n",
    "t = t * 5\n",
    "print(t)\n",
    "t = t + 2\n",
    "print(t)\n"
   ]
  },
  {
   "cell_type": "markdown",
   "metadata": {},
   "source": [
    "## Indexing, Slicing, and Joining"
   ]
  },
  {
   "cell_type": "code",
   "execution_count": null,
   "metadata": {},
   "outputs": [],
   "source": []
  }
 ],
 "metadata": {
  "kernelspec": {
   "display_name": "Python 3 (ipykernel)",
   "language": "python",
   "name": "python3"
  },
  "language_info": {
   "codemirror_mode": {
    "name": "ipython",
    "version": 3
   },
   "file_extension": ".py",
   "mimetype": "text/x-python",
   "name": "python",
   "nbconvert_exporter": "python",
   "pygments_lexer": "ipython3",
   "version": "3.9.13"
  },
  "toc": {
   "base_numbering": 1,
   "nav_menu": {},
   "number_sections": true,
   "sideBar": false,
   "skip_h1_title": false,
   "title_cell": "Table of Contents",
   "title_sidebar": "Contents",
   "toc_cell": false,
   "toc_position": {},
   "toc_section_display": true,
   "toc_window_display": false
  }
 },
 "nbformat": 4,
 "nbformat_minor": 1
}
