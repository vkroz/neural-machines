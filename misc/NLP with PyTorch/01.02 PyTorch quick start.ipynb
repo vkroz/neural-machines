{
 "cells": [
  {
   "cell_type": "markdown",
   "metadata": {},
   "source": [
    "# Initializing Tensors"
   ]
  },
  {
   "cell_type": "code",
   "execution_count": 1,
   "metadata": {
    "ExecuteTime": {
     "end_time": "2023-04-19T19:08:29.460973Z",
     "start_time": "2023-04-19T19:08:29.455467Z"
    }
   },
   "outputs": [],
   "source": [
    "def describe(x):\n",
    "    print(f\"Type: {x.type()}\")\n",
    "    print(f\"Shape/size: {x.shape}\")\n",
    "    print(f\"Values: \\n{x}\\n\")\n"
   ]
  },
  {
   "cell_type": "code",
   "execution_count": 2,
   "metadata": {
    "ExecuteTime": {
     "end_time": "2023-04-19T19:09:00.268969Z",
     "start_time": "2023-04-19T19:09:00.259078Z"
    }
   },
   "outputs": [
    {
     "name": "stdout",
     "output_type": "stream",
     "text": [
      "Type: torch.FloatTensor\n",
      "Shape/size: torch.Size([2, 3])\n",
      "Values: \n",
      "tensor([[0., 0., 0.],\n",
      "        [0., 0., 0.]])\n",
      "\n"
     ]
    }
   ],
   "source": [
    "# Creating a tensor in PyTorch with torch.Tensor\n",
    "\n",
    "import torch\n",
    "\n",
    "describe(torch.Tensor(2, 3))"
   ]
  },
  {
   "cell_type": "code",
   "execution_count": 3,
   "metadata": {
    "ExecuteTime": {
     "end_time": "2023-04-19T19:09:14.245989Z",
     "start_time": "2023-04-19T19:09:14.210982Z"
    }
   },
   "outputs": [
    {
     "name": "stdout",
     "output_type": "stream",
     "text": [
      "Type: torch.FloatTensor\n",
      "Shape/size: torch.Size([2, 3])\n",
      "Values: \n",
      "tensor([[0.5989, 0.0592, 0.4879],\n",
      "        [0.7342, 0.9399, 0.0663]])\n",
      "\n",
      "Type: torch.FloatTensor\n",
      "Shape/size: torch.Size([2, 3])\n",
      "Values: \n",
      "tensor([[-1.8501, -0.5239,  2.0302],\n",
      "        [ 0.0677, -0.7353,  0.2781]])\n",
      "\n"
     ]
    }
   ],
   "source": [
    "# Create randomly initialized Tensor\n",
    "describe(torch.rand(2, 3))  # uniform normal\n",
    "describe(torch.randn(2, 3))  # random normal\n"
   ]
  },
  {
   "cell_type": "code",
   "execution_count": 4,
   "metadata": {
    "ExecuteTime": {
     "end_time": "2023-04-19T19:09:23.324514Z",
     "start_time": "2023-04-19T19:09:23.312458Z"
    }
   },
   "outputs": [
    {
     "name": "stdout",
     "output_type": "stream",
     "text": [
      "Type: torch.FloatTensor\n",
      "Shape/size: torch.Size([2, 3])\n",
      "Values: \n",
      "tensor([[0., 0., 0.],\n",
      "        [0., 0., 0.]])\n",
      "\n",
      "Type: torch.FloatTensor\n",
      "Shape/size: torch.Size([2, 3])\n",
      "Values: \n",
      "tensor([[1., 1., 1.],\n",
      "        [1., 1., 1.]])\n",
      "\n",
      "Type: torch.LongTensor\n",
      "Shape/size: torch.Size([2, 3])\n",
      "Values: \n",
      "tensor([[7, 7, 7],\n",
      "        [7, 7, 7]])\n",
      "\n",
      "Type: torch.FloatTensor\n",
      "Shape/size: torch.Size([2, 3])\n",
      "Values: \n",
      "tensor([[3.1400, 3.1400, 3.1400],\n",
      "        [3.1400, 3.1400, 3.1400]])\n",
      "\n"
     ]
    }
   ],
   "source": [
    "# Create a tensor with all zeros\n",
    "describe(torch.zeros(2, 3))\n",
    "\n",
    "# Create a tensor with all ones\n",
    "describe(torch.ones(2, 3))\n",
    "\n",
    "# Create a tensor with some predefined value\n",
    "describe(torch.full((2, 3), 7))\n",
    "\n",
    "# Fill existing tensor with some predefined value\n",
    "x = torch.Tensor(2, 3)\n",
    "describe(x.fill_(3.14))"
   ]
  },
  {
   "cell_type": "code",
   "execution_count": 5,
   "metadata": {
    "ExecuteTime": {
     "end_time": "2023-04-19T19:09:48.156687Z",
     "start_time": "2023-04-19T19:09:48.144282Z"
    }
   },
   "outputs": [
    {
     "name": "stdout",
     "output_type": "stream",
     "text": [
      "Type: torch.FloatTensor\n",
      "Shape/size: torch.Size([2, 3])\n",
      "Values: \n",
      "tensor([[1., 2., 3.],\n",
      "        [4., 5., 6.]])\n",
      "\n"
     ]
    }
   ],
   "source": [
    "# Create and initialize from the list\n",
    "x = torch.Tensor([[1, 2, 3], [4, 5, 6]])\n",
    "describe(x)\n"
   ]
  },
  {
   "cell_type": "code",
   "execution_count": 6,
   "metadata": {
    "ExecuteTime": {
     "end_time": "2023-04-19T19:09:55.785721Z",
     "start_time": "2023-04-19T19:09:55.773307Z"
    }
   },
   "outputs": [
    {
     "name": "stdout",
     "output_type": "stream",
     "text": [
      "npy=[[0.61035344 0.03940025 0.78207613]\n",
      " [0.93972577 0.40212611 0.87734535]]\n",
      "-----------------\n",
      "Type: torch.DoubleTensor\n",
      "Shape/size: torch.Size([2, 3])\n",
      "Values: \n",
      "tensor([[0.6104, 0.0394, 0.7821],\n",
      "        [0.9397, 0.4021, 0.8773]], dtype=torch.float64)\n",
      "\n"
     ]
    }
   ],
   "source": [
    "# Create a tensor from NumPy array\n",
    "import numpy as np\n",
    "\n",
    "npy = np.random.rand(2, 3)\n",
    "print(f'npy={npy}\\n-----------------')\n",
    "describe(torch.from_numpy(npy))\n"
   ]
  },
  {
   "cell_type": "markdown",
   "metadata": {},
   "source": [
    "# Tensor Types and Sizes\n"
   ]
  },
  {
   "cell_type": "code",
   "execution_count": 7,
   "metadata": {
    "ExecuteTime": {
     "end_time": "2023-04-19T19:10:00.915860Z",
     "start_time": "2023-04-19T19:10:00.902829Z"
    }
   },
   "outputs": [
    {
     "name": "stdout",
     "output_type": "stream",
     "text": [
      "Type: torch.FloatTensor\n",
      "Shape/size: torch.Size([2, 3])\n",
      "Values: \n",
      "tensor([[1., 2., 3.],\n",
      "        [4., 5., 6.]])\n",
      "\n"
     ]
    }
   ],
   "source": [
    "# Tensor properties\n",
    "\n",
    "x = torch.FloatTensor([[1, 2, 3], [4, 5, 6]])\n",
    "describe(x)\n"
   ]
  },
  {
   "cell_type": "code",
   "execution_count": 8,
   "metadata": {
    "ExecuteTime": {
     "end_time": "2023-04-19T19:10:02.524459Z",
     "start_time": "2023-04-19T19:10:02.511892Z"
    }
   },
   "outputs": [
    {
     "name": "stdout",
     "output_type": "stream",
     "text": [
      "Type: torch.LongTensor\n",
      "Shape/size: torch.Size([2, 3])\n",
      "Values: \n",
      "tensor([[1, 2, 3],\n",
      "        [4, 5, 6]])\n",
      "\n"
     ]
    }
   ],
   "source": [
    "x = x.long()\n",
    "describe(x)\n"
   ]
  },
  {
   "cell_type": "code",
   "execution_count": 9,
   "metadata": {
    "ExecuteTime": {
     "end_time": "2023-04-19T19:10:03.482077Z",
     "start_time": "2023-04-19T19:10:03.475260Z"
    }
   },
   "outputs": [
    {
     "name": "stdout",
     "output_type": "stream",
     "text": [
      "Type: torch.LongTensor\n",
      "Shape/size: torch.Size([2, 3])\n",
      "Values: \n",
      "tensor([[1, 2, 3],\n",
      "        [4, 5, 6]])\n",
      "\n"
     ]
    }
   ],
   "source": [
    "# NOTE that there is a call to different function: torch.tensor() instead of torch.Tensor()\n",
    "x = torch.tensor([[1, 2, 3], [4, 5, 6]], dtype=torch.int64)\n",
    "describe(x)\n"
   ]
  },
  {
   "cell_type": "code",
   "execution_count": 10,
   "metadata": {
    "ExecuteTime": {
     "end_time": "2023-04-19T19:10:03.911893Z",
     "start_time": "2023-04-19T19:10:03.906428Z"
    }
   },
   "outputs": [
    {
     "name": "stdout",
     "output_type": "stream",
     "text": [
      "Type: torch.FloatTensor\n",
      "Shape/size: torch.Size([2, 3])\n",
      "Values: \n",
      "tensor([[1., 2., 3.],\n",
      "        [4., 5., 6.]])\n",
      "\n"
     ]
    }
   ],
   "source": [
    "x = x.float()\n",
    "describe(x)\n"
   ]
  },
  {
   "cell_type": "markdown",
   "metadata": {},
   "source": [
    "# Trensor Operations\n"
   ]
  },
  {
   "cell_type": "code",
   "execution_count": 11,
   "metadata": {
    "ExecuteTime": {
     "end_time": "2023-04-19T19:10:07.112143Z",
     "start_time": "2023-04-19T19:10:07.107367Z"
    }
   },
   "outputs": [
    {
     "name": "stdout",
     "output_type": "stream",
     "text": [
      "Type: torch.LongTensor\n",
      "Shape/size: torch.Size([2, 3])\n",
      "Values: \n",
      "tensor([[ 0, -3,  0],\n",
      "        [ 2, -2,  0]])\n",
      "\n"
     ]
    }
   ],
   "source": [
    "x = torch.randn(2, 3)\n",
    "x = x.long()\n",
    "describe(x)\n"
   ]
  },
  {
   "cell_type": "code",
   "execution_count": 12,
   "metadata": {
    "ExecuteTime": {
     "end_time": "2023-04-19T19:10:08.476795Z",
     "start_time": "2023-04-19T19:10:08.464410Z"
    }
   },
   "outputs": [
    {
     "name": "stdout",
     "output_type": "stream",
     "text": [
      "Type: torch.LongTensor\n",
      "Shape/size: torch.Size([2, 3])\n",
      "Values: \n",
      "tensor([[ 0, -6,  0],\n",
      "        [ 4, -4,  0]])\n",
      "\n",
      "Type: torch.LongTensor\n",
      "Shape/size: torch.Size([2, 3])\n",
      "Values: \n",
      "tensor([[ 0, -6,  0],\n",
      "        [ 4, -4,  0]])\n",
      "\n"
     ]
    }
   ],
   "source": [
    "# Addition\n",
    "describe(torch.add(x, x))\n",
    "\n",
    "describe(x + x)\n"
   ]
  },
  {
   "cell_type": "markdown",
   "metadata": {},
   "source": [
    "### Dimensional operations\n"
   ]
  },
  {
   "cell_type": "code",
   "execution_count": 13,
   "metadata": {
    "ExecuteTime": {
     "end_time": "2023-04-19T19:10:10.305508Z",
     "start_time": "2023-04-19T19:10:10.290247Z"
    }
   },
   "outputs": [
    {
     "name": "stdout",
     "output_type": "stream",
     "text": [
      "Type: torch.LongTensor\n",
      "Shape/size: torch.Size([6])\n",
      "Values: \n",
      "tensor([0, 1, 2, 3, 4, 5])\n",
      "\n",
      "Type: torch.LongTensor\n",
      "Shape/size: torch.Size([2, 3])\n",
      "Values: \n",
      "tensor([[0, 1, 2],\n",
      "        [3, 4, 5]])\n",
      "\n"
     ]
    }
   ],
   "source": [
    "x = torch.arange(6)\n",
    "describe(x)\n",
    "\n",
    "x = x.view(2, 3)\n",
    "describe(x)\n"
   ]
  },
  {
   "cell_type": "code",
   "execution_count": 17,
   "metadata": {
    "ExecuteTime": {
     "end_time": "2023-04-10T16:12:14.818488Z",
     "start_time": "2023-04-10T16:12:14.814364Z"
    }
   },
   "outputs": [
    {
     "name": "stdout",
     "output_type": "stream",
     "text": [
      "Type: torch.LongTensor\n",
      "Shape/size: torch.Size([3])\n",
      "Values: \n",
      "tensor([3, 5, 7])\n",
      "\n",
      "Type: torch.LongTensor\n",
      "Shape/size: torch.Size([2])\n",
      "Values: \n",
      "tensor([ 3, 12])\n",
      "\n",
      "Error: `torch.sum(x, dim=2)` : Tensor does not have a third dimension.\n"
     ]
    }
   ],
   "source": [
    "# Collapse rows (dim 0) by summarizing columns\n",
    "describe(torch.sum(x, dim=0))\n",
    "\n",
    "# Collapse columns (dim 1) by summarizing rows\n",
    "describe(torch.sum(x, dim=1))\n",
    "\n",
    "# Error, because there is only 2 dimentsions\n",
    "\n",
    "try:\n",
    "    describe(torch.sum(x, dim=2))\n",
    "except IndexError:\n",
    "    print(\"Error: `torch.sum(x, dim=2)` : Tensor does not have a third dimension.\")\n"
   ]
  },
  {
   "cell_type": "markdown",
   "metadata": {},
   "source": [
    "### Indexing, Slicing, and Joining\n"
   ]
  },
  {
   "cell_type": "code",
   "execution_count": 19,
   "metadata": {
    "ExecuteTime": {
     "end_time": "2023-04-10T17:07:15.518191Z",
     "start_time": "2023-04-10T17:07:15.512672Z"
    }
   },
   "outputs": [
    {
     "name": "stdout",
     "output_type": "stream",
     "text": [
      "10\n",
      "50\n",
      "[10, 20]\n",
      "[10, 20]\n",
      "[10, 20, 30, 40, 50]\n",
      "[10, 30, 50]\n"
     ]
    }
   ],
   "source": [
    "# Indexing in python\n",
    "my_list = [10, 20, 30, 40, 50]\n",
    "\n",
    "print(my_list[0])  # returns 10\n",
    "print(my_list[-1])  # returns 50\n",
    "print(my_list[0:2])  # returns [10, 20]\n",
    "print(my_list[:2])  # returns [10, 20]\n",
    "print(my_list[:])  # returns [10, 20, 30, 40, 50]\n",
    "print(my_list[::2])  # returns [10, 30, 50].  2 is the step size\n"
   ]
  },
  {
   "cell_type": "markdown",
   "metadata": {},
   "source": [
    "### Indexing and Slicing in NumPy Arrays"
   ]
  },
  {
   "cell_type": "code",
   "execution_count": 20,
   "metadata": {
    "ExecuteTime": {
     "end_time": "2023-04-10T16:40:29.981702Z",
     "start_time": "2023-04-10T16:40:29.946950Z"
    }
   },
   "outputs": [
    {
     "name": "stdout",
     "output_type": "stream",
     "text": [
      "10\n",
      "50\n",
      "[10 20]\n",
      "[10 20 30 40 50]\n",
      "[10 30 50]\n"
     ]
    }
   ],
   "source": [
    "import numpy as np\n",
    "\n",
    "my_array = np.array([10, 20, 30, 40, 50])\n",
    "\n",
    "# This part is exactly the same as indexing and slicing in python lists\n",
    "print(my_array[0])  # returns 10\n",
    "print(my_array[-1])  # returns 50\n",
    "print(my_array[0:2])  # returns [10, 20]\n",
    "print(my_array[:])  # returns [10, 20, 30, 40, 50]\n",
    "print(my_array[::2])  # returns [10, 30, 50].  2 is the step size\n"
   ]
  },
  {
   "cell_type": "code",
   "execution_count": 21,
   "metadata": {
    "ExecuteTime": {
     "end_time": "2023-04-10T16:43:59.679144Z",
     "start_time": "2023-04-10T16:43:59.672444Z"
    }
   },
   "outputs": [
    {
     "name": "stdout",
     "output_type": "stream",
     "text": [
      "[[10 20 30]\n",
      " [40 50 60]\n",
      " [70 80 90]]\n",
      "20\n",
      "[10 20 30]\n",
      "[20 50 80]\n"
     ]
    }
   ],
   "source": [
    "# 2D arrays\n",
    "\n",
    "my_2d_array = np.array([[10, 20, 30], [40, 50, 60], [70, 80, 90]])\n",
    "print(my_2d_array)\n",
    "print(my_2d_array[0, 1])  # returns 20\n",
    "\n",
    "# access all columns (denoted by :) of the first row (index 0) of the array.\n",
    "print(my_2d_array[0, :])  # returns [10, 20, 30]\n",
    "\n",
    "# access all rows (denoted by :) of the second column (index 1) of the array.\n",
    "print(my_2d_array[:, 1])  # returns [20, 50, 80]\n"
   ]
  },
  {
   "cell_type": "code",
   "execution_count": 22,
   "metadata": {},
   "outputs": [
    {
     "name": "stdout",
     "output_type": "stream",
     "text": [
      "Type: torch.LongTensor\n",
      "Shape/size: torch.Size([2, 3])\n",
      "Values: \n",
      "tensor([[0, 1, 2],\n",
      "        [3, 4, 5]])\n",
      "\n"
     ]
    }
   ],
   "source": [
    "x = torch.arange(6).view(2, 3)\n",
    "describe(x)\n"
   ]
  },
  {
   "cell_type": "code",
   "execution_count": 24,
   "metadata": {
    "ExecuteTime": {
     "end_time": "2023-04-10T16:57:10.699383Z",
     "start_time": "2023-04-10T16:57:10.692850Z"
    }
   },
   "outputs": [
    {
     "name": "stdout",
     "output_type": "stream",
     "text": [
      "my_3d_array.shape=(2, 3, 4)\n",
      "---\n",
      "my_3d_array=\n",
      "[[[ 0  1  2  3]\n",
      "  [ 4  5  6  7]\n",
      "  [ 8  9 10 11]]\n",
      "\n",
      " [[12 13 14 15]\n",
      "  [16 17 18 19]\n",
      "  [20 21 22 23]]]\n",
      "---\n",
      "my_3d_array[0, 0, :]=\n",
      "[0 1 2 3]\n",
      "---\n",
      "my_3d_array[0, :, 1]=\n",
      "[1 5 9]\n",
      "---\n",
      "my_3d_array[1, 1, 0:2]=\n",
      "[16 17]\n",
      "---\n"
     ]
    }
   ],
   "source": [
    "\"\"\"\n",
    "You can use slicing to extract a subset of a multi-dimensional NumPy array or PyTorch tensor along any dimension. \n",
    "The syntax for slicing is similar to that of Python lists, but with multiple indices or ranges separated by commas. For example, consider the following 3D NumPy array:\n",
    "\"\"\"\n",
    "my_3d_array = np.arange(24).reshape(2, 3, 4)\n",
    "print(f'my_3d_array.shape={my_3d_array.shape}\\n---')\n",
    "print(f'my_3d_array=\\n{my_3d_array}\\n---')\n",
    "print(f'my_3d_array[0, 0, :]=\\n{my_3d_array[0, 0, :]}\\n---')\n",
    "print(f'my_3d_array[0, :, 1]=\\n{my_3d_array[0, :, 1]}\\n---')\n",
    "print(f'my_3d_array[1, 1, 0:2]=\\n{my_3d_array[1, 1, 0:2]}\\n---')"
   ]
  },
  {
   "cell_type": "markdown",
   "metadata": {},
   "source": [
    "### Indexing, Slicing and Joining in PyTorch\n"
   ]
  },
  {
   "cell_type": "code",
   "execution_count": 25,
   "metadata": {
    "ExecuteTime": {
     "end_time": "2023-04-10T17:03:56.169547Z",
     "start_time": "2023-04-10T17:03:56.164885Z"
    }
   },
   "outputs": [
    {
     "name": "stdout",
     "output_type": "stream",
     "text": [
      "Type: torch.LongTensor\n",
      "Shape/size: torch.Size([3, 4])\n",
      "Values: \n",
      "tensor([[ 0,  1,  2,  3],\n",
      "        [ 4,  5,  6,  7],\n",
      "        [ 8,  9, 10, 11]])\n",
      "\n"
     ]
    }
   ],
   "source": [
    "x = torch.arange(12).view(3, 4)\n",
    "describe(x)\n"
   ]
  },
  {
   "cell_type": "code",
   "execution_count": 26,
   "metadata": {},
   "outputs": [
    {
     "name": "stdout",
     "output_type": "stream",
     "text": [
      "tensor(6)\n",
      "tensor([0, 1, 2, 3])\n",
      "tensor([1, 5, 9])\n",
      "tensor([[1, 2],\n",
      "        [5, 6]])\n"
     ]
    }
   ],
   "source": [
    "# access a single element at row 1, column 2\n",
    "print(x[1, 2])  # output: tensor(6)\n",
    "\n",
    "# extract the first row of the tensor\n",
    "print(x[0, :])  # output: tensor([1, 2, 3])\n",
    "\n",
    "# extract the second (i.e. #2) column  of the tensor\n",
    "print(x[:, 1])  # output: tensor([2, 6, 10])\n",
    "\n",
    "# extract a sub-tensor from rows 0 to 1 and columns 1 to 2\n",
    "print(x[0:2, 1:3])  # output: tensor([[1, 2], [5, 6]])\n"
   ]
  },
  {
   "cell_type": "code",
   "execution_count": 28,
   "metadata": {
    "ExecuteTime": {
     "end_time": "2023-04-19T19:16:32.432623Z",
     "start_time": "2023-04-19T19:16:32.381468Z"
    }
   },
   "outputs": [
    {
     "name": "stdout",
     "output_type": "stream",
     "text": [
      "Type: torch.LongTensor\n",
      "Shape/size: torch.Size([2, 3])\n",
      "Values: \n",
      "tensor([[0, 1, 2],\n",
      "        [3, 4, 5]])\n",
      "\n",
      "x[:1, :]=tensor([[0, 1, 2]])\n",
      "x[:1, :2]=tensor([[0, 1]])\n"
     ]
    }
   ],
   "source": [
    "# More examples\n",
    "x = torch.arange(6).view(2, 3)\n",
    "describe(x)\n",
    "\n",
    "print(f'x[:1, :]={x[:1, :]}')\n",
    "print(f'x[:1, :2]={x[:1, :2]}')\n"
   ]
  },
  {
   "cell_type": "markdown",
   "metadata": {},
   "source": [
    "#### Complex indexing noncontiguous indexing of a tensor\n",
    "\n",
    "We will use `x` to slice and dice"
   ]
  },
  {
   "cell_type": "code",
   "execution_count": 40,
   "metadata": {},
   "outputs": [
    {
     "name": "stdout",
     "output_type": "stream",
     "text": [
      "Type: torch.LongTensor\n",
      "Shape/size: torch.Size([2, 3])\n",
      "Values: \n",
      "tensor([[0, 1, 2],\n",
      "        [3, 4, 5]])\n",
      "\n"
     ]
    }
   ],
   "source": [
    "describe(x)"
   ]
  },
  {
   "cell_type": "markdown",
   "metadata": {},
   "source": [
    "`index_select` is a PyTorch function that is used to select specific elements from a tensor along a given dimension. In example below:\n",
    "\n",
    "First we create PyTorch tensor indices that contains the indices of the columns we want to select from `x`. \n",
    "In this case, we want to select the first and third columns, so we create a LongTensor with values [0, 2].\n",
    "\n",
    "Then we apply the `index_select` function to the tensor `x`, specifying the `dim` and index parameters. The `dim` parameter specifies which dimension of `x` to select along (in this case, the second dimension), and the index parameter specifies the indices to select (in this case, the first and third columns). The result is stored in a new tensor called `ind`.\n",
    "\n",
    "So the resulting tensor `ind` will contain the selected elements of `x` along the second dimension, which in this case are the first and third columns of the original tensor. Note that `index_select` returns a new tensor with the selected elements and does not modify the original tensor `x`."
   ]
  },
  {
   "cell_type": "code",
   "execution_count": 41,
   "metadata": {},
   "outputs": [
    {
     "name": "stdout",
     "output_type": "stream",
     "text": [
      "Type: torch.LongTensor\n",
      "Shape/size: torch.Size([2, 2])\n",
      "Values: \n",
      "tensor([[0, 2],\n",
      "        [3, 5]])\n",
      "\n"
     ]
    }
   ],
   "source": [
    "indices = torch.LongTensor([0,2])\n",
    "ind = torch.index_select(x, dim=1, index=indices)\n",
    "describe(ind)\n"
   ]
  },
  {
   "cell_type": "code",
   "execution_count": 43,
   "metadata": {},
   "outputs": [
    {
     "name": "stdout",
     "output_type": "stream",
     "text": [
      "Type: torch.LongTensor\n",
      "Shape/size: torch.Size([2, 3])\n",
      "Values: \n",
      "tensor([[0, 1, 2],\n",
      "        [0, 1, 2]])\n",
      "\n"
     ]
    }
   ],
   "source": [
    "# Another example\n",
    "\n",
    "\"\"\"\n",
    "The first line creates a PyTorch tensor indices that contains the indices of the rows we want to select from x. \n",
    "In this case, we want to select the first row twice, so we create a LongTensor with values [0, 0].\n",
    "\"\"\"\n",
    "\n",
    "indices = torch.LongTensor([0,0])\n",
    "describe(torch.index_select(x, dim=0, index=indices))"
   ]
  },
  {
   "cell_type": "code",
   "execution_count": null,
   "metadata": {},
   "outputs": [],
   "source": []
  }
 ],
 "metadata": {
  "kernelspec": {
   "display_name": "Python 3 (ipykernel)",
   "language": "python",
   "name": "python3"
  },
  "language_info": {
   "codemirror_mode": {
    "name": "ipython",
    "version": 3
   },
   "file_extension": ".py",
   "mimetype": "text/x-python",
   "name": "python",
   "nbconvert_exporter": "python",
   "pygments_lexer": "ipython3",
   "version": "3.9.13"
  },
  "toc": {
   "base_numbering": 1,
   "nav_menu": {
    "height": "234px",
    "width": "219px"
   },
   "number_sections": true,
   "sideBar": false,
   "skip_h1_title": false,
   "title_cell": "Table of Contents",
   "title_sidebar": "Contents",
   "toc_cell": false,
   "toc_position": {},
   "toc_section_display": true,
   "toc_window_display": true
  }
 },
 "nbformat": 4,
 "nbformat_minor": 1
}
