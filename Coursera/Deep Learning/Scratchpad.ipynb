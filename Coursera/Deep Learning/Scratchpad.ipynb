{
 "cells": [
  {
   "cell_type": "code",
   "execution_count": 4,
   "id": "990c4420-e194-4067-87e1-31b1798ea090",
   "metadata": {
    "ExecuteTime": {
     "end_time": "2025-09-06T23:38:51.810889Z",
     "start_time": "2025-09-06T23:38:51.720444Z"
    }
   },
   "outputs": [],
   "source": [
    "import numpy as np\n",
    "\n",
    "\n"
   ]
  },
  {
   "cell_type": "code",
   "execution_count": 5,
   "id": "320aef9b",
   "metadata": {
    "ExecuteTime": {
     "end_time": "2025-09-06T23:38:51.860060Z",
     "start_time": "2025-09-06T23:38:51.852592Z"
    }
   },
   "outputs": [
    {
     "data": {
      "text/plain": [
       "(array([[ 1.62434536, -0.61175641],\n",
       "        [-0.52817175, -1.07296862],\n",
       "        [ 0.86540763, -2.3015387 ]]),\n",
       " (3, 2))"
      ]
     },
     "execution_count": 5,
     "metadata": {},
     "output_type": "execute_result"
    }
   ],
   "source": [
    "np.random.seed(1)\n",
    "a = np.random.randn(3, 2)\n",
    "a, a.shape\n"
   ]
  },
  {
   "cell_type": "code",
   "execution_count": 6,
   "id": "fb8209a5",
   "metadata": {
    "ExecuteTime": {
     "end_time": "2025-09-06T23:38:51.881076Z",
     "start_time": "2025-09-06T23:38:51.877222Z"
    }
   },
   "outputs": [
    {
     "data": {
      "text/plain": [
       "array([[ 1.62434536],\n",
       "       [-0.52817175],\n",
       "       [ 0.86540763]])"
      ]
     },
     "execution_count": 6,
     "metadata": {},
     "output_type": "execute_result"
    }
   ],
   "source": [
    "a[:,:1]\n"
   ]
  },
  {
   "cell_type": "code",
   "execution_count": 7,
   "id": "5978d638",
   "metadata": {
    "ExecuteTime": {
     "end_time": "2025-09-06T23:38:51.915919Z",
     "start_time": "2025-09-06T23:38:51.910975Z"
    }
   },
   "outputs": [
    {
     "data": {
      "text/plain": [
       "(array([[[ 1.62434536, -0.61175641, -0.52817175, -1.07296862],\n",
       "         [ 0.86540763, -2.3015387 ,  1.74481176, -0.7612069 ]],\n",
       " \n",
       "        [[ 0.3190391 , -0.24937038,  1.46210794, -2.06014071],\n",
       "         [-0.3224172 , -0.38405435,  1.13376944, -1.09989127]],\n",
       " \n",
       "        [[-0.17242821, -0.87785842,  0.04221375,  0.58281521],\n",
       "         [-1.10061918,  1.14472371,  0.90159072,  0.50249434]]]),\n",
       " (3, 2, 4))"
      ]
     },
     "execution_count": 7,
     "metadata": {},
     "output_type": "execute_result"
    }
   ],
   "source": [
    "np.random.seed(1)\n",
    "a = np.random.randn(3, 2, 4)\n",
    "a, a.shape\n"
   ]
  },
  {
   "cell_type": "code",
   "execution_count": 8,
   "id": "30ecd534",
   "metadata": {
    "ExecuteTime": {
     "end_time": "2025-09-06T23:38:52.228445Z",
     "start_time": "2025-09-06T23:38:52.226236Z"
    }
   },
   "outputs": [
    {
     "data": {
      "text/plain": [
       "(3, 2, 4)"
      ]
     },
     "execution_count": 8,
     "metadata": {},
     "output_type": "execute_result"
    }
   ],
   "source": [
    "x1,x2,x3 = a.shape\n",
    "x1,x2,x3"
   ]
  },
  {
   "cell_type": "code",
   "execution_count": 9,
   "id": "6f846e26",
   "metadata": {
    "ExecuteTime": {
     "end_time": "2025-09-06T23:38:52.406642Z",
     "start_time": "2025-09-06T23:38:52.404261Z"
    }
   },
   "outputs": [
    {
     "data": {
      "text/plain": [
       "array([[ 1.62434536,  0.86540763],\n",
       "       [ 0.3190391 , -0.3224172 ],\n",
       "       [-0.17242821, -1.10061918]])"
      ]
     },
     "execution_count": 9,
     "metadata": {},
     "output_type": "execute_result"
    }
   ],
   "source": [
    "a[:,:,0]"
   ]
  },
  {
   "cell_type": "code",
   "execution_count": 10,
   "id": "fd07aae2f2b1ead8",
   "metadata": {
    "ExecuteTime": {
     "end_time": "2025-09-06T23:38:52.516745Z",
     "start_time": "2025-09-06T23:38:52.514709Z"
    }
   },
   "outputs": [
    {
     "data": {
      "text/plain": [
       "array([[0., 0.],\n",
       "       [0., 0.],\n",
       "       [0., 0.]])"
      ]
     },
     "execution_count": 10,
     "metadata": {},
     "output_type": "execute_result"
    }
   ],
   "source": [
    "np.zeros((3,2))"
   ]
  },
  {
   "cell_type": "code",
   "execution_count": 11,
   "id": "52a8a149",
   "metadata": {},
   "outputs": [
    {
     "data": {
      "text/plain": [
       "(array([[ 0.90085595, -0.68372786],\n",
       "        [-0.12289023, -0.93576943],\n",
       "        [-0.26788808,  0.53035547]]),\n",
       " array([[-0.69166075, -0.39675353],\n",
       "        [-0.6871727 , -0.84520564],\n",
       "        [-0.67124613, -0.0126646 ],\n",
       "        [-1.11731035,  0.2344157 ]]),\n",
       " array([[ 0.90085595, -0.68372786],\n",
       "        [-0.12289023, -0.93576943],\n",
       "        [-0.26788808,  0.53035547],\n",
       "        [-0.69166075, -0.39675353],\n",
       "        [-0.6871727 , -0.84520564],\n",
       "        [-0.67124613, -0.0126646 ],\n",
       "        [-1.11731035,  0.2344157 ]]))"
      ]
     },
     "execution_count": 11,
     "metadata": {},
     "output_type": "execute_result"
    }
   ],
   "source": [
    "c = np.random.randn(3, 2)\n",
    "a = np.random.randn(4, 2)\n",
    "x = np.concatenate((c, a), axis=0)\n",
    "c,a,x"
   ]
  },
  {
   "cell_type": "code",
   "execution_count": 12,
   "id": "4b828746",
   "metadata": {},
   "outputs": [
    {
     "data": {
      "text/plain": [
       "array([[ 1,  4],\n",
       "       [ 9, 16]])"
      ]
     },
     "execution_count": 12,
     "metadata": {},
     "output_type": "execute_result"
    }
   ],
   "source": [
    "np.square(np.array([[1,2],[3,4]]))\n"
   ]
  },
  {
   "cell_type": "code",
   "execution_count": 16,
   "id": "eda3cdac",
   "metadata": {},
   "outputs": [
    {
     "name": "stdout",
     "output_type": "stream",
     "text": [
      "[[1 2]\n",
      " [3 4]]\n",
      "[[1 1]\n",
      " [1 1]]\n"
     ]
    }
   ],
   "source": [
    "a = np.array([[1,2],[3,4]])\n",
    "print(a)\n",
    "np.clip(a, 0, 1, out = a)\n",
    "print(a)"
   ]
  },
  {
   "cell_type": "code",
   "execution_count": 82,
   "id": "4e5c9e37",
   "metadata": {},
   "outputs": [
    {
     "data": {
      "text/plain": [
       "[0, 1, 3, 4]"
      ]
     },
     "execution_count": 82,
     "metadata": {},
     "output_type": "execute_result"
    }
   ],
   "source": [
    "import numpy as np\n",
    "import matplotlib.pyplot as plt\n",
    "from collections import Counter\n",
    "\n",
    "# Original probability distribution\n",
    "probs = np.array([0.1, 0.4, 0.3, 0.2])\n",
    "char_to_ix = {'\\n': 0, 'a': 1, 'b': 3, 'c': 4}\n",
    "num_samples = 100\n",
    "sorted(char_to_ix.values())\n"
   ]
  },
  {
   "cell_type": "code",
   "execution_count": 89,
   "id": "a491ccd3",
   "metadata": {},
   "outputs": [
    {
     "data": {
      "text/plain": [
       "[None, 2, 3, 4, 5]"
      ]
     },
     "execution_count": 89,
     "metadata": {},
     "output_type": "execute_result"
    }
   ],
   "source": [
    "[None] + [2,3,4,5]"
   ]
  },
  {
   "cell_type": "code",
   "execution_count": null,
   "id": "d7a525b1",
   "metadata": {},
   "outputs": [],
   "source": []
  },
  {
   "cell_type": "code",
   "execution_count": null,
   "id": "22032a87",
   "metadata": {},
   "outputs": [],
   "source": [
    "# Generate 100 samples based on the weighted probabilities\n",
    "samples = np.random.choice(['a', 'b', 'c', 'd'], size=num_samples, p=probs)\n",
    "\n",
    "# Count the occurrences of each sampled index\n",
    "counts = Counter(samples)\n",
    "\n",
    "# Prepare data for plotting, ensuring all indices are present\n",
    "labels = list(indices)\n",
    "values = [counts.get(i, 0) for i in labels]\n",
    "\n",
    "# Create the bar chart to illustrate the distribution\n",
    "plt.figure(figsize=(8, 5))\n",
    "plt.bar(labels, values, tick_label=labels)\n",
    "plt.xlabel(\"Index\")\n",
    "plt.ylabel(f\"Frequency (out of {num_samples} samples)\")\n",
    "plt.title(\"Distribution of Weighted Random Samples\")\n",
    "plt.xticks(labels)\n",
    "plt.grid(axis='y', linestyle='--', alpha=0.7)\n",
    "plt.show()\n",
    "\n",
    "print(f\"Sampled counts: {dict(sorted(counts.items()))}\")"
   ]
  },
  {
   "cell_type": "code",
   "execution_count": null,
   "id": "d6f443be",
   "metadata": {},
   "outputs": [],
   "source": []
  }
 ],
 "metadata": {
  "kernelspec": {
   "display_name": "neumans",
   "language": "python",
   "name": "python3"
  },
  "language_info": {
   "codemirror_mode": {
    "name": "ipython",
    "version": 3
   },
   "file_extension": ".py",
   "mimetype": "text/x-python",
   "name": "python",
   "nbconvert_exporter": "python",
   "pygments_lexer": "ipython3",
   "version": "3.10.18"
  }
 },
 "nbformat": 4,
 "nbformat_minor": 5
}
