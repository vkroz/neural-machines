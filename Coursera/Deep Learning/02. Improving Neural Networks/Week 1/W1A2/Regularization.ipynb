{
 "cells": [
  {
   "cell_type": "markdown",
   "metadata": {},
   "source": [
    "# Regularization\n",
    "\n",
    "Welcome to the second assignment of this week. Deep Learning models have so much flexibility and capacity that **overfitting can be a serious problem**, if the training dataset is not big enough. Sure it does well on the training set, but the learned network **doesn't generalize to new examples** that it has never seen!\n",
    "\n",
    "**You will learn to:** Use regularization in your deep learning models.\n",
    "\n",
    "Let's get started!\n",
    "\n",
    "## Important Note on Submission to the AutoGrader\n",
    "\n",
    "Before submitting your assignment to the AutoGrader, please make sure you are not doing the following:\n",
    "\n",
    "1. You have not added any _extra_ `print` statement(s) in the assignment.\n",
    "2. You have not added any _extra_ code cell(s) in the assignment.\n",
    "3. You have not changed any of the function parameters.\n",
    "4. You are not using any global variables inside your graded exercises. Unless specifically instructed to do so, please refrain from it and use the local variables instead.\n",
    "5. You are not changing the assignment code where it is not required, like creating _extra_ variables.\n",
    "\n",
    "If you do any of the following, you will get something like, `Grader Error: Grader feedback not found` (or similarly unexpected) error upon submitting your assignment. Before asking for help/debugging the errors in your assignment, check for these first. If this is the case, and you don't remember the changes you have made, you can get a fresh copy of the assignment by following these [instructions](https://www.coursera.org/learn/deep-neural-network/supplement/QWEnZ/h-ow-to-refresh-your-workspace)."
   ]
  },
  {
   "cell_type": "markdown",
   "metadata": {},
   "source": [
    "## Table of Contents\n",
    "- [1 - Packages](#1)\n",
    "- [2 - Problem Statement](#2)\n",
    "- [3 - Loading the Dataset](#3)\n",
    "- [4 - Non-Regularized Model](#4)\n",
    "- [5 - L2 Regularization](#5)\n",
    "    - [Exercise 1 - compute_cost_with_regularization](#ex-1)\n",
    "    - [Exercise 2 - backward_propagation_with_regularization](#ex-2)\n",
    "- [6 - Dropout](#6)\n",
    "    - [6.1 - Forward Propagation with Dropout](#6-1)\n",
    "        - [Exercise 3 - forward_propagation_with_dropout](#ex-3)\n",
    "    - [6.2 - Backward Propagation with Dropout](#6-2)\n",
    "        - [Exercise 4 - backward_propagation_with_dropout](#ex-4)\n",
    "- [7 - Conclusions](#7)"
   ]
  },
  {
   "cell_type": "markdown",
   "metadata": {},
   "source": [
    "<a name='1'></a>\n",
    "## 1 - Packages"
   ]
  },
  {
   "cell_type": "code",
   "execution_count": 1,
   "metadata": {
    "deletable": false,
    "editable": false
   },
   "outputs": [],
   "source": [
    "### v1.1"
   ]
  },
  {
   "cell_type": "code",
   "execution_count": 2,
   "metadata": {},
   "outputs": [],
   "source": [
    "# import packages\n",
    "import numpy as np\n",
    "import matplotlib.pyplot as plt\n",
    "import sklearn\n",
    "import sklearn.datasets\n",
    "import scipy.io\n",
    "from reg_utils import sigmoid, relu, plot_decision_boundary, initialize_parameters, load_2D_dataset, predict_dec\n",
    "from reg_utils import compute_cost, predict, forward_propagation, backward_propagation, update_parameters\n",
    "from testCases import *\n",
    "from public_tests import *\n",
    "\n",
    "%matplotlib inline\n",
    "plt.rcParams['figure.figsize'] = (7.0, 4.0) # set default size of plots\n",
    "plt.rcParams['image.interpolation'] = 'nearest'\n",
    "plt.rcParams['image.cmap'] = 'gray'\n",
    "\n",
    "%load_ext autoreload\n",
    "%autoreload 2"
   ]
  },
  {
   "cell_type": "markdown",
   "metadata": {},
   "source": [
    "<a name='2'></a>\n",
    "## 2 - Problem Statement"
   ]
  },
  {
   "cell_type": "markdown",
   "metadata": {},
   "source": [
    "You have just been hired as an AI expert by the French Football Corporation. They would like you to recommend positions where France's goal keeper should kick the ball so that the French team's players can then hit it with their head. \n",
    "\n",
    "<img src=\"images/field_kiank.png\" style=\"width:600px;height:350px;\">\n",
    "\n",
    "<caption><center><font color='purple'><b>Figure 1</b>: Football field. The goal keeper kicks the ball in the air, the players of each team are fighting to hit the ball with their head </font></center></caption>\n",
    "\n",
    "\n",
    "They give you the following 2D dataset from France's past 10 games."
   ]
  },
  {
   "cell_type": "markdown",
   "metadata": {},
   "source": [
    "<a name='3'></a>\n",
    "## 3 - Loading the Dataset"
   ]
  },
  {
   "cell_type": "code",
   "execution_count": 3,
   "metadata": {},
   "outputs": [],
   "source": [
    "train_X, train_Y, test_X, test_Y = load_2D_dataset()"
   ]
  },
  {
   "cell_type": "code",
   "execution_count": 10,
   "metadata": {},
   "outputs": [
    {
     "data": {
      "text/plain": [
       "((2, 211), (1, 211))"
      ]
     },
     "execution_count": 10,
     "metadata": {},
     "output_type": "execute_result"
    }
   ],
   "source": [
    "train_X.shape, train_Y.shape"
   ]
  },
  {
   "cell_type": "code",
   "execution_count": 9,
   "metadata": {},
   "outputs": [
    {
     "data": {
      "text/plain": [
       "(array([[-1.58986e-01, -3.47926e-01, -5.04608e-01, -5.96774e-01,\n",
       "         -5.18433e-01, -2.92627e-01, -1.58986e-01, -5.76037e-02,\n",
       "         -7.14286e-02, -2.97235e-01, -4.17051e-01, -4.40092e-01,\n",
       "         -3.24885e-01, -2.46544e-01, -2.18894e-01, -3.43318e-01,\n",
       "         -5.09217e-01, -3.84793e-01, -1.49770e-01, -1.95853e-01,\n",
       "         -3.91705e-02, -1.08295e-01, -1.86636e-01, -2.18894e-01,\n",
       "         -8.06452e-02,  6.68203e-02,  9.44700e-02,  1.86636e-01,\n",
       "          6.22120e-02,  2.07373e-02,  2.99539e-02, -9.90783e-02,\n",
       "         -6.91244e-03,  1.31336e-01,  2.32719e-01,  8.52535e-02,\n",
       "         -1.31336e-01,  2.30415e-03,  1.22120e-01, -3.47926e-01,\n",
       "         -2.28111e-01, -7.60369e-02,  4.37788e-02,  1.15207e-02,\n",
       "         -4.17051e-01, -3.15668e-01,  1.26728e-01,  2.05069e-01,\n",
       "          2.18894e-01,  7.14286e-02, -1.31336e-01, -2.09677e-01,\n",
       "         -2.28111e-01, -1.45161e-01, -6.68203e-02,  1.35945e-01,\n",
       "          2.69585e-01,  2.97235e-01,  2.74194e-01,  2.55760e-01,\n",
       "          2.23502e-01,  1.82028e-01,  1.58986e-01,  7.14286e-02,\n",
       "          1.61290e-02, -2.53456e-02, -1.15207e-02, -2.30415e-03,\n",
       "          2.53456e-02,  2.53456e-02,  1.15207e-02, -4.83871e-02,\n",
       "         -8.52535e-02, -9.90783e-02, -1.61290e-02,  1.31336e-01,\n",
       "          2.23502e-01,  2.92627e-01,  2.60369e-01,  2.00461e-01,\n",
       "          1.72811e-01, -1.31336e-01, -1.49770e-01, -2.41935e-01,\n",
       "         -3.01843e-01, -2.97235e-01, -2.74194e-01, -3.24885e-01,\n",
       "         -3.98618e-01, -4.35484e-01, -4.72350e-01, -3.38710e-01,\n",
       "         -2.69585e-01, -2.55760e-01, -1.68203e-01, -1.12903e-01,\n",
       "         -3.91705e-02, -1.26728e-01, -2.32719e-01, -3.38710e-01,\n",
       "         -4.12442e-01, -5.09217e-01, -5.41475e-01, -5.04608e-01,\n",
       "         -4.90783e-01, -3.61751e-01, -2.69585e-01, -2.23502e-01,\n",
       "         -1.86636e-01, -1.54378e-01, -1.12903e-01, -8.52535e-02,\n",
       "         -8.52535e-02, -1.68203e-01, -1.91244e-01, -1.40553e-01,\n",
       "         -2.99539e-02, -2.00461e-01, -1.08295e-01,  3.45622e-02,\n",
       "          8.06452e-02, -3.85369e-01, -3.81221e-01, -3.52189e-01,\n",
       "         -3.54263e-01, -4.14401e-01, -4.99424e-01, -2.98272e-01,\n",
       "         -3.16935e-01, -3.68779e-01, -3.56336e-01, -2.71313e-01,\n",
       "         -1.77995e-01, -2.46429e-01, -2.50576e-01, -2.21544e-01,\n",
       "         -2.15323e-01, -1.30300e-01, -2.07028e-01, -9.71198e-02,\n",
       "         -3.90553e-02,  1.90092e-02, -3.69816e-02, -6.39401e-02,\n",
       "         -1.30300e-01, -3.75000e-01, -3.95737e-01, -3.54263e-01,\n",
       "         -4.37212e-01, -4.80760e-01, -4.10253e-01, -2.48502e-01,\n",
       "         -2.27765e-01, -2.83756e-01, -2.92051e-01, -3.37673e-01,\n",
       "         -2.77535e-01, -2.07028e-01, -1.86290e-01, -1.32373e-01,\n",
       "         -1.77995e-01, -1.65553e-01, -1.61406e-01,  3.45622e-04,\n",
       "          7.91475e-02, -2.66129e-02, -5.35714e-02, -1.41705e-02,\n",
       "         -7.01613e-02, -6.39401e-02, -3.07604e-02, -5.77189e-02,\n",
       "         -5.35714e-02,  5.21889e-02, -1.62442e-02, -6.39401e-02,\n",
       "         -6.18664e-02, -3.80184e-03,  4.18203e-02,  7.91475e-02,\n",
       "          4.59677e-02,  1.18548e-01,  1.10253e-01,  1.08180e-01,\n",
       "          1.66244e-01,  1.41359e-01,  1.43433e-01,  1.70392e-01,\n",
       "          1.08180e-01,  1.18548e-01,  1.26843e-01, -8.67512e-02,\n",
       "         -4.73502e-02,  2.52304e-02,  6.25576e-02, -5.87558e-03,\n",
       "         -5.14977e-02, -8.05300e-02, -1.53111e-01, -1.11636e-01,\n",
       "         -1.63479e-01, -2.52650e-01, -2.46429e-01, -3.21083e-01,\n",
       "         -3.31452e-01, -3.85369e-01, -3.99885e-01, -1.24078e-01,\n",
       "         -3.16935e-01, -2.94124e-01, -1.53111e-01],\n",
       "        [ 4.23977e-01,  4.70760e-01,  3.53801e-01,  1.14035e-01,\n",
       "         -1.72515e-01, -2.07602e-01, -4.38596e-02,  1.43275e-01,\n",
       "          2.71930e-01,  3.47953e-01,  2.01754e-01,  8.77193e-03,\n",
       "         -3.21637e-02,  5.55556e-02,  2.01754e-01,  1.60819e-01,\n",
       "          7.89474e-02, -9.06433e-02,  1.25731e-01,  3.24561e-01,\n",
       "         -2.19298e-01, -3.01170e-01, -3.30409e-01, -4.23977e-01,\n",
       "         -5.64327e-01, -5.17544e-01, -3.24561e-01, -1.66667e-01,\n",
       "         -7.30994e-02, -1.95906e-01, -3.42105e-01, -3.77193e-01,\n",
       "         -4.64912e-01, -4.29825e-01, -1.95906e-01, -8.47953e-02,\n",
       "         -2.36842e-01, -1.25731e-01, -2.92398e-03, -3.12865e-01,\n",
       "         -1.25731e-01,  1.46199e-02,  2.04678e-02,  1.54971e-01,\n",
       "         -1.60819e-01, -3.18713e-01, -2.19298e-01, -3.12865e-01,\n",
       "         -4.59064e-01, -6.46199e-01, -6.05263e-01, -5.81871e-01,\n",
       "         -4.29825e-01, -4.12281e-01, -4.82456e-01, -5.11696e-01,\n",
       "         -4.06433e-01, -2.95322e-01, -1.72515e-01, -4.97076e-02,\n",
       "         -4.97076e-02, -8.47953e-02, -1.54971e-01, -2.13450e-01,\n",
       "         -2.66082e-01, -3.83041e-01, -4.82456e-01, -5.05848e-01,\n",
       "         -5.11696e-01, -5.58480e-01, -6.57895e-01, -6.46199e-01,\n",
       "         -5.52632e-01, -5.00000e-01, -4.23977e-01, -3.59649e-01,\n",
       "         -3.71345e-01, -3.01170e-01, -2.07602e-01, -2.25146e-01,\n",
       "         -2.71930e-01,  9.06433e-02,  7.30994e-02,  6.14035e-02,\n",
       "          1.78363e-01,  1.95906e-01,  3.07018e-01,  2.95322e-01,\n",
       "          2.66082e-01,  1.60819e-01,  7.89474e-02,  4.38596e-02,\n",
       "          4.38596e-02,  1.02339e-01,  2.66082e-01,  3.01170e-01,\n",
       "          3.47953e-01,  4.41520e-01,  4.41520e-01,  4.18129e-01,\n",
       "          3.53801e-01,  2.19298e-01,  1.46199e-02, -1.25731e-01,\n",
       "         -1.43275e-01, -1.37427e-01, -8.47953e-02, -7.89474e-02,\n",
       "         -3.80117e-02, -8.77193e-03,  5.55556e-02,  1.37427e-01,\n",
       "          2.77778e-01,  3.01170e-01,  1.95906e-01, -4.97076e-02,\n",
       "          6.72515e-02, -2.30994e-01, -8.47953e-02,  6.72515e-02,\n",
       "          1.19883e-01,  3.30409e-02,  1.31287e-01,  2.58187e-01,\n",
       "          3.64620e-01, -6.92982e-02, -3.24561e-02, -9.79532e-02,\n",
       "         -1.83918e-01, -2.90351e-01, -3.96784e-01,  4.38596e-03,\n",
       "          8.62573e-02,  1.43567e-01,  2.29532e-01,  3.76901e-01,\n",
       "          2.95029e-01,  2.17251e-01,  2.89474e-02,  2.13158e-01,\n",
       "          2.58187e-01,  4.01462e-01,  4.21930e-01,  3.31871e-01,\n",
       "          3.76901e-01, -4.37719e-01, -3.51754e-01, -2.08480e-01,\n",
       "         -3.76316e-01, -5.03216e-01, -4.66374e-01, -2.57602e-01,\n",
       "         -3.14912e-01, -3.84503e-01, -4.54094e-01, -5.19591e-01,\n",
       "         -5.48246e-01, -5.35965e-01, -4.78655e-01, -5.07310e-01,\n",
       "         -2.98538e-01, -1.75731e-01, -1.26608e-01,  2.58187e-01,\n",
       "          3.56433e-01,  1.80409e-01,  7.80702e-02, -5.29240e-02,\n",
       "         -1.63450e-01, -2.94444e-01, -4.66374e-01, -5.27778e-01,\n",
       "         -3.96784e-01, -4.17251e-01, -1.67544e-01, -8.56725e-02,\n",
       "         -1.60819e-02,  4.38596e-03,  2.04971e-01,  1.92690e-01,\n",
       "          2.54094e-01,  1.92690e-01,  8.62573e-02, -6.92982e-02,\n",
       "         -2.42690e-02,  6.57895e-02,  1.68129e-01,  1.92690e-01,\n",
       "          2.99123e-01,  3.19591e-01,  3.93275e-01,  4.21930e-01,\n",
       "          5.07895e-01,  5.20175e-01,  5.52924e-01,  4.42398e-01,\n",
       "          5.73392e-01,  5.07895e-01,  5.52924e-01,  5.48830e-01,\n",
       "          4.91520e-01, -1.88012e-01, -3.65497e-02, -4.33626e-01,\n",
       "         -6.05556e-01, -5.15497e-01, -6.21930e-01, -1.26608e-01,\n",
       "         -2.28947e-01, -1.34795e-01,  1.84503e-01]]),\n",
       " array([[1, 1, 1, 1, 1, 1, 1, 1, 1, 1, 1, 1, 1, 1, 1, 1, 1, 1, 1, 1, 0, 0,\n",
       "         0, 0, 0, 0, 0, 0, 0, 0, 0, 0, 0, 0, 0, 0, 1, 1, 1, 0, 0, 0, 0, 0,\n",
       "         0, 0, 0, 0, 0, 0, 0, 0, 0, 0, 0, 0, 0, 0, 0, 0, 0, 0, 0, 0, 0, 0,\n",
       "         0, 0, 0, 0, 0, 0, 0, 0, 0, 0, 0, 0, 0, 0, 0, 1, 1, 1, 1, 1, 1, 1,\n",
       "         1, 1, 1, 1, 1, 1, 1, 1, 1, 1, 1, 1, 1, 1, 1, 1, 1, 1, 1, 1, 1, 1,\n",
       "         1, 1, 1, 1, 1, 1, 1, 0, 0, 0, 0, 1, 1, 1, 1, 1, 1, 1, 1, 1, 1, 1,\n",
       "         1, 1, 1, 1, 1, 1, 1, 1, 1, 1, 1, 1, 1, 1, 1, 1, 1, 1, 1, 0, 0, 0,\n",
       "         0, 0, 0, 0, 0, 0, 0, 0, 0, 0, 0, 0, 0, 0, 0, 0, 0, 0, 0, 0, 0, 0,\n",
       "         0, 0, 0, 0, 0, 0, 0, 0, 0, 0, 0, 0, 0, 0, 0, 1, 1, 1, 1, 1, 1, 1,\n",
       "         1, 1, 1, 1, 1, 1, 0, 1, 1, 1, 1, 0, 0]], dtype=uint8))"
      ]
     },
     "execution_count": 9,
     "metadata": {},
     "output_type": "execute_result"
    }
   ],
   "source": [
    "train_X, train_Y"
   ]
  },
  {
   "cell_type": "markdown",
   "metadata": {},
   "source": [
    "Each dot corresponds to a position on the football field where a football player has hit the ball with his/her head after the French goal keeper has shot the ball from the left side of the football field.\n",
    "- If the dot is blue, it means the French player managed to hit the ball with his/her head\n",
    "- If the dot is red, it means the other team's player hit the ball with their head\n",
    "\n",
    "**Your goal**: Use a deep learning model to find the positions on the field where the goalkeeper should kick the ball."
   ]
  },
  {
   "cell_type": "markdown",
   "metadata": {},
   "source": [
    "**Analysis of the dataset**: This dataset is a little noisy, but it looks like a diagonal line separating the upper left half (blue) from the lower right half (red) would work well. \n",
    "\n",
    "You will first try a non-regularized model. Then you'll learn how to regularize it and decide which model you will choose to solve the French Football Corporation's problem. "
   ]
  },
  {
   "cell_type": "markdown",
   "metadata": {},
   "source": [
    "<a name='4'></a>\n",
    "## 4 - Non-Regularized Model\n",
    "\n",
    "You will use the following neural network (already implemented for you below). This model can be used:\n",
    "- in *regularization mode* -- by setting the `lambd` input to a non-zero value. We use \"`lambd`\" instead of \"`lambda`\" because \"`lambda`\" is a reserved keyword in Python. \n",
    "- in *dropout mode* -- by setting the `keep_prob` to a value less than one\n",
    "\n",
    "You will first try the model without any regularization. Then, you will implement:\n",
    "- *L2 regularization* -- functions: \"`compute_cost_with_regularization()`\" and \"`backward_propagation_with_regularization()`\"\n",
    "- *Dropout* -- functions: \"`forward_propagation_with_dropout()`\" and \"`backward_propagation_with_dropout()`\"\n",
    "\n",
    "In each part, you will run this model with the correct inputs so that it calls the functions you've implemented. Take a look at the code below to familiarize yourself with the model."
   ]
  },
  {
   "cell_type": "code",
   "execution_count": 4,
   "metadata": {},
   "outputs": [],
   "source": [
    "def model(X, Y, learning_rate = 0.3, num_iterations = 30000, print_cost = True, lambd = 0, keep_prob = 1):\n",
    "    \"\"\"\n",
    "    Implements a three-layer neural network: LINEAR->RELU->LINEAR->RELU->LINEAR->SIGMOID.\n",
    "    \n",
    "    Arguments:\n",
    "    X -- input data, of shape (input size, number of examples)\n",
    "    Y -- true \"label\" vector (1 for blue dot / 0 for red dot), of shape (output size, number of examples)\n",
    "    learning_rate -- learning rate of the optimization\n",
    "    num_iterations -- number of iterations of the optimization loop\n",
    "    print_cost -- If True, print the cost every 10000 iterations\n",
    "    lambd -- regularization hyperparameter, scalar\n",
    "    keep_prob - probability of keeping a neuron active during drop-out, scalar.\n",
    "    \n",
    "    Returns:\n",
    "    parameters -- parameters learned by the model. They can then be used to predict.\n",
    "    \"\"\"\n",
    "        \n",
    "    grads = {}\n",
    "    costs = []                            # to keep track of the cost\n",
    "    m = X.shape[1]                        # number of examples\n",
    "    layers_dims = [X.shape[0], 20, 3, 1]\n",
    "    \n",
    "    # Initialize parameters dictionary.\n",
    "    parameters = initialize_parameters(layers_dims)\n",
    "\n",
    "    # Loop (gradient descent)\n",
    "\n",
    "    for i in range(0, num_iterations):\n",
    "\n",
    "        # Forward propagation: LINEAR -> RELU -> LINEAR -> RELU -> LINEAR -> SIGMOID.\n",
    "        if keep_prob == 1:\n",
    "            a3, cache = forward_propagation(X, parameters)\n",
    "        elif keep_prob < 1:\n",
    "            a3, cache = forward_propagation_with_dropout(X, parameters, keep_prob)\n",
    "        \n",
    "        # Cost function\n",
    "        if lambd == 0:\n",
    "            cost = compute_cost(a3, Y)\n",
    "        else:\n",
    "            cost = compute_cost_with_regularization(a3, Y, parameters, lambd)\n",
    "            \n",
    "        # Backward propagation.\n",
    "        assert (lambd == 0 or keep_prob == 1)   # it is possible to use both L2 regularization and dropout, \n",
    "                                                # but this assignment will only explore one at a time\n",
    "        if lambd == 0 and keep_prob == 1:\n",
    "            grads = backward_propagation(X, Y, cache)\n",
    "        elif lambd != 0:\n",
    "            grads = backward_propagation_with_regularization(X, Y, cache, lambd)\n",
    "        elif keep_prob < 1:\n",
    "            grads = backward_propagation_with_dropout(X, Y, cache, keep_prob)\n",
    "        \n",
    "        # Update parameters.\n",
    "        parameters = update_parameters(parameters, grads, learning_rate)\n",
    "        \n",
    "        # Print the loss every 10000 iterations\n",
    "        if print_cost and i % 10000 == 0:\n",
    "            print(\"Cost after iteration {}: {}\".format(i, cost))\n",
    "        if print_cost and i % 1000 == 0:\n",
    "            costs.append(cost)\n",
    "    \n",
    "    # plot the cost\n",
    "    plt.plot(costs)\n",
    "    plt.ylabel('cost')\n",
    "    plt.xlabel('iterations (x1,000)')\n",
    "    plt.title(\"Learning rate =\" + str(learning_rate))\n",
    "    plt.show()\n",
    "    \n",
    "    return parameters"
   ]
  },
  {
   "cell_type": "markdown",
   "metadata": {},
   "source": [
    "Let's train the model without any regularization, and observe the accuracy on the train/test sets."
   ]
  },
  {
   "cell_type": "code",
   "execution_count": 5,
   "metadata": {},
   "outputs": [
    {
     "name": "stdout",
     "output_type": "stream",
     "text": [
      "Cost after iteration 0: 0.6557412523481002\n",
      "Cost after iteration 10000: 0.16329987525724224\n",
      "Cost after iteration 20000: 0.13851642423246036\n"
     ]
    },
    {
     "data": {
      "image/png": "[encoded data removed]",
      "text/plain": [
       "<Figure size 700x400 with 1 Axes>"
      ]
     },
     "metadata": {},
     "output_type": "display_data"
    },
    {
     "name": "stdout",
     "output_type": "stream",
     "text": [
      "On the training set:\n",
      "Accuracy: 0.9478672985781991\n",
      "On the test set:\n",
      "Accuracy: 0.915\n"
     ]
    }
   ],
   "source": [
    "parameters = model(train_X, train_Y)\n",
    "print (\"On the training set:\")\n",
    "predictions_train = predict(train_X, train_Y, parameters)\n",
    "print (\"On the test set:\")\n",
    "predictions_test = predict(test_X, test_Y, parameters)"
   ]
  },
  {
   "cell_type": "markdown",
   "metadata": {},
   "source": [
    "The train accuracy is 94.8% while the test accuracy is 91.5%. This is the **baseline model** (you will observe the impact of regularization on this model). Run the following code to plot the decision boundary of your model."
   ]
  },
  {
   "cell_type": "code",
   "execution_count": 6,
   "metadata": {},
   "outputs": [
    {
     "data": {
      "image/png": "[encoded data removed]",
      "text/plain": [
       "<Figure size 700x400 with 1 Axes>"
      ]
     },
     "metadata": {},
     "output_type": "display_data"
    }
   ],
   "source": [
    "plt.title(\"Model without regularization\")\n",
    "axes = plt.gca()\n",
    "axes.set_xlim([-0.75,0.40])\n",
    "axes.set_ylim([-0.75,0.65])\n",
    "plot_decision_boundary(lambda x: predict_dec(parameters, x.T), train_X, train_Y)"
   ]
  },
  {
   "cell_type": "markdown",
   "metadata": {},
   "source": [
    "The non-regularized model is obviously overfitting the training set. It is fitting the noisy points! Lets now look at two techniques to reduce overfitting."
   ]
  },
  {
   "cell_type": "markdown",
   "metadata": {},
   "source": [
    "<a name='5'></a>\n",
    "## 5 - L2 Regularization\n",
    "\n",
    "The standard way to avoid overfitting is called **L2 regularization**. It consists of appropriately modifying your cost function, from:\n",
    "$$J = -\\frac{1}{m} \\sum\\limits_{i = 1}^{m} \\large{(}\\small  y^{(i)}\\log\\left(a^{[L](i)}\\right) + (1-y^{(i)})\\log\\left(1- a^{[L](i)}\\right) \\large{)} \\tag{1}$$\n",
    "To:\n",
    "$$J_{regularized} = \\small \\underbrace{-\\frac{1}{m} \\sum\\limits_{i = 1}^{m} \\large{(}\\small y^{(i)}\\log\\left(a^{[L](i)}\\right) + (1-y^{(i)})\\log\\left(1- a^{[L](i)}\\right) \\large{)} }_\\text{cross-entropy cost} + \\underbrace{\\frac{1}{m} \\frac{\\lambda}{2} \\sum\\limits_l\\sum\\limits_k\\sum\\limits_j W_{k,j}^{[l]2} }_\\text{L2 regularization cost} \\tag{2}$$\n",
    "\n",
    "Let's modify your cost and observe the consequences.\n",
    "\n",
    "<a name='ex-1'></a>\n",
    "### Exercise 1 - compute_cost_with_regularization\n",
    "Implement `compute_cost_with_regularization()` which computes the cost given by formula (2). To calculate $\\sum\\limits_k\\sum\\limits_j W_{k,j}^{[l]2}$  , use :\n",
    "```python\n",
    "np.sum(np.square(Wl))\n",
    "```\n",
    "Note that you have to do this for $W^{[1]}$, $W^{[2]}$ and $W^{[3]}$, then sum the three terms and multiply by $ \\frac{1}{m} \\frac{\\lambda}{2} $."
   ]
  },
  {
   "cell_type": "code",
   "execution_count": 13,
   "metadata": {
    "deletable": false,
    "nbgrader": {
     "cell_type": "code",
     "checksum": "88e54417c158ef5260e3107ab846463e",
     "grade": false,
     "grade_id": "cell-02a896d283f479aa",
     "locked": false,
     "schema_version": 3,
     "solution": true,
     "task": false
    }
   },
   "outputs": [],
   "source": [
    "# GRADED FUNCTION: compute_cost_with_regularization\n",
    "\n",
    "def compute_cost_with_regularization(A3, Y, parameters, lambd):\n",
    "    \"\"\"\n",
    "    Implement the cost function with L2 regularization. See formula (2) above.\n",
    "    \n",
    "    Arguments:\n",
    "    A3 -- post-activation, output of forward propagation, of shape (output size, number of examples)\n",
    "    Y -- \"true\" labels vector, of shape (output size, number of examples)\n",
    "    parameters -- python dictionary containing parameters of the model\n",
    "    \n",
    "    Returns:\n",
    "    cost - value of the regularized loss function (formula (2))\n",
    "    \"\"\"\n",
    "    m = Y.shape[1]\n",
    "    W1 = parameters[\"W1\"]\n",
    "    W2 = parameters[\"W2\"]\n",
    "    W3 = parameters[\"W3\"]\n",
    "    \n",
    "    cross_entropy_cost = compute_cost(A3, Y) # This gives you the cross-entropy part of the cost\n",
    "    \n",
    "    #(≈ 1 lines of code)\n",
    "    # L2_regularization_cost = \n",
    "    # YOUR CODE STARTS HERE\n",
    "    L2_regularization_cost = 1/m * lambd / 2 * np.sum([np.sum(np.square(Wl)) for Wl in [W1, W2, W3]])\n",
    "    \n",
    "    # YOUR CODE ENDS HERE\n",
    "    \n",
    "    cost = cross_entropy_cost + L2_regularization_cost\n",
    "    \n",
    "    return cost"
   ]
  },
  {
   "cell_type": "code",
   "execution_count": 14,
   "metadata": {
    "deletable": false,
    "editable": false,
    "nbgrader": {
     "cell_type": "code",
     "checksum": "c8efc715a4d6127a214a1b9f97e9f4cb",
     "grade": true,
     "grade_id": "cell-8a99b24d8ecfe0c3",
     "locked": true,
     "points": 10,
     "schema_version": 3,
     "solution": false,
     "task": false
    }
   },
   "outputs": [
    {
     "name": "stdout",
     "output_type": "stream",
     "text": [
      "cost = 1.7864859451590758\n",
      "\u001b[92m All tests passed.\n"
     ]
    }
   ],
   "source": [
    "A3, t_Y, parameters = compute_cost_with_regularization_test_case()\n",
    "cost = compute_cost_with_regularization(A3, t_Y, parameters, lambd=0.1)\n",
    "print(\"cost = \" + str(cost))\n",
    "\n",
    "compute_cost_with_regularization_test(compute_cost_with_regularization)"
   ]
  },
  {
   "cell_type": "markdown",
   "metadata": {},
   "source": [
    "Of course, because you changed the cost, you have to change backward propagation as well! All the gradients have to be computed with respect to this new cost. \n",
    "\n",
    "<a name='ex-2'></a>\n",
    "### Exercise 2 - backward_propagation_with_regularization\n",
    "Implement the changes needed in backward propagation to take into account regularization. The changes only concern dW1, dW2 and dW3. For each, you have to add the regularization term's gradient ($\\frac{d}{dW} ( \\frac{1}{2}\\frac{\\lambda}{m}  W^2) = \\frac{\\lambda}{m} W$)."
   ]
  },
  {
   "cell_type": "code",
   "execution_count": 15,
   "metadata": {
    "deletable": false,
    "nbgrader": {
     "cell_type": "code",
     "checksum": "eb2dfa385aa47fe2e2edf5c6821618e6",
     "grade": false,
     "grade_id": "cell-c6f6ed3630e04d4b",
     "locked": false,
     "schema_version": 3,
     "solution": true,
     "task": false
    }
   },
   "outputs": [],
   "source": [
    "# GRADED FUNCTION: backward_propagation_with_regularization\n",
    "\n",
    "def backward_propagation_with_regularization(X, Y, cache, lambd):\n",
    "    \"\"\"\n",
    "    Implements the backward propagation of our baseline model to which we added an L2 regularization.\n",
    "    \n",
    "    Arguments:\n",
    "    X -- input dataset, of shape (input size, number of examples)\n",
    "    Y -- \"true\" labels vector, of shape (output size, number of examples)\n",
    "    cache -- cache output from forward_propagation()\n",
    "    lambd -- regularization hyperparameter, scalar\n",
    "    \n",
    "    Returns:\n",
    "    gradients -- A dictionary with the gradients with respect to each parameter, activation and pre-activation variables\n",
    "    \"\"\"\n",
    "    \n",
    "    m = X.shape[1]\n",
    "    (Z1, A1, W1, b1, Z2, A2, W2, b2, Z3, A3, W3, b3) = cache\n",
    "    \n",
    "    dZ3 = A3 - Y\n",
    "    #(≈ 1 lines of code)\n",
    "    # dW3 = 1./m * np.dot(dZ3, A2.T) + None\n",
    "    # YOUR CODE STARTS HERE\n",
    "    dW3 = 1./m * np.dot(dZ3, A2.T) + lambd/m * W3\n",
    "    \n",
    "    # YOUR CODE ENDS HERE\n",
    "    db3 = 1. / m * np.sum(dZ3, axis=1, keepdims=True)\n",
    "    \n",
    "    dA2 = np.dot(W3.T, dZ3)\n",
    "    dZ2 = np.multiply(dA2, np.int64(A2 > 0))\n",
    "    #(≈ 1 lines of code)\n",
    "    # dW2 = 1./m * np.dot(dZ2, A1.T) + None\n",
    "    # YOUR CODE STARTS HERE\n",
    "    dW2 = 1./m * np.dot(dZ2, A1.T) + lambd/m * W2\n",
    "    \n",
    "    # YOUR CODE ENDS HERE\n",
    "    db2 = 1. / m * np.sum(dZ2, axis=1, keepdims=True)\n",
    "    \n",
    "    dA1 = np.dot(W2.T, dZ2)\n",
    "    dZ1 = np.multiply(dA1, np.int64(A1 > 0))\n",
    "    #(≈ 1 lines of code)\n",
    "    # dW1 = 1./m * np.dot(dZ1, X.T) + None\n",
    "    # YOUR CODE STARTS HERE\n",
    "    dW1 = 1./m * np.dot(dZ1, X.T) + lambd/m * W1\n",
    "    \n",
    "    # YOUR CODE ENDS HERE\n",
    "    db1 = 1. / m * np.sum(dZ1, axis=1, keepdims=True)\n",
    "    \n",
    "    gradients = {\"dZ3\": dZ3, \"dW3\": dW3, \"db3\": db3,\"dA2\": dA2,\n",
    "                 \"dZ2\": dZ2, \"dW2\": dW2, \"db2\": db2, \"dA1\": dA1, \n",
    "                 \"dZ1\": dZ1, \"dW1\": dW1, \"db1\": db1}\n",
    "    \n",
    "    return gradients"
   ]
  },
  {
   "cell_type": "code",
   "execution_count": 16,
   "metadata": {
    "deletable": false,
    "editable": false,
    "nbgrader": {
     "cell_type": "code",
     "checksum": "bd8e0024ad54c2facd2fb8e11d21d2a0",
     "grade": true,
     "grade_id": "cell-9826510f7bfdd0f8",
     "locked": true,
     "points": 10,
     "schema_version": 3,
     "solution": false,
     "task": false
    }
   },
   "outputs": [
    {
     "name": "stdout",
     "output_type": "stream",
     "text": [
      "dW1 = \n",
      "[[-0.25604646  0.12298827 -0.28297129]\n",
      " [-0.17706303  0.34536094 -0.4410571 ]]\n",
      "dW2 = \n",
      "[[ 0.79276486  0.85133918]\n",
      " [-0.0957219  -0.01720463]\n",
      " [-0.13100772 -0.03750433]]\n",
      "dW3 = \n",
      "[[-1.77691347 -0.11832879 -0.09397446]]\n",
      "\u001b[92m All tests passed.\n"
     ]
    }
   ],
   "source": [
    "t_X, t_Y, cache = backward_propagation_with_regularization_test_case()\n",
    "\n",
    "grads = backward_propagation_with_regularization(t_X, t_Y, cache, lambd = 0.7)\n",
    "print (\"dW1 = \\n\"+ str(grads[\"dW1\"]))\n",
    "print (\"dW2 = \\n\"+ str(grads[\"dW2\"]))\n",
    "print (\"dW3 = \\n\"+ str(grads[\"dW3\"]))\n",
    "backward_propagation_with_regularization_test(backward_propagation_with_regularization)"
   ]
  },
  {
   "cell_type": "markdown",
   "metadata": {},
   "source": [
    "Let's now run the model with L2 regularization $(\\lambda = 0.7)$. The `model()` function will call: \n",
    "- `compute_cost_with_regularization` instead of `compute_cost`\n",
    "- `backward_propagation_with_regularization` instead of `backward_propagation`"
   ]
  },
  {
   "cell_type": "code",
   "execution_count": 17,
   "metadata": {},
   "outputs": [
    {
     "name": "stdout",
     "output_type": "stream",
     "text": [
      "Cost after iteration 0: 0.6974484493131264\n",
      "Cost after iteration 10000: 0.2684918873282239\n",
      "Cost after iteration 20000: 0.26809163371273004\n"
     ]
    },
    {
     "data": {
      "image/png": "[encoded data removed]",
      "text/plain": [
       "<Figure size 700x400 with 1 Axes>"
      ]
     },
     "metadata": {},
     "output_type": "display_data"
    },
    {
     "name": "stdout",
     "output_type": "stream",
     "text": [
      "On the train set:\n",
      "Accuracy: 0.9383886255924171\n",
      "On the test set:\n",
      "Accuracy: 0.93\n"
     ]
    }
   ],
   "source": [
    "parameters = model(train_X, train_Y, lambd = 0.7)\n",
    "print (\"On the train set:\")\n",
    "predictions_train = predict(train_X, train_Y, parameters)\n",
    "print (\"On the test set:\")\n",
    "predictions_test = predict(test_X, test_Y, parameters)"
   ]
  },
  {
   "cell_type": "markdown",
   "metadata": {},
   "source": [
    "Congrats, the test set accuracy increased to 93%. You have saved the French football team!\n",
    "\n",
    "You are not overfitting the training data anymore. Let's plot the decision boundary."
   ]
  },
  {
   "cell_type": "code",
   "execution_count": 18,
   "metadata": {},
   "outputs": [
    {
     "data": {
      "image/png": "[encoded data removed]",
      "text/plain": [
       "<Figure size 700x400 with 1 Axes>"
      ]
     },
     "metadata": {},
     "output_type": "display_data"
    }
   ],
   "source": [
    "plt.title(\"Model with L2-regularization\")\n",
    "axes = plt.gca()\n",
    "axes.set_xlim([-0.75,0.40])\n",
    "axes.set_ylim([-0.75,0.65])\n",
    "plot_decision_boundary(lambda x: predict_dec(parameters, x.T), train_X, train_Y)"
   ]
  },
  {
   "cell_type": "markdown",
   "metadata": {},
   "source": [
    "**Observations**:\n",
    "- The value of $\\lambda$ is a hyperparameter that you can tune using a dev set.\n",
    "- L2 regularization makes your decision boundary smoother. If $\\lambda$ is too large, it is also possible to \"oversmooth\", resulting in a model with high bias.\n",
    "\n",
    "**What is L2-regularization actually doing?**:\n",
    "\n",
    "L2-regularization relies on the assumption that a model with small weights is simpler than a model with large weights. Thus, by penalizing the square values of the weights in the cost function you drive all the weights to smaller values. It becomes too costly for the cost to have large weights! This leads to a smoother model in which the output changes more slowly as the input changes. \n",
    "\n",
    "<br>\n",
    "<font color='blue'>\n",
    "    \n",
    "**What you should remember:** the implications of L2-regularization on:\n",
    "- The cost computation:\n",
    "    - A regularization term is added to the cost.\n",
    "- The backpropagation function:\n",
    "    - There are extra terms in the gradients with respect to weight matrices.\n",
    "- Weights end up smaller (\"weight decay\"): \n",
    "    - Weights are pushed to smaller values."
   ]
  },
  {
   "cell_type": "markdown",
   "metadata": {},
   "source": [
    "<a name='6'></a>\n",
    "## 6 - Dropout\n",
    "\n",
    "Finally, **dropout** is a widely used regularization technique that is specific to deep learning. \n",
    "**It randomly shuts down some neurons in each iteration.** Watch these two videos to see what this means!\n",
    "\n",
    "<!--\n",
    "To understand drop-out, consider this conversation with a friend:\n",
    "- Friend: \"Why do you need all these neurons to train your network and classify images?\". \n",
    "- You: \"Because each neuron contains a weight and can learn specific features/details/shape of an image. The more neurons I have, the more featurse my model learns!\"\n",
    "- Friend: \"I see, but are you sure that your neurons are learning different features and not all the same features?\"\n",
    "- You: \"Good point... Neurons in the same layer actually don't talk to each other. It should be definitly possible that they learn the same image features/shapes/forms/details... which would be redundant. There should be a solution.\"\n",
    "!--> \n",
    "\n",
    "\n",
    "<center>\n",
    "<video width=\"620\" height=\"440\" src=\"images/dropout1_kiank.mp4\" type=\"video/mp4\" controls>\n",
    "</video>\n",
    "</center>\n",
    "<br>\n",
    "<caption><center><font color='purple'><b>Figure 2 </b>: <b>Drop-out on the second hidden layer.</b> <br> At each iteration, you shut down (= set to zero) each neuron of a layer with probability $1 - keep\\_prob$ or keep it with probability $keep\\_prob$ (50% here). The dropped neurons don't contribute to the training in both the forward and backward propagations of the iteration. </font></center></caption>\n",
    "\n",
    "<center>\n",
    "<video width=\"620\" height=\"440\" src=\"images/dropout2_kiank.mp4\" type=\"video/mp4\" controls>\n",
    "</video>\n",
    "</center>\n",
    "\n",
    "<caption><center><font color='purple'><b>Figure 3</b>:<b> Drop-out on the first and third hidden layers. </b><br> $1^{st}$ layer: we shut down on average 40% of the neurons.  $3^{rd}$ layer: we shut down on average 20% of the neurons. </font></center></caption>\n",
    "\n",
    "\n",
    "When you shut some neurons down, you actually modify your model. The idea behind drop-out is that at each iteration, you train a different model that uses only a subset of your neurons. With dropout, your neurons thus become less sensitive to the activation of one other specific neuron, because that other neuron might be shut down at any time. \n",
    "\n",
    "<a name='6-1'></a>\n",
    "### 6.1 - Forward Propagation with Dropout\n",
    "\n",
    "<a name='ex-3'></a>\n",
    "### Exercise 3 - forward_propagation_with_dropout\n",
    "\n",
    "Implement the forward propagation with dropout. You are using a 3 layer neural network, and will add dropout to the first and second hidden layers. We will not apply dropout to the input layer or output layer. \n",
    "\n",
    "**Instructions**:\n",
    "You would like to shut down some neurons in the first and second layers. To do that, you are going to carry out 4 Steps:\n",
    "1. In lecture, we dicussed creating a variable $d^{[1]}$ with the same shape as $a^{[1]}$ using `np.random.rand()` to randomly get numbers between 0 and 1. Here, you will use a vectorized implementation, so create a random matrix $D^{[1]} = [d^{[1](1)} d^{[1](2)} ... d^{[1](m)}] $ of the same dimension as $A^{[1]}$.\n",
    "2. Set each entry of $D^{[1]}$ to be 1 with probability (`keep_prob`), and 0 otherwise.\n",
    "\n",
    "**Hint:** Let's say that keep_prob = 0.8, which means that we want to keep about 80% of the neurons and drop out about 20% of them.  We want to generate a vector that has 1's and 0's, where about 80% of them are 1 and about 20% are 0.\n",
    "This python statement:  \n",
    "`X = (X < keep_prob).astype(int)`  \n",
    "\n",
    "is conceptually the same as this if-else statement (for the simple case of a one-dimensional array) :\n",
    "\n",
    "```\n",
    "for i,v in enumerate(x):\n",
    "    if v < keep_prob:\n",
    "        x[i] = 1\n",
    "    else: # v >= keep_prob\n",
    "        x[i] = 0\n",
    "```\n",
    "Note that the `X = (X < keep_prob).astype(int)` works with multi-dimensional arrays, and the resulting output preserves the dimensions of the input array.\n",
    "\n",
    "Also note that without using `.astype(int)`, the result is an array of booleans `True` and `False`, which Python automatically converts to 1 and 0 if we multiply it with numbers.  (However, it's better practice to convert data into the data type that we intend, so try using `.astype(int)`.)\n",
    "\n",
    "3. Set $A^{[1]}$ to $A^{[1]} * D^{[1]}$. (You are shutting down some neurons). You can think of $D^{[1]}$ as a mask, so that when it is multiplied with another matrix, it shuts down some of the values.\n",
    "4. Divide $A^{[1]}$ by `keep_prob`. By doing this you are assuring that the result of the cost will still have the same expected value as without drop-out. (This technique is also called inverted dropout.)"
   ]
  },
  {
   "cell_type": "code",
   "execution_count": 26,
   "metadata": {
    "deletable": false,
    "nbgrader": {
     "cell_type": "code",
     "checksum": "249ddfb0abac7c799948d3e600db7a4c",
     "grade": false,
     "grade_id": "cell-a81658747a0683be",
     "locked": false,
     "schema_version": 3,
     "solution": true,
     "task": false
    }
   },
   "outputs": [],
   "source": [
    "# GRADED FUNCTION: forward_propagation_with_dropout\n",
    "\n",
    "def forward_propagation_with_dropout(X, parameters, keep_prob = 0.5):\n",
    "    \"\"\"\n",
    "    Implements the forward propagation: LINEAR -> RELU + DROPOUT -> LINEAR -> RELU + DROPOUT -> LINEAR -> SIGMOID.\n",
    "    \n",
    "    Arguments:\n",
    "    X -- input dataset, of shape (2, number of examples)\n",
    "    parameters -- python dictionary containing your parameters \"W1\", \"b1\", \"W2\", \"b2\", \"W3\", \"b3\":\n",
    "                    W1 -- weight matrix of shape (20, 2)\n",
    "                    b1 -- bias vector of shape (20, 1)\n",
    "                    W2 -- weight matrix of shape (3, 20)\n",
    "                    b2 -- bias vector of shape (3, 1)\n",
    "                    W3 -- weight matrix of shape (1, 3)\n",
    "                    b3 -- bias vector of shape (1, 1)\n",
    "    keep_prob - probability of keeping a neuron active during drop-out, scalar\n",
    "    \n",
    "    Returns:\n",
    "    A3 -- last activation value, output of the forward propagation, of shape (1,1)\n",
    "    cache -- tuple, information stored for computing the backward propagation\n",
    "    \"\"\"\n",
    "    \n",
    "    np.random.seed(1)\n",
    "    \n",
    "    # retrieve parameters\n",
    "    W1 = parameters[\"W1\"]\n",
    "    b1 = parameters[\"b1\"]\n",
    "    W2 = parameters[\"W2\"]\n",
    "    b2 = parameters[\"b2\"]\n",
    "    W3 = parameters[\"W3\"]\n",
    "    b3 = parameters[\"b3\"]\n",
    "    \n",
    "    # LINEAR -> RELU -> LINEAR -> RELU -> LINEAR -> SIGMOID\n",
    "    Z1 = np.dot(W1, X) + b1\n",
    "    A1 = relu(Z1)\n",
    "    #(≈ 4 lines of code)         # Steps 1-4 below correspond to the Steps 1-4 described above. \n",
    "    # D1 =                                           # Step 1: initialize matrix D1 = np.random.rand(..., ...)\n",
    "    # D1 =                                           # Step 2: convert entries of D1 to 0 or 1 (using keep_prob as the threshold)\n",
    "    # A1 =                                           # Step 3: shut down some neurons of A1\n",
    "    # A1 =                                           # Step 4: scale the value of neurons that haven't been shut down\n",
    "    # YOUR CODE STARTS HERE\n",
    "    D1 = np.random.rand(A1.shape[0],  A1.shape[1])\n",
    "    D1 = (D1 < keep_prob).astype(int)\n",
    "    A1 = np.multiply(A1, D1)\n",
    "    A1 = A1 / keep_prob\n",
    "\n",
    "    \n",
    "    # YOUR CODE ENDS HERE\n",
    "    Z2 = np.dot(W2, A1) + b2\n",
    "    A2 = relu(Z2)\n",
    "    #(≈ 4 lines of code)\n",
    "    # D2 =                                           # Step 1: initialize matrix D2 = np.random.rand(..., ...)\n",
    "    # D2 =                                           # Step 2: convert entries of D2 to 0 or 1 (using keep_prob as the threshold)\n",
    "    # A2 =                                           # Step 3: shut down some neurons of A2\n",
    "    # A2 =                                           # Step 4: scale the value of neurons that haven't been shut down\n",
    "    # YOUR CODE STARTS HERE\n",
    "    D2 = np.random.rand(A2.shape[0],  A2.shape[1])\n",
    "    D2 = (D2 < keep_prob).astype(int)\n",
    "    A2 = np.multiply(A2, D2)\n",
    "    A2 = A2 / keep_prob\n",
    "    \n",
    "    \n",
    "    # YOUR CODE ENDS HERE\n",
    "    Z3 = np.dot(W3, A2) + b3\n",
    "    A3 = sigmoid(Z3)\n",
    "    \n",
    "    cache = (Z1, D1, A1, W1, b1, Z2, D2, A2, W2, b2, Z3, A3, W3, b3)\n",
    "    \n",
    "    return A3, cache"
   ]
  },
  {
   "cell_type": "code",
   "execution_count": 27,
   "metadata": {
    "deletable": false,
    "editable": false,
    "nbgrader": {
     "cell_type": "code",
     "checksum": "caec66931ac05dbe474596e75f3a14cd",
     "grade": true,
     "grade_id": "cell-be6195c629f586bf",
     "locked": true,
     "points": 20,
     "schema_version": 3,
     "solution": false,
     "task": false
    }
   },
   "outputs": [
    {
     "name": "stdout",
     "output_type": "stream",
     "text": [
      "A3 = [[0.36974721 0.00305176 0.04565099 0.49683389 0.36974721]]\n",
      "\u001b[92m All tests passed.\n"
     ]
    }
   ],
   "source": [
    "t_X, parameters = forward_propagation_with_dropout_test_case()\n",
    "\n",
    "A3, cache = forward_propagation_with_dropout(t_X, parameters, keep_prob=0.7)\n",
    "print (\"A3 = \" + str(A3))\n",
    "\n",
    "forward_propagation_with_dropout_test(forward_propagation_with_dropout)"
   ]
  },
  {
   "cell_type": "markdown",
   "metadata": {},
   "source": [
    "<a name='6-2'></a>\n",
    "### 6.2 - Backward Propagation with Dropout\n",
    "\n",
    "<a name='ex-4'></a>\n",
    "### Exercise 4 - backward_propagation_with_dropout\n",
    "Implement the backward propagation with dropout. As before, you are training a 3 layer network. Add dropout to the first and second hidden layers, using the masks $D^{[1]}$ and $D^{[2]}$ stored in the cache. \n",
    "\n",
    "**Instruction**:\n",
    "Backpropagation with dropout is actually quite easy. You will have to carry out 2 Steps:\n",
    "1. You had previously shut down some neurons during forward propagation, by applying a mask $D^{[1]}$ to `A1`. In backpropagation, you will have to shut down the same neurons, by reapplying the same mask $D^{[1]}$ to `dA1`. \n",
    "2. During forward propagation, you had divided `A1` by `keep_prob`. In backpropagation, you'll therefore have to divide `dA1` by `keep_prob` again (the calculus interpretation is that if $A^{[1]}$ is scaled by `keep_prob`, then its derivative $dA^{[1]}$ is also scaled by the same `keep_prob`).\n"
   ]
  },
  {
   "cell_type": "code",
   "execution_count": 28,
   "metadata": {
    "deletable": false,
    "nbgrader": {
     "cell_type": "code",
     "checksum": "ee4145889a9c078fcf6aef51aceb3ba9",
     "grade": false,
     "grade_id": "cell-5b97731b540b0b87",
     "locked": false,
     "schema_version": 3,
     "solution": true,
     "task": false
    }
   },
   "outputs": [],
   "source": [
    "# GRADED FUNCTION: backward_propagation_with_dropout\n",
    "\n",
    "def backward_propagation_with_dropout(X, Y, cache, keep_prob):\n",
    "    \"\"\"\n",
    "    Implements the backward propagation of our baseline model to which we added dropout.\n",
    "    \n",
    "    Arguments:\n",
    "    X -- input dataset, of shape (2, number of examples)\n",
    "    Y -- \"true\" labels vector, of shape (output size, number of examples)\n",
    "    cache -- cache output from forward_propagation_with_dropout()\n",
    "    keep_prob - probability of keeping a neuron active during drop-out, scalar\n",
    "    \n",
    "    Returns:\n",
    "    gradients -- A dictionary with the gradients with respect to each parameter, activation and pre-activation variables\n",
    "    \"\"\"\n",
    "    \n",
    "    m = X.shape[1]\n",
    "    (Z1, D1, A1, W1, b1, Z2, D2, A2, W2, b2, Z3, A3, W3, b3) = cache\n",
    "    \n",
    "    dZ3 = A3 - Y\n",
    "    dW3 = 1./m * np.dot(dZ3, A2.T)\n",
    "    db3 = 1./m * np.sum(dZ3, axis=1, keepdims=True)\n",
    "    dA2 = np.dot(W3.T, dZ3)\n",
    "    #(≈ 2 lines of code)\n",
    "    # dA2 =                # Step 1: Apply mask D2 to shut down the same neurons as during the forward propagation\n",
    "    # dA2 =                # Step 2: Scale the value of neurons that haven't been shut down\n",
    "    # YOUR CODE STARTS HERE\n",
    "    dA2 = np.multiply(dA2, D2)\n",
    "    dA2 = dA2 / keep_prob\n",
    "\n",
    "    # YOUR CODE ENDS HERE\n",
    "    dZ2 = np.multiply(dA2, np.int64(A2 > 0))\n",
    "    dW2 = 1./m * np.dot(dZ2, A1.T)\n",
    "    db2 = 1./m * np.sum(dZ2, axis=1, keepdims=True)\n",
    "    \n",
    "    dA1 = np.dot(W2.T, dZ2)\n",
    "    #(≈ 2 lines of code)\n",
    "    # dA1 =                # Step 1: Apply mask D1 to shut down the same neurons as during the forward propagation\n",
    "    # dA1 =                # Step 2: Scale the value of neurons that haven't been shut down\n",
    "    # YOUR CODE STARTS HERE\n",
    "    dA1 = np.multiply( dA1, D1)\n",
    "    dA1 = dA1 / keep_prob\n",
    "    \n",
    "    # YOUR CODE ENDS HERE\n",
    "    dZ1 = np.multiply(dA1, np.int64(A1 > 0))\n",
    "    dW1 = 1./m * np.dot(dZ1, X.T)\n",
    "    db1 = 1./m * np.sum(dZ1, axis=1, keepdims=True)\n",
    "    \n",
    "    gradients = {\"dZ3\": dZ3, \"dW3\": dW3, \"db3\": db3,\"dA2\": dA2,\n",
    "                 \"dZ2\": dZ2, \"dW2\": dW2, \"db2\": db2, \"dA1\": dA1, \n",
    "                 \"dZ1\": dZ1, \"dW1\": dW1, \"db1\": db1}\n",
    "    \n",
    "    return gradients"
   ]
  },
  {
   "cell_type": "code",
   "execution_count": 29,
   "metadata": {
    "deletable": false,
    "editable": false,
    "nbgrader": {
     "cell_type": "code",
     "checksum": "c30bb7a9f59c7d421c8627d5d9252b29",
     "grade": true,
     "grade_id": "cell-958c189ce5b16569",
     "locked": true,
     "points": 10,
     "schema_version": 3,
     "solution": false,
     "task": false
    }
   },
   "outputs": [
    {
     "name": "stdout",
     "output_type": "stream",
     "text": [
      "dA1 = \n",
      "[[ 0.36544439  0.         -0.00188233  0.         -0.17408748]\n",
      " [ 0.65515713  0.         -0.00337459  0.         -0.        ]]\n",
      "dA2 = \n",
      "[[ 0.58180856  0.         -0.00299679  0.         -0.27715731]\n",
      " [ 0.          0.53159854 -0.          0.53159854 -0.34089673]\n",
      " [ 0.          0.         -0.00292733  0.         -0.        ]]\n",
      "\u001b[92m All tests passed.\n"
     ]
    }
   ],
   "source": [
    "t_X, t_Y, cache = backward_propagation_with_dropout_test_case()\n",
    "\n",
    "gradients = backward_propagation_with_dropout(t_X, t_Y, cache, keep_prob=0.8)\n",
    "\n",
    "print (\"dA1 = \\n\" + str(gradients[\"dA1\"]))\n",
    "print (\"dA2 = \\n\" + str(gradients[\"dA2\"]))\n",
    "\n",
    "backward_propagation_with_dropout_test(backward_propagation_with_dropout)"
   ]
  },
  {
   "cell_type": "markdown",
   "metadata": {},
   "source": [
    "Let's now run the model with dropout (`keep_prob = 0.86`). It means at every iteration you shut down each neurons of layer 1 and 2 with 14% probability. The function `model()` will now call:\n",
    "- `forward_propagation_with_dropout` instead of `forward_propagation`.\n",
    "- `backward_propagation_with_dropout` instead of `backward_propagation`."
   ]
  },
  {
   "cell_type": "code",
   "execution_count": null,
   "metadata": {},
   "outputs": [],
   "source": [
    "parameters = model(train_X, train_Y, keep_prob = 0.86, learning_rate = 0.3)\n",
    "\n",
    "print (\"On the train set:\")\n",
    "predictions_train = predict(train_X, train_Y, parameters)\n",
    "print (\"On the test set:\")\n",
    "predictions_test = predict(test_X, test_Y, parameters)"
   ]
  },
  {
   "cell_type": "markdown",
   "metadata": {},
   "source": [
    "Dropout works great! The test accuracy has increased again (to 95%)! Your model is not overfitting the training set and does a great job on the test set. The French football team will be forever grateful to you! \n",
    "\n",
    "Run the code below to plot the decision boundary."
   ]
  },
  {
   "cell_type": "code",
   "execution_count": null,
   "metadata": {},
   "outputs": [],
   "source": [
    "plt.title(\"Model with dropout\")\n",
    "axes = plt.gca()\n",
    "axes.set_xlim([-0.75,0.40])\n",
    "axes.set_ylim([-0.75,0.65])\n",
    "plot_decision_boundary(lambda x: predict_dec(parameters, x.T), train_X, train_Y)"
   ]
  },
  {
   "cell_type": "markdown",
   "metadata": {},
   "source": [
    "**Note**:\n",
    "- A **common mistake** when using dropout is to use it both in training and testing. You should use dropout (randomly eliminate nodes) only in training. \n",
    "- Deep learning frameworks like [TensorFlow](https://www.tensorflow.org/api_docs/python/tf/nn/dropout), [PaddlePaddle](https://www.paddlepaddle.org.cn/documentation/docs/en/api/paddle/nn/Dropout_en.html#dropout), [Keras](https://keras.io/api/layers/regularization_layers/dropout/) or [caffe](https://caffe.berkeleyvision.org/doxygen/classcaffe_1_1DropoutLayer.html) come with a dropout layer implementation. Don't stress - you will soon learn some of these frameworks.\n",
    "\n",
    "<font color='blue'>\n",
    "    \n",
    "**What you should remember about dropout:**\n",
    "- Dropout is a regularization technique.\n",
    "- You only use dropout during training. Don't use dropout (randomly eliminate nodes) during test time.\n",
    "- Apply dropout both during forward and backward propagation.\n",
    "- During training time, divide each dropout layer by keep_prob to keep the same expected value for the activations. For example, if keep_prob is 0.5, then we will on average shut down half the nodes, so the output will be scaled by 0.5 since only the remaining half are contributing to the solution. Dividing by 0.5 is equivalent to multiplying by 2. Hence, the output now has the same expected value. You can check that this works even when keep_prob is other values than 0.5.  "
   ]
  },
  {
   "cell_type": "markdown",
   "metadata": {},
   "source": [
    "<a name='7'></a>\n",
    "## 7 - Conclusions"
   ]
  },
  {
   "cell_type": "markdown",
   "metadata": {},
   "source": [
    "**Here are the results of our three models**: \n",
    "\n",
    "<table> \n",
    "    <tr>\n",
    "        <td>\n",
    "        <b>model</b>\n",
    "        </td>\n",
    "        <td>\n",
    "        <b>train accuracy</b>\n",
    "        </td>\n",
    "        <td>\n",
    "        <b>test accuracy</b>\n",
    "        </td>\n",
    "    </tr>\n",
    "        <td>\n",
    "        3-layer NN without regularization\n",
    "        </td>\n",
    "        <td>\n",
    "        95%\n",
    "        </td>\n",
    "        <td>\n",
    "        91.5%\n",
    "        </td>\n",
    "    <tr>\n",
    "        <td>\n",
    "        3-layer NN with L2-regularization\n",
    "        </td>\n",
    "        <td>\n",
    "        94%\n",
    "        </td>\n",
    "        <td>\n",
    "        93%\n",
    "        </td>\n",
    "    </tr>\n",
    "    <tr>\n",
    "        <td>\n",
    "        3-layer NN with dropout\n",
    "        </td>\n",
    "        <td>\n",
    "        93%\n",
    "        </td>\n",
    "        <td>\n",
    "        95%\n",
    "        </td>\n",
    "    </tr>\n",
    "</table> "
   ]
  },
  {
   "cell_type": "markdown",
   "metadata": {},
   "source": [
    "Note that regularization hurts training set performance! This is because it limits the ability of the network to overfit to the training set. But since it ultimately gives better test accuracy, it is helping your system. "
   ]
  },
  {
   "cell_type": "markdown",
   "metadata": {},
   "source": [
    "Congratulations for finishing this assignment! And also for revolutionizing French football. :-) "
   ]
  },
  {
   "cell_type": "markdown",
   "metadata": {},
   "source": [
    "<font color='blue'>\n",
    "    \n",
    "**What we want you to remember from this notebook**:\n",
    "- Regularization will help you reduce overfitting.\n",
    "- Regularization will drive your weights to lower values.\n",
    "- L2 regularization and Dropout are two very effective regularization techniques."
   ]
  }
 ],
 "metadata": {
  "coursera": {
   "course_slug": "deep-neural-network",
   "graded_item_id": "SXQaI",
   "launcher_item_id": "UAwhh"
  },
  "kernelspec": {
   "display_name": "neumans",
   "language": "python",
   "name": "python3"
  },
  "language_info": {
   "codemirror_mode": {
    "name": "ipython",
    "version": 3
   },
   "file_extension": ".py",
   "mimetype": "text/x-python",
   "name": "python",
   "nbconvert_exporter": "python",
   "pygments_lexer": "ipython3",
   "version": "3.10.18"
  }
 },
 "nbformat": 4,
 "nbformat_minor": 2
}
