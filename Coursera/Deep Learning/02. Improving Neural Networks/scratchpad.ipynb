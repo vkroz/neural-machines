{
 "cells": [
  {
   "cell_type": "code",
   "execution_count": 86,
   "id": "969dc59b94cce15a",
   "metadata": {
    "ExecuteTime": {
     "end_time": "2024-07-11T23:03:53.165056Z",
     "start_time": "2024-07-11T23:03:53.133334Z"
    }
   },
   "outputs": [
    {
     "data": {
      "text/plain": [
       "(array([[0.43123235, 0.00908412, 0.49999371],\n",
       "        [0.87953606, 0.1238875 , 0.84499365],\n",
       "        [0.31047341, 0.88192871, 0.94297849]]),\n",
       " array([[1, 1, 1],\n",
       "        [1, 1, 1],\n",
       "        [1, 1, 1]]),\n",
       " array([[0.43123235, 0.00908412, 0.49999371],\n",
       "        [0.87953606, 0.1238875 , 0.84499365],\n",
       "        [0.31047341, 0.88192871, 0.94297849]]))"
      ]
     },
     "execution_count": 86,
     "metadata": {},
     "output_type": "execute_result"
    }
   ],
   "source": [
    "import numpy as np\n",
    "\n",
    "a = np.random.rand(3,3)\n",
    "d = (np.random.rand(3,3) < 1).astype(int)\n",
    "ad = np.multiply(a,d)\n",
    "a, d, ad"
   ]
  },
  {
   "cell_type": "code",
   "execution_count": 87,
   "id": "0d45e6da",
   "metadata": {},
   "outputs": [
    {
     "data": {
      "text/plain": [
       "1.0"
      ]
     },
     "execution_count": 87,
     "metadata": {},
     "output_type": "execute_result"
    }
   ],
   "source": [
    "np.exp(1)**(-0)"
   ]
  },
  {
   "cell_type": "code",
   "execution_count": 88,
   "id": "18fa4bde",
   "metadata": {},
   "outputs": [
    {
     "name": "stdout",
     "output_type": "stream",
     "text": [
      "128.0\n",
      "26.0\n",
      "13.0\n"
     ]
    }
   ],
   "source": [
    "import numpy as np\n",
    "\n",
    "W1 = np.array([[2.0, 3, 5, 6], [3, 2, 4, 5]])\n",
    "W2 = np.array([[2.0,3], [3,2]])\n",
    "W3 = np.array([[2.0], [3]])\n",
    "\n",
    "for Wl in [W1, W2, W3]:\n",
    "    print(np.sum(np.square(Wl)))\n",
    "    "
   ]
  },
  {
   "cell_type": "code",
   "execution_count": 89,
   "id": "dcdc2edf",
   "metadata": {},
   "outputs": [
    {
     "data": {
      "text/plain": [
       "167.0"
      ]
     },
     "execution_count": 89,
     "metadata": {},
     "output_type": "execute_result"
    }
   ],
   "source": [
    "np.sum([np.sum(np.square(Wl)) for Wl in [W1, W2, W3]])\n"
   ]
  },
  {
   "cell_type": "code",
   "execution_count": 90,
   "id": "9312947b",
   "metadata": {},
   "outputs": [
    {
     "data": {
      "text/plain": [
       "(2, 4)"
      ]
     },
     "execution_count": 90,
     "metadata": {},
     "output_type": "execute_result"
    }
   ],
   "source": [
    "W1[0].shape\n",
    "W1.shape[0], W1.shape[1] \n"
   ]
  },
  {
   "cell_type": "code",
   "execution_count": 91,
   "id": "5195f4e7",
   "metadata": {},
   "outputs": [
    {
     "data": {
      "text/plain": [
       "2.8284271247461903"
      ]
     },
     "execution_count": 91,
     "metadata": {},
     "output_type": "execute_result"
    }
   ],
   "source": [
    "np.linalg.norm([2,2])"
   ]
  },
  {
   "cell_type": "code",
   "execution_count": 92,
   "id": "f4446c87",
   "metadata": {},
   "outputs": [
    {
     "data": {
      "text/plain": [
       "(array([[2., 3., 5., 6.],\n",
       "        [3., 2., 4., 5.]]),\n",
       " [1, 3, 0, 2],\n",
       " array([[3., 6., 2., 5.],\n",
       "        [2., 5., 3., 4.]]),\n",
       " array([[3.],\n",
       "        [2.]]))"
      ]
     },
     "execution_count": 92,
     "metadata": {},
     "output_type": "execute_result"
    }
   ],
   "source": [
    "import numpy as np\n",
    "\n",
    "m = W1.shape[1]\n",
    "cc = list(np.random.permutation(m))\n",
    "\n",
    "W1, cc, W1[:, cc], W1[:, 1:2]\n"
   ]
  },
  {
   "cell_type": "code",
   "execution_count": 93,
   "id": "7d92c799",
   "metadata": {},
   "outputs": [
    {
     "data": {
      "text/plain": [
       "[(1, 'a'), (2, 'b'), (3, 'c'), (4, 'd'), (5, 'e')]"
      ]
     },
     "execution_count": 93,
     "metadata": {},
     "output_type": "execute_result"
    }
   ],
   "source": [
    "l1 = [1, 2, 3, 4, 5]\n",
    "l2 = ['a', 'b', 'c', 'd', 'e']\n",
    "[i for i in zip(l1, l2)]\n"
   ]
  },
  {
   "cell_type": "markdown",
   "id": "d96e6999",
   "metadata": {},
   "source": [
    "# TensorFlow"
   ]
  },
  {
   "cell_type": "code",
   "execution_count": 94,
   "id": "5f52206e",
   "metadata": {},
   "outputs": [
    {
     "name": "stdout",
     "output_type": "stream",
     "text": [
      "<tf.Variable 'Variable:0' shape=() dtype=float32, numpy=0.0>\n",
      "0.09999931\n"
     ]
    }
   ],
   "source": [
    "import tensorflow as tf\n",
    "\n",
    "w=tf.Variable(0, dtype=tf.float32)\n",
    "optimizer = tf.keras.optimizers.Adam(learning_rate=0.1)\n",
    "\n",
    "def train_step():\n",
    "    with tf.GradientTape() as tape:\n",
    "        cost = tf.square(w) - 10.0 * w + 25.0  # pyright: ignore[reportOperatorIssue]\n",
    "        trainable_variables = [w]\n",
    "        grads = tape.gradient(cost, trainable_variables)\n",
    "        optimizer.apply_gradients(zip(grads, trainable_variables))\n",
    "\n",
    "print(w)\n",
    "train_step()\n",
    "print(w.numpy())"
   ]
  },
  {
   "cell_type": "code",
   "execution_count": 95,
   "id": "1be7227e",
   "metadata": {},
   "outputs": [
    {
     "name": "stdout",
     "output_type": "stream",
     "text": [
      "tf.Tensor([33], shape=(1,), dtype=int32)\n",
      "tf.Tensor([33], shape=(1,), dtype=int32)\n",
      "tf.Tensor([1 2 3], shape=(3,), dtype=int32)\n"
     ]
    }
   ],
   "source": [
    "t = tf.reshape(33, [1])\n",
    "print(t)\n",
    "\n",
    "t = tf.reshape(33, [-1])\n",
    "print(t)\n",
    "\n",
    "t = tf.reshape([1,2,3], [-1])\n",
    "print(t)\n",
    "\n"
   ]
  },
  {
   "cell_type": "code",
   "execution_count": 96,
   "id": "1c8ef23c",
   "metadata": {},
   "outputs": [
    {
     "name": "stdout",
     "output_type": "stream",
     "text": [
      "tf.Tensor([[0. 1. 0. 0. 0. 0.]], shape=(1, 6), dtype=float32)\n",
      "tf.Tensor([[0. 0. 1. 0. 0. 0.]], shape=(1, 6), dtype=float32)\n",
      "tf.Tensor([[0. 1. 0. 0. 0. 0.]], shape=(1, 6), dtype=float32)\n",
      "tf.Tensor(\n",
      "[[1. 0. 0. 0. 0. 0.]\n",
      " [0. 1. 0. 0. 0. 0.]\n",
      " [0. 0. 1. 0. 0. 0.]], shape=(3, 6), dtype=float32)\n"
     ]
    }
   ],
   "source": [
    "C = 6\n",
    "for l in [1,2, [1], [0,1,2]]:\n",
    "    l = tf.reshape(l, [-1])\n",
    "    print(str(tf.one_hot(l, C)))"
   ]
  },
  {
   "cell_type": "code",
   "execution_count": 97,
   "id": "be70505a",
   "metadata": {},
   "outputs": [
    {
     "data": {
      "text/plain": [
       "(<tf.Tensor: shape=(2, 2), dtype=float32, numpy=\n",
       " array([[0., 0.],\n",
       "        [0., 0.]], dtype=float32)>,\n",
       " <tf.Tensor: shape=(2, 2), dtype=float32, numpy=\n",
       " array([[1., 1.],\n",
       "        [1., 1.]], dtype=float32)>)"
      ]
     },
     "execution_count": 97,
     "metadata": {},
     "output_type": "execute_result"
    }
   ],
   "source": [
    "tf.zeros((2,2)), tf.ones((2,2))"
   ]
  },
  {
   "cell_type": "code",
   "execution_count": 100,
   "id": "9a4b9b80",
   "metadata": {},
   "outputs": [
    {
     "data": {
      "text/plain": [
       "<tf.Variable 'Variable:0' shape=(2, 2) dtype=float32, numpy=\n",
       "array([[ 0.10181072, -0.39632243],\n",
       "       [ 0.5073968 , -0.63413197]], dtype=float32)>"
      ]
     },
     "execution_count": 100,
     "metadata": {},
     "output_type": "execute_result"
    }
   ],
   "source": [
    "init = tf.keras.initializers.GlorotNormal(seed=1)  \n",
    "W1 = tf.Variable(init(shape=(2,2)))\n",
    "W1"
   ]
  },
  {
   "cell_type": "code",
   "execution_count": 101,
   "id": "0fd3007b",
   "metadata": {},
   "outputs": [
    {
     "data": {
      "text/plain": [
       "<tf.Tensor: shape=(2, 2), dtype=float32, numpy=\n",
       "array([[0.10181072, 0.        ],\n",
       "       [0.5073968 , 0.        ]], dtype=float32)>"
      ]
     },
     "execution_count": 101,
     "metadata": {},
     "output_type": "execute_result"
    }
   ],
   "source": [
    "tf.keras.activations.relu(W1)"
   ]
  }
 ],
 "metadata": {
  "kernelspec": {
   "display_name": "neumans",
   "language": "python",
   "name": "python3"
  },
  "language_info": {
   "codemirror_mode": {
    "name": "ipython",
    "version": 3
   },
   "file_extension": ".py",
   "mimetype": "text/x-python",
   "name": "python",
   "nbconvert_exporter": "python",
   "pygments_lexer": "ipython3",
   "version": "3.10.18"
  }
 },
 "nbformat": 4,
 "nbformat_minor": 5
}
