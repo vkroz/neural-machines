{
 "cells": [
  {
   "cell_type": "markdown",
   "metadata": {
    "collapsed": true,
    "pycharm": {
     "name": "#%% md\n"
    }
   },
   "source": [
    "# How to use NumPy"
   ]
  },
  {
   "cell_type": "code",
   "execution_count": 7,
   "outputs": [],
   "source": [
    "import numpy as np\n"
   ],
   "metadata": {
    "collapsed": false,
    "pycharm": {
     "name": "#%%\n"
    }
   }
  },
  {
   "cell_type": "markdown",
   "source": [
    "## NumPy Meshgrid\n",
    "\n"
   ],
   "metadata": {
    "collapsed": false,
    "pycharm": {
     "name": "#%% md\n"
    }
   }
  },
  {
   "cell_type": "code",
   "execution_count": 37,
   "outputs": [
    {
     "data": {
      "text/plain": "(array([[10, 20, 30, 40, 50, 99],\n        [10, 20, 30, 40, 50, 99],\n        [10, 20, 30, 40, 50, 99]]),\n array([[1, 1, 1, 1, 1, 1],\n        [3, 3, 3, 3, 3, 3],\n        [6, 6, 6, 6, 6, 6]]))"
     },
     "execution_count": 37,
     "metadata": {},
     "output_type": "execute_result"
    }
   ],
   "source": [
    "array_cols = [10, 20, 30, 40, 50, 99]\n",
    "array_rows = [1, 3, 6]\n",
    "\n",
    "XX, YY = np.meshgrid(array_cols, array_rows)\n",
    "XX, YY"
   ],
   "metadata": {
    "collapsed": false,
    "pycharm": {
     "name": "#%%\n"
    }
   }
  },
  {
   "cell_type": "code",
   "execution_count": 40,
   "outputs": [
    {
     "data": {
      "text/plain": "(array([[1, 2, 3],\n        [1, 2, 3],\n        [1, 2, 3],\n        [1, 2, 3],\n        [1, 2, 3],\n        [1, 2, 3]]),\n array([[10, 10, 10],\n        [20, 20, 20],\n        [30, 30, 30],\n        [40, 40, 40],\n        [50, 50, 50],\n        [60, 60, 60]]))"
     },
     "execution_count": 40,
     "metadata": {},
     "output_type": "execute_result"
    }
   ],
   "source": [
    "array_cols = [1, 2, 3]\n",
    "array_rows = [10, 20, 30, 40, 50, 60]\n",
    "\n",
    "XX, YY = np.meshgrid(array_cols, array_rows, )\n",
    "XX, YY"
   ],
   "metadata": {
    "collapsed": false,
    "pycharm": {
     "name": "#%%\n"
    }
   }
  },
  {
   "cell_type": "code",
   "execution_count": 30,
   "outputs": [
    {
     "data": {
      "text/plain": "array([[10, 10, 10],\n       [20, 20, 20],\n       [30, 30, 30],\n       [40, 40, 40],\n       [50, 50, 50],\n       [99, 99, 99]])"
     },
     "execution_count": 30,
     "metadata": {},
     "output_type": "execute_result"
    }
   ],
   "source": [
    "YY\n"
   ],
   "metadata": {
    "collapsed": false,
    "pycharm": {
     "name": "#%%\n"
    }
   }
  }
 ],
 "metadata": {
  "kernelspec": {
   "display_name": "Python 3",
   "language": "python",
   "name": "python3"
  },
  "language_info": {
   "codemirror_mode": {
    "name": "ipython",
    "version": 2
   },
   "file_extension": ".py",
   "mimetype": "text/x-python",
   "name": "python",
   "nbconvert_exporter": "python",
   "pygments_lexer": "ipython2",
   "version": "2.7.6"
  }
 },
 "nbformat": 4,
 "nbformat_minor": 0
}