{
 "cells": [
  {
   "cell_type": "markdown",
   "metadata": {
    "collapsed": true,
    "pycharm": {
     "name": "#%% md\n"
    }
   },
   "source": [
    "# How to use Pandas"
   ]
  },
  {
   "cell_type": "code",
   "execution_count": 1,
   "outputs": [],
   "source": [
    "import pandas as pd"
   ],
   "metadata": {
    "collapsed": false,
    "pycharm": {
     "name": "#%%\n"
    },
    "ExecuteTime": {
     "end_time": "2023-05-08T02:59:31.572744Z",
     "start_time": "2023-05-08T02:59:30.033642Z"
    }
   }
  },
  {
   "cell_type": "code",
   "execution_count": 3,
   "outputs": [
    {
     "data": {
      "text/plain": "   sentiment                                        review_body  \\\n0          1  If this product was in petite  i would get the...   \n1          1  Love this dress!  it's sooo pretty.  i happene...   \n2          0  I had such high hopes for this dress and reall...   \n3          1  I love  love  love this jumpsuit. it's fun  fl...   \n4          1  This shirt is very flattering to all due to th...   \n\n  product_category  \n0          Blouses  \n1          Dresses  \n2          Dresses  \n3            Pants  \n4          Blouses  ",
      "text/html": "<div>\n<style scoped>\n    .dataframe tbody tr th:only-of-type {\n        vertical-align: middle;\n    }\n\n    .dataframe tbody tr th {\n        vertical-align: top;\n    }\n\n    .dataframe thead th {\n        text-align: right;\n    }\n</style>\n<table border=\"1\" class=\"dataframe\">\n  <thead>\n    <tr style=\"text-align: right;\">\n      <th></th>\n      <th>sentiment</th>\n      <th>review_body</th>\n      <th>product_category</th>\n    </tr>\n  </thead>\n  <tbody>\n    <tr>\n      <th>0</th>\n      <td>1</td>\n      <td>If this product was in petite  i would get the...</td>\n      <td>Blouses</td>\n    </tr>\n    <tr>\n      <th>1</th>\n      <td>1</td>\n      <td>Love this dress!  it's sooo pretty.  i happene...</td>\n      <td>Dresses</td>\n    </tr>\n    <tr>\n      <th>2</th>\n      <td>0</td>\n      <td>I had such high hopes for this dress and reall...</td>\n      <td>Dresses</td>\n    </tr>\n    <tr>\n      <th>3</th>\n      <td>1</td>\n      <td>I love  love  love this jumpsuit. it's fun  fl...</td>\n      <td>Pants</td>\n    </tr>\n    <tr>\n      <th>4</th>\n      <td>1</td>\n      <td>This shirt is very flattering to all due to th...</td>\n      <td>Blouses</td>\n    </tr>\n  </tbody>\n</table>\n</div>"
     },
     "execution_count": 3,
     "metadata": {},
     "output_type": "execute_result"
    }
   ],
   "source": [
    "df = pd.read_csv('../datasets/womens_clothing_ecommerce_reviews_transformed.csv')\n",
    "df.head()"
   ],
   "metadata": {
    "collapsed": false,
    "pycharm": {
     "name": "#%%\n"
    },
    "ExecuteTime": {
     "end_time": "2023-05-08T02:59:55.742517Z",
     "start_time": "2023-05-08T02:59:55.617686Z"
    }
   }
  },
  {
   "cell_type": "markdown",
   "source": [
    "Create dataframe from numbers"
   ],
   "metadata": {
    "collapsed": false,
    "pycharm": {
     "name": "#%% md\n"
    }
   }
  },
  {
   "cell_type": "code",
   "execution_count": 5,
   "outputs": [
    {
     "data": {
      "text/plain": "0    1\n1    1\n2    2\n3    1\n4    3\n5    4\n6    5\ndtype: int64"
     },
     "execution_count": 5,
     "metadata": {},
     "output_type": "execute_result"
    }
   ],
   "source": [
    "s = pd.Series([1,1,2,1,3,4,5])\n",
    "s"
   ],
   "metadata": {
    "collapsed": false,
    "pycharm": {
     "name": "#%%\n"
    }
   }
  },
  {
   "cell_type": "code",
   "execution_count": 2,
   "outputs": [
    {
     "data": {
      "text/plain": "array([[0.49844833, 0.49550055, 0.36944978, 0.4529328 , 0.4370285 ,\n        0.36675052, 0.21249009, 0.1609143 , 0.62501568, 0.00424028,\n        0.56445381, 0.58540615],\n       [0.47442201, 0.52549658, 0.69124249, 0.86298892, 0.4394504 ,\n        0.34546622, 0.38754863, 0.25118857, 0.7957534 , 0.21880024,\n        0.83855759, 0.96958961],\n       [0.8566882 , 0.41869968, 0.46458541, 0.74755317, 0.70169497,\n        0.51853601, 0.80391962, 0.7732488 , 0.18913278, 0.1937581 ,\n        0.72496504, 0.93636929],\n       [0.16725603, 0.44329457, 0.14145996, 0.83714334, 0.82605303,\n        0.08622994, 0.56911632, 0.51077474, 0.43288807, 0.10663311,\n        0.52884565, 0.51357926],\n       [0.95824091, 0.34255093, 0.61888851, 0.61994102, 0.23022252,\n        0.8704933 , 0.6420185 , 0.54399151, 0.22205401, 0.9510716 ,\n        0.50858598, 0.16086661],\n       [0.06921024, 0.42231124, 0.41080991, 0.92656034, 0.03986615,\n        0.32200935, 0.21035234, 0.13612847, 0.45501233, 0.55325694,\n        0.562214  , 0.69366149],\n       [0.69557146, 0.76761254, 0.42493826, 0.30007661, 0.14106255,\n        0.32810552, 0.47601077, 0.14693441, 0.33224596, 0.05286574,\n        0.07140735, 0.82667857],\n       [0.00508352, 0.16942226, 0.55788256, 0.04336963, 0.07530646,\n        0.78367292, 0.50837827, 0.99434237, 0.39127247, 0.10027487,\n        0.09223636, 0.48453246],\n       [0.86670254, 0.60562228, 0.53673348, 0.81456645, 0.9023648 ,\n        0.57986955, 0.64239781, 0.9715928 , 0.96417808, 0.12564785,\n        0.18279957, 0.51115706],\n       [0.0350459 , 0.6860763 , 0.96472981, 0.05329111, 0.42014139,\n        0.47334407, 0.41156938, 0.16354804, 0.83439845, 0.6827981 ,\n        0.26814485, 0.60182988]])"
     },
     "execution_count": 2,
     "metadata": {},
     "output_type": "execute_result"
    }
   ],
   "source": [
    "import numpy as np\n",
    "np.random.rand(10, 12)"
   ],
   "metadata": {
    "collapsed": false,
    "pycharm": {
     "name": "#%%\n"
    }
   }
  },
  {
   "cell_type": "code",
   "execution_count": 12,
   "outputs": [
    {
     "data": {
      "text/plain": "(0     14500.0\n 1    142118.3\n 2     14500.0\n 3     14500.0\n 4     14500.0\n 5     14500.0\n 6     14500.0\n 7     14500.0\n 8    192580.2\n dtype: float64,\n 436198.5)"
     },
     "execution_count": 12,
     "metadata": {},
     "output_type": "execute_result"
    }
   ],
   "source": [
    "basem = 174000/12\n",
    "rsu0115 = 41*3466.3\n",
    "rsu0715 = 54*3500.3\n",
    "rsu0715 = 54*3566.3\n",
    "comp1 = pd.Series([basem, rsu0115, basem, basem ])\n",
    "comp2 = pd.Series([basem, rsu0115, basem, basem, basem, basem, basem, basem, rsu0715])\n",
    "\n",
    "comp2, sum(comp2)"
   ],
   "metadata": {
    "collapsed": false,
    "pycharm": {
     "name": "#%%\n"
    }
   }
  },
  {
   "cell_type": "code",
   "execution_count": 24,
   "outputs": [
    {
     "name": "stdout",
     "output_type": "stream",
     "text": [
      "Comp 2022: 499\n",
      "Comp 2023: 544\n"
     ]
    }
   ],
   "source": [
    "# If I work full year\n",
    "print(f\"Comp 2022: {170+142+187}\")\n",
    "print(f\"Comp 2023: {170+187+187}\")"
   ],
   "metadata": {
    "collapsed": false,
    "pycharm": {
     "name": "#%%\n"
    }
   }
  },
  {
   "cell_type": "code",
   "execution_count": 19,
   "outputs": [
    {
     "data": {
      "text/plain": "747.0"
     },
     "execution_count": 19,
     "metadata": {},
     "output_type": "execute_result"
    }
   ],
   "source": [
    "# If I work till march\n",
    "170/12*3+142+750/12*9"
   ],
   "metadata": {
    "collapsed": false,
    "pycharm": {
     "name": "#%%\n"
    }
   }
  },
  {
   "cell_type": "code",
   "execution_count": 21,
   "outputs": [
    {
     "data": {
      "text/plain": "740.6666666666666"
     },
     "execution_count": 21,
     "metadata": {},
     "output_type": "execute_result"
    }
   ],
   "source": [
    "# If I leave in July\n",
    "170/12*7+142+187+750/12*5\n"
   ],
   "metadata": {
    "collapsed": false,
    "pycharm": {
     "name": "#%%\n"
    }
   }
  }
 ],
 "metadata": {
  "kernelspec": {
   "display_name": "Python 3",
   "language": "python",
   "name": "python3"
  },
  "language_info": {
   "codemirror_mode": {
    "name": "ipython",
    "version": 2
   },
   "file_extension": ".py",
   "mimetype": "text/x-python",
   "name": "python",
   "nbconvert_exporter": "python",
   "pygments_lexer": "ipython2",
   "version": "2.7.6"
  }
 },
 "nbformat": 4,
 "nbformat_minor": 0
}
