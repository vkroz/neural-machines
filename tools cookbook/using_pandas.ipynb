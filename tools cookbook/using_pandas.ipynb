{
 "cells": [
  {
   "cell_type": "markdown",
   "metadata": {
    "collapsed": true,
    "pycharm": {
     "name": "#%% md\n"
    }
   },
   "source": [
    "# How to use Pandas"
   ]
  },
  {
   "cell_type": "code",
   "execution_count": 3,
   "metadata": {
    "ExecuteTime": {
     "end_time": "2023-05-08T02:59:31.572744Z",
     "start_time": "2023-05-08T02:59:30.033642Z"
    },
    "collapsed": false,
    "pycharm": {
     "name": "#%%\n"
    }
   },
   "outputs": [],
   "source": [
    "import pandas as pd"
   ]
  },
  {
   "cell_type": "code",
   "execution_count": 4,
   "metadata": {
    "ExecuteTime": {
     "end_time": "2023-05-08T02:59:55.742517Z",
     "start_time": "2023-05-08T02:59:55.617686Z"
    },
    "collapsed": false,
    "pycharm": {
     "name": "#%%\n"
    }
   },
   "outputs": [
    {
     "data": {
      "text/html": [
       "<div>\n",
       "<style scoped>\n",
       "    .dataframe tbody tr th:only-of-type {\n",
       "        vertical-align: middle;\n",
       "    }\n",
       "\n",
       "    .dataframe tbody tr th {\n",
       "        vertical-align: top;\n",
       "    }\n",
       "\n",
       "    .dataframe thead th {\n",
       "        text-align: right;\n",
       "    }\n",
       "</style>\n",
       "<table border=\"1\" class=\"dataframe\">\n",
       "  <thead>\n",
       "    <tr style=\"text-align: right;\">\n",
       "      <th></th>\n",
       "      <th>sentiment</th>\n",
       "      <th>review_body</th>\n",
       "      <th>product_category</th>\n",
       "    </tr>\n",
       "  </thead>\n",
       "  <tbody>\n",
       "    <tr>\n",
       "      <th>0</th>\n",
       "      <td>1</td>\n",
       "      <td>If this product was in petite  i would get the...</td>\n",
       "      <td>Blouses</td>\n",
       "    </tr>\n",
       "    <tr>\n",
       "      <th>1</th>\n",
       "      <td>1</td>\n",
       "      <td>Love this dress!  it's sooo pretty.  i happene...</td>\n",
       "      <td>Dresses</td>\n",
       "    </tr>\n",
       "    <tr>\n",
       "      <th>2</th>\n",
       "      <td>0</td>\n",
       "      <td>I had such high hopes for this dress and reall...</td>\n",
       "      <td>Dresses</td>\n",
       "    </tr>\n",
       "    <tr>\n",
       "      <th>3</th>\n",
       "      <td>1</td>\n",
       "      <td>I love  love  love this jumpsuit. it's fun  fl...</td>\n",
       "      <td>Pants</td>\n",
       "    </tr>\n",
       "    <tr>\n",
       "      <th>4</th>\n",
       "      <td>1</td>\n",
       "      <td>This shirt is very flattering to all due to th...</td>\n",
       "      <td>Blouses</td>\n",
       "    </tr>\n",
       "  </tbody>\n",
       "</table>\n",
       "</div>"
      ],
      "text/plain": [
       "   sentiment                                        review_body  \\\n",
       "0          1  If this product was in petite  i would get the...   \n",
       "1          1  Love this dress!  it's sooo pretty.  i happene...   \n",
       "2          0  I had such high hopes for this dress and reall...   \n",
       "3          1  I love  love  love this jumpsuit. it's fun  fl...   \n",
       "4          1  This shirt is very flattering to all due to th...   \n",
       "\n",
       "  product_category  \n",
       "0          Blouses  \n",
       "1          Dresses  \n",
       "2          Dresses  \n",
       "3            Pants  \n",
       "4          Blouses  "
      ]
     },
     "execution_count": 4,
     "metadata": {},
     "output_type": "execute_result"
    }
   ],
   "source": [
    "df = pd.read_csv('../datasets/womens_clothing_ecommerce_reviews_transformed.csv')\n",
    "df.head()"
   ]
  },
  {
   "cell_type": "markdown",
   "metadata": {
    "collapsed": false,
    "pycharm": {
     "name": "#%% md\n"
    }
   },
   "source": [
    "Create dataframe from numbers"
   ]
  },
  {
   "cell_type": "code",
   "execution_count": 5,
   "metadata": {
    "collapsed": false,
    "pycharm": {
     "name": "#%%\n"
    }
   },
   "outputs": [
    {
     "data": {
      "text/plain": [
       "0    1\n",
       "1    1\n",
       "2    2\n",
       "3    1\n",
       "4    3\n",
       "5    4\n",
       "6    5\n",
       "dtype: int64"
      ]
     },
     "execution_count": 5,
     "metadata": {},
     "output_type": "execute_result"
    }
   ],
   "source": [
    "s = pd.Series([1,1,2,1,3,4,5])\n",
    "s"
   ]
  },
  {
   "cell_type": "code",
   "execution_count": 6,
   "metadata": {
    "collapsed": false,
    "pycharm": {
     "name": "#%%\n"
    }
   },
   "outputs": [
    {
     "data": {
      "text/plain": [
       "array([[0.3122795 , 0.36450451, 0.24163652, 0.3986654 , 0.25036013,\n",
       "        0.60649349, 0.19581373, 0.98656119, 0.86669486, 0.2280633 ,\n",
       "        0.27265452, 0.84703638],\n",
       "       [0.53527567, 0.66168302, 0.83958617, 0.57075078, 0.38865939,\n",
       "        0.89918186, 0.08404039, 0.0110932 , 0.43019956, 0.76080558,\n",
       "        0.06879571, 0.69192622],\n",
       "       [0.41514855, 0.99556355, 0.91295237, 0.29244324, 0.0149583 ,\n",
       "        0.5484643 , 0.46365929, 0.36302124, 0.70064303, 0.20687638,\n",
       "        0.98046254, 0.19615166],\n",
       "       [0.25205745, 0.7645166 , 0.67057845, 0.57962203, 0.4020977 ,\n",
       "        0.84854822, 0.11399086, 0.50131619, 0.3233318 , 0.3846716 ,\n",
       "        0.85107008, 0.82027975],\n",
       "       [0.95079284, 0.45162673, 0.7179762 , 0.92698487, 0.09277442,\n",
       "        0.48932083, 0.25141769, 0.27550946, 0.14344948, 0.13486497,\n",
       "        0.17916115, 0.32258144],\n",
       "       [0.87690338, 0.86846646, 0.64800546, 0.67873997, 0.13423511,\n",
       "        0.5796039 , 0.15311165, 0.9655056 , 0.63750422, 0.78208404,\n",
       "        0.51789386, 0.81988698],\n",
       "       [0.5570999 , 0.21861998, 0.998195  , 0.56711364, 0.24133257,\n",
       "        0.82979374, 0.95276732, 0.98678139, 0.75681004, 0.87089743,\n",
       "        0.31111931, 0.21401127],\n",
       "       [0.13467409, 0.04010343, 0.29992162, 0.15703984, 0.56130666,\n",
       "        0.29036131, 0.34642952, 0.70275876, 0.56138428, 0.11391286,\n",
       "        0.9890036 , 0.22702851],\n",
       "       [0.0527217 , 0.28129677, 0.08177315, 0.15347649, 0.20670251,\n",
       "        0.18303552, 0.58112444, 0.02500886, 0.15377548, 0.89971305,\n",
       "        0.76796499, 0.32686529],\n",
       "       [0.00568191, 0.38402287, 0.6224488 , 0.04705213, 0.7005837 ,\n",
       "        0.47586627, 0.32187104, 0.16504514, 0.07436554, 0.22696729,\n",
       "        0.25082787, 0.56920419]])"
      ]
     },
     "execution_count": 6,
     "metadata": {},
     "output_type": "execute_result"
    }
   ],
   "source": [
    "import numpy as np\n",
    "np.random.rand(10, 12)"
   ]
  },
  {
   "cell_type": "code",
   "execution_count": 7,
   "metadata": {
    "collapsed": false,
    "pycharm": {
     "name": "#%%\n"
    }
   },
   "outputs": [
    {
     "data": {
      "text/plain": [
       "(0     14500.0\n",
       " 1    142118.3\n",
       " 2     14500.0\n",
       " 3     14500.0\n",
       " 4     14500.0\n",
       " 5     14500.0\n",
       " 6     14500.0\n",
       " 7     14500.0\n",
       " 8    192580.2\n",
       " dtype: float64,\n",
       " 436198.5)"
      ]
     },
     "execution_count": 7,
     "metadata": {},
     "output_type": "execute_result"
    }
   ],
   "source": [
    "basem = 174000/12\n",
    "rsu0115 = 41*3466.3\n",
    "rsu0715 = 54*3500.3\n",
    "rsu0715 = 54*3566.3\n",
    "comp1 = pd.Series([basem, rsu0115, basem, basem ])\n",
    "comp2 = pd.Series([basem, rsu0115, basem, basem, basem, basem, basem, basem, rsu0715])\n",
    "\n",
    "comp2, sum(comp2)"
   ]
  },
  {
   "cell_type": "code",
   "execution_count": 8,
   "metadata": {
    "collapsed": false,
    "pycharm": {
     "name": "#%%\n"
    }
   },
   "outputs": [
    {
     "name": "stdout",
     "output_type": "stream",
     "text": [
      "Comp 2022: 499\n",
      "Comp 2023: 544\n"
     ]
    }
   ],
   "source": [
    "# If I work full year\n",
    "print(f\"Comp 2022: {170+142+187}\")\n",
    "print(f\"Comp 2023: {170+187+187}\")"
   ]
  },
  {
   "cell_type": "code",
   "execution_count": 9,
   "metadata": {
    "collapsed": false,
    "pycharm": {
     "name": "#%%\n"
    }
   },
   "outputs": [
    {
     "data": {
      "text/plain": [
       "747.0"
      ]
     },
     "execution_count": 9,
     "metadata": {},
     "output_type": "execute_result"
    }
   ],
   "source": [
    "# If I work till march\n",
    "170/12*3+142+750/12*9"
   ]
  },
  {
   "cell_type": "code",
   "execution_count": 10,
   "metadata": {
    "collapsed": false,
    "pycharm": {
     "name": "#%%\n"
    }
   },
   "outputs": [
    {
     "data": {
      "text/plain": [
       "740.6666666666666"
      ]
     },
     "execution_count": 10,
     "metadata": {},
     "output_type": "execute_result"
    }
   ],
   "source": [
    "# If I leave in July\n",
    "170/12*7+142+187+750/12*5\n"
   ]
  }
 ],
 "metadata": {
  "kernelspec": {
   "display_name": ".venv",
   "language": "python",
   "name": "python3"
  },
  "language_info": {
   "codemirror_mode": {
    "name": "ipython",
    "version": 3
   },
   "file_extension": ".py",
   "mimetype": "text/x-python",
   "name": "python",
   "nbconvert_exporter": "python",
   "pygments_lexer": "ipython3",
   "version": "3.12.8"
  }
 },
 "nbformat": 4,
 "nbformat_minor": 0
}
