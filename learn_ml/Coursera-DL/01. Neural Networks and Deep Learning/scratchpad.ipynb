{
 "cells": [
  {
   "cell_type": "markdown",
   "metadata": {},
   "source": [
    "Resume where you left off: https://www.coursera.org/learn/neural-networks-deep-learning/programming/thQd4/logistic-regression-with-a-neural-network-mindset\n"
   ]
  },
  {
   "cell_type": "code",
   "execution_count": 2,
   "metadata": {},
   "outputs": [
    {
     "data": {
      "text/plain": [
       "4"
      ]
     },
     "execution_count": 2,
     "metadata": {},
     "output_type": "execute_result"
    }
   ],
   "source": [
    "2+2\n"
   ]
  },
  {
   "cell_type": "code",
   "execution_count": 3,
   "metadata": {},
   "outputs": [
    {
     "data": {
      "image/png": "[encoded data removed]",
      "text/plain": [
       "<Figure size 800x400 with 1 Axes>"
      ]
     },
     "metadata": {},
     "output_type": "display_data"
    }
   ],
   "source": [
    "import numpy as np\n",
    "import matplotlib.pyplot as plt\n",
    "\n",
    "# Create x values from 0.1 to 10\n",
    "x = np.linspace(0.01, 10, 100)\n",
    "\n",
    "# Calculate natural logarithm\n",
    "y = np.log(x)\n",
    "\n",
    "# Create the plot\n",
    "plt.figure(figsize=(8, 4))\n",
    "plt.plot(x, y, 'b-', label='ln(x)')\n",
    "plt.grid(True)\n",
    "plt.title('Natural Logarithm Function')\n",
    "plt.xlabel('x')\n",
    "plt.ylabel('ln(x)')\n",
    "plt.legend()\n",
    "#plt.yscale('log')\n",
    "\n",
    "plt.show()"
   ]
  },
  {
   "cell_type": "code",
   "execution_count": 4,
   "metadata": {},
   "outputs": [
    {
     "data": {
      "text/plain": [
       "array([1, 2, 3])"
      ]
     },
     "execution_count": 4,
     "metadata": {},
     "output_type": "execute_result"
    }
   ],
   "source": [
    "import numpy as np\n",
    "np.array([1,2,3])"
   ]
  },
  {
   "cell_type": "code",
   "execution_count": 5,
   "metadata": {},
   "outputs": [
    {
     "data": {
      "text/plain": [
       "(array([0.62240237, 0.8604454 , 0.67547989, ..., 0.44025478, 0.40085284,\n",
       "        0.70942887]),\n",
       " array([0.35700828, 0.65998711, 0.28865783, ..., 0.78011974, 0.83585465,\n",
       "        0.02016077]),\n",
       " 249746.4354443373)"
      ]
     },
     "execution_count": 5,
     "metadata": {},
     "output_type": "execute_result"
    }
   ],
   "source": [
    "import time\n",
    "\n",
    "a = np.random.rand(1000000)\n",
    "b = np.random.rand(1000000)\n",
    "\n",
    "tic = time.time()\n",
    "c = np.dot(a, b)\n",
    "tic = time.time()\n",
    "\n",
    "a, b, c"
   ]
  },
  {
   "cell_type": "code",
   "execution_count": 9,
   "metadata": {},
   "outputs": [
    {
     "name": "stdout",
     "output_type": "stream",
     "text": [
      "np.zeros((2,3)): [[0. 0. 0.]\n",
      " [0. 0. 0.]]\n",
      "np.random.rand(2,3): [[0.4766692  0.3644126  0.36234378]\n",
      " [0.6020007  0.99376225 0.73522703]]\n",
      "np.random.randn(2,3): [[-0.66141062 -0.07960328 -0.15642067]\n",
      " [ 0.47712795  0.93777695  0.74564559]]\n",
      "np.random.randint(0,10,size=(2,3)): [[3 0 6]\n",
      " [2 0 4]]\n",
      "np.random.choice(5, size=10, replace=True): [1 2 0 2 2 3 2 0 2 2]\n",
      "np.random.permutation(5): [2 3 1 4 0]\n"
     ]
    }
   ],
   "source": [
    "print(f'np.zeros((2,3)): {np.zeros((2,3))}')\n",
    "print(f'np.random.rand(2,3): {np.random.rand(2,3)}')\n",
    "print(f'np.random.randn(2,3): {np.random.randn(2,3)}')\n",
    "print(f'np.random.randint(0,10,size=(2,3)): {np.random.randint(0,10,size=(2,3))}')\n",
    "print(f'np.random.choice(5, size=10, replace=True): {np.random.choice(5, size=10, replace=True)}')\n",
    "print(f'np.random.permutation(5): {np.random.permutation(5)}')\n",
    "\n"
   ]
  },
  {
   "cell_type": "code",
   "execution_count": 7,
   "metadata": {},
   "outputs": [
    {
     "name": "stdout",
     "output_type": "stream",
     "text": [
      "(3, 1)\n",
      "(1, 3)\n",
      "[[2 3 4]\n",
      " [3 4 5]\n",
      " [4 5 6]]\n"
     ]
    }
   ],
   "source": [
    "x = np.array([1,2,3]).reshape(3,1)\n",
    "y = np.array([[1,2,3]])\n",
    "\n",
    "print(x.shape)\n",
    "print(y.shape)\n",
    "\n",
    "print(x+y)\n"
   ]
  },
  {
   "cell_type": "code",
   "execution_count": 17,
   "metadata": {},
   "outputs": [
    {
     "data": {
      "text/plain": [
       "array([[3, 3],\n",
       "       [4, 2]])"
      ]
     },
     "execution_count": 17,
     "metadata": {},
     "output_type": "execute_result"
    }
   ],
   "source": [
    "a=np.array([[1,1],[1,-1]])\n",
    "b=np.array([[2],[3]])\n",
    "c=a+b\n",
    "c\n",
    "\n",
    "\n",
    "\n"
   ]
  },
  {
   "cell_type": "markdown",
   "metadata": {},
   "source": [
    "Testing cursor auto-complete"
   ]
  }
 ],
 "metadata": {
  "kernelspec": {
   "display_name": "coursera_ml",
   "language": "python",
   "name": "python3"
  },
  "language_info": {
   "codemirror_mode": {
    "name": "ipython",
    "version": 3
   },
   "file_extension": ".py",
   "mimetype": "text/x-python",
   "name": "python",
   "nbconvert_exporter": "python",
   "pygments_lexer": "ipython3",
   "version": "3.10.13"
  }
 },
 "nbformat": 4,
 "nbformat_minor": 2
}
