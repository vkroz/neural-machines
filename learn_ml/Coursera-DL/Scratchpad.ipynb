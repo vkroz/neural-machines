{
 "cells": [
  {
   "cell_type": "code",
   "execution_count": 1,
   "id": "990c4420-e194-4067-87e1-31b1798ea090",
   "metadata": {
    "ExecuteTime": {
     "end_time": "2025-09-06T21:52:18.480829Z",
     "start_time": "2025-09-06T21:52:18.411969Z"
    }
   },
   "outputs": [],
   "source": [
    "import numpy as np\n",
    "\n",
    "\n"
   ]
  },
  {
   "cell_type": "code",
   "execution_count": 2,
   "id": "320aef9b",
   "metadata": {
    "ExecuteTime": {
     "end_time": "2025-09-06T21:52:18.526915Z",
     "start_time": "2025-09-06T21:52:18.520354Z"
    }
   },
   "outputs": [
    {
     "data": {
      "text/plain": [
       "(array([[ 1.62434536, -0.61175641],\n",
       "        [-0.52817175, -1.07296862],\n",
       "        [ 0.86540763, -2.3015387 ]]),\n",
       " (3, 2))"
      ]
     },
     "execution_count": 2,
     "metadata": {},
     "output_type": "execute_result"
    }
   ],
   "source": [
    "np.random.seed(1)\n",
    "a = np.random.randn(3, 2)\n",
    "a, a.shape\n"
   ]
  },
  {
   "cell_type": "code",
   "execution_count": 3,
   "id": "fb8209a5",
   "metadata": {
    "ExecuteTime": {
     "end_time": "2025-09-06T21:52:18.543658Z",
     "start_time": "2025-09-06T21:52:18.539584Z"
    }
   },
   "outputs": [
    {
     "data": {
      "text/plain": [
       "array([[ 1.62434536],\n",
       "       [-0.52817175],\n",
       "       [ 0.86540763]])"
      ]
     },
     "execution_count": 3,
     "metadata": {},
     "output_type": "execute_result"
    }
   ],
   "source": [
    "a[:,:1]\n"
   ]
  },
  {
   "cell_type": "code",
   "execution_count": 4,
   "id": "5978d638",
   "metadata": {
    "ExecuteTime": {
     "end_time": "2025-09-06T21:52:18.590049Z",
     "start_time": "2025-09-06T21:52:18.586382Z"
    }
   },
   "outputs": [
    {
     "data": {
      "text/plain": [
       "(array([[[ 1.62434536, -0.61175641, -0.52817175, -1.07296862],\n",
       "         [ 0.86540763, -2.3015387 ,  1.74481176, -0.7612069 ]],\n",
       " \n",
       "        [[ 0.3190391 , -0.24937038,  1.46210794, -2.06014071],\n",
       "         [-0.3224172 , -0.38405435,  1.13376944, -1.09989127]],\n",
       " \n",
       "        [[-0.17242821, -0.87785842,  0.04221375,  0.58281521],\n",
       "         [-1.10061918,  1.14472371,  0.90159072,  0.50249434]]]),\n",
       " (3, 2, 4))"
      ]
     },
     "execution_count": 4,
     "metadata": {},
     "output_type": "execute_result"
    }
   ],
   "source": [
    "np.random.seed(1)\n",
    "a = np.random.randn(3, 2, 4)\n",
    "a, a.shape\n"
   ]
  },
  {
   "cell_type": "code",
   "execution_count": 5,
   "id": "6f846e26",
   "metadata": {
    "ExecuteTime": {
     "end_time": "2025-09-06T21:56:24.158008Z",
     "start_time": "2025-09-06T21:56:24.154542Z"
    }
   },
   "outputs": [
    {
     "data": {
      "text/plain": [
       "array([[ 1.62434536,  0.86540763],\n",
       "       [ 0.3190391 , -0.3224172 ],\n",
       "       [-0.17242821, -1.10061918]])"
      ]
     },
     "execution_count": 5,
     "metadata": {},
     "output_type": "execute_result"
    }
   ],
   "source": [
    "a[:,:,0]"
   ]
  },
  {
   "cell_type": "code",
   "execution_count": 6,
   "id": "fd07aae2f2b1ead8",
   "metadata": {
    "ExecuteTime": {
     "end_time": "2025-09-06T21:56:43.672926Z",
     "start_time": "2025-09-06T21:56:43.670207Z"
    }
   },
   "outputs": [
    {
     "data": {
      "text/plain": [
       "array([[0., 0.],\n",
       "       [0., 0.],\n",
       "       [0., 0.]])"
      ]
     },
     "execution_count": 6,
     "metadata": {},
     "output_type": "execute_result"
    }
   ],
   "source": [
    "np.zeros((3,2))"
   ]
  },
  {
   "cell_type": "code",
   "execution_count": 10,
   "id": "52a8a149",
   "metadata": {},
   "outputs": [
    {
     "data": {
      "text/plain": [
       "(array([[ 0.81095167,  1.04444209],\n",
       "        [-0.40087819,  0.82400562],\n",
       "        [-0.56230543,  1.95487808]]),\n",
       " array([[-1.33195167, -1.76068856],\n",
       "        [-1.65072127, -0.89055558],\n",
       "        [-1.1191154 ,  1.9560789 ],\n",
       "        [-0.3264995 , -1.34267579]]),\n",
       " array([[ 0.81095167,  1.04444209],\n",
       "        [-0.40087819,  0.82400562],\n",
       "        [-0.56230543,  1.95487808],\n",
       "        [-1.33195167, -1.76068856],\n",
       "        [-1.65072127, -0.89055558],\n",
       "        [-1.1191154 ,  1.9560789 ],\n",
       "        [-0.3264995 , -1.34267579]]))"
      ]
     },
     "execution_count": 10,
     "metadata": {},
     "output_type": "execute_result"
    }
   ],
   "source": [
    "c = np.random.randn(3, 2)\n",
    "a = np.random.randn(4, 2)\n",
    "x = np.concatenate((c, a), axis=0)\n",
    "c,a,x"
   ]
  },
  {
   "cell_type": "code",
   "execution_count": null,
   "id": "4b828746",
   "metadata": {},
   "outputs": [],
   "source": []
  }
 ],
 "metadata": {
  "kernelspec": {
   "display_name": "neumans",
   "language": "python",
   "name": "python3"
  },
  "language_info": {
   "codemirror_mode": {
    "name": "ipython",
    "version": 3
   },
   "file_extension": ".py",
   "mimetype": "text/x-python",
   "name": "python",
   "nbconvert_exporter": "python",
   "pygments_lexer": "ipython3",
   "version": "3.10.18"
  }
 },
 "nbformat": 4,
 "nbformat_minor": 5
}
