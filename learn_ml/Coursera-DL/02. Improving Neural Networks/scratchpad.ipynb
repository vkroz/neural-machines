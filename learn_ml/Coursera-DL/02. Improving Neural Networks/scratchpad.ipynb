{
 "cells": [
  {
   "cell_type": "code",
   "execution_count": 15,
   "id": "969dc59b94cce15a",
   "metadata": {
    "ExecuteTime": {
     "end_time": "2024-07-11T23:03:53.165056Z",
     "start_time": "2024-07-11T23:03:53.133334Z"
    }
   },
   "outputs": [
    {
     "data": {
      "text/plain": [
       "(array([[0.0135323 , 0.25929352, 0.14582933],\n",
       "        [0.32646163, 0.84649891, 0.66492442],\n",
       "        [0.59146668, 0.06348145, 0.90154219]]),\n",
       " array([[1, 1, 1],\n",
       "        [1, 1, 1],\n",
       "        [1, 1, 1]]),\n",
       " array([[0.0135323 , 0.25929352, 0.14582933],\n",
       "        [0.32646163, 0.84649891, 0.66492442],\n",
       "        [0.59146668, 0.06348145, 0.90154219]]))"
      ]
     },
     "execution_count": 15,
     "metadata": {},
     "output_type": "execute_result"
    }
   ],
   "source": [
    "import numpy as np\n",
    "\n",
    "a = np.random.rand(3,3)\n",
    "d = (np.random.rand(3,3) < 1).astype(int)\n",
    "ad = np.multiply(a,d)\n",
    "a, d, ad"
   ]
  },
  {
   "cell_type": "code",
   "execution_count": 16,
   "id": "0d45e6da",
   "metadata": {},
   "outputs": [
    {
     "data": {
      "text/plain": [
       "1.0"
      ]
     },
     "execution_count": 16,
     "metadata": {},
     "output_type": "execute_result"
    }
   ],
   "source": [
    "np.exp(1)**(-0)"
   ]
  },
  {
   "cell_type": "code",
   "execution_count": 17,
   "id": "18fa4bde",
   "metadata": {},
   "outputs": [
    {
     "name": "stdout",
     "output_type": "stream",
     "text": [
      "128.0\n",
      "26.0\n",
      "13.0\n"
     ]
    }
   ],
   "source": [
    "import numpy as np\n",
    "\n",
    "W1 = np.array([[2.0, 3, 5, 6], [3, 2, 4, 5]])\n",
    "W2 = np.array([[2.0,3], [3,2]])\n",
    "W3 = np.array([[2.0], [3]])\n",
    "\n",
    "for Wl in [W1, W2, W3]:\n",
    "    print(np.sum(np.square(Wl)))\n",
    "    "
   ]
  },
  {
   "cell_type": "code",
   "execution_count": 18,
   "id": "dcdc2edf",
   "metadata": {},
   "outputs": [
    {
     "data": {
      "text/plain": [
       "167.0"
      ]
     },
     "execution_count": 18,
     "metadata": {},
     "output_type": "execute_result"
    }
   ],
   "source": [
    "np.sum([np.sum(np.square(Wl)) for Wl in [W1, W2, W3]])\n"
   ]
  },
  {
   "cell_type": "code",
   "execution_count": 19,
   "id": "9312947b",
   "metadata": {},
   "outputs": [
    {
     "data": {
      "text/plain": [
       "(2, 4)"
      ]
     },
     "execution_count": 19,
     "metadata": {},
     "output_type": "execute_result"
    }
   ],
   "source": [
    "W1[0].shape\n",
    "W1.shape[0], W1.shape[1] \n"
   ]
  },
  {
   "cell_type": "code",
   "execution_count": 20,
   "id": "5195f4e7",
   "metadata": {},
   "outputs": [
    {
     "data": {
      "text/plain": [
       "2.8284271247461903"
      ]
     },
     "execution_count": 20,
     "metadata": {},
     "output_type": "execute_result"
    }
   ],
   "source": [
    "np.linalg.norm([2,2])"
   ]
  },
  {
   "cell_type": "code",
   "execution_count": 33,
   "id": "f4446c87",
   "metadata": {},
   "outputs": [
    {
     "data": {
      "text/plain": [
       "(array([[2., 3., 5., 6.],\n",
       "        [3., 2., 4., 5.]]),\n",
       " [1, 0, 3, 2],\n",
       " array([[3., 2., 6., 5.],\n",
       "        [2., 3., 5., 4.]]),\n",
       " array([[3.],\n",
       "        [2.]]))"
      ]
     },
     "execution_count": 33,
     "metadata": {},
     "output_type": "execute_result"
    }
   ],
   "source": [
    "import numpy as np\n",
    "\n",
    "m = W1.shape[1]\n",
    "cc = list(np.random.permutation(m))\n",
    "\n",
    "W1, cc, W1[:, cc], W1[:, 1:2]\n",
    "\n",
    "\n",
    "\n",
    "\n",
    "\n",
    "# list(np.random.permutation(5))\n",
    "\n",
    "\n",
    "\n",
    "\n",
    "\n",
    "\n",
    "\n",
    "\n"
   ]
  },
  {
   "cell_type": "code",
   "execution_count": 37,
   "id": "7d92c799",
   "metadata": {},
   "outputs": [
    {
     "data": {
      "text/plain": [
       "(array([[2., 3., 5., 6.],\n",
       "        [3., 2., 4., 5.]]),\n",
       " array([[ 4.,  9., 25., 36.],\n",
       "        [ 9.,  4., 16., 25.]]))"
      ]
     },
     "execution_count": 37,
     "metadata": {},
     "output_type": "execute_result"
    }
   ],
   "source": [
    "W1, W1**2"
   ]
  }
 ],
 "metadata": {
  "kernelspec": {
   "display_name": "neumans",
   "language": "python",
   "name": "python3"
  },
  "language_info": {
   "codemirror_mode": {
    "name": "ipython",
    "version": 3
   },
   "file_extension": ".py",
   "mimetype": "text/x-python",
   "name": "python",
   "nbconvert_exporter": "python",
   "pygments_lexer": "ipython3",
   "version": "3.10.18"
  }
 },
 "nbformat": 4,
 "nbformat_minor": 5
}
