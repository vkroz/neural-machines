{
 "cells": [
  {
   "cell_type": "code",
   "execution_count": 72,
   "id": "969dc59b94cce15a",
   "metadata": {
    "ExecuteTime": {
     "end_time": "2024-07-11T23:03:53.165056Z",
     "start_time": "2024-07-11T23:03:53.133334Z"
    }
   },
   "outputs": [
    {
     "data": {
      "text/plain": [
       "(array([[0.49204657, 0.14525432, 0.22315406],\n",
       "        [0.79225921, 0.77226014, 0.38562426],\n",
       "        [0.02362267, 0.22526479, 0.17424872]]),\n",
       " array([[1, 1, 1],\n",
       "        [1, 1, 1],\n",
       "        [1, 1, 1]]),\n",
       " array([[0.49204657, 0.14525432, 0.22315406],\n",
       "        [0.79225921, 0.77226014, 0.38562426],\n",
       "        [0.02362267, 0.22526479, 0.17424872]]))"
      ]
     },
     "execution_count": 72,
     "metadata": {},
     "output_type": "execute_result"
    }
   ],
   "source": [
    "import numpy as np\n",
    "\n",
    "a = np.random.rand(3,3)\n",
    "d = (np.random.rand(3,3) < 1).astype(int)\n",
    "ad = np.multiply(a,d)\n",
    "a, d, ad\n",
    "\n",
    "\n",
    "\n",
    "\n",
    "\n",
    "\n",
    "\n",
    "\n"
   ]
  },
  {
   "cell_type": "code",
   "execution_count": 7,
   "id": "0d45e6da",
   "metadata": {},
   "outputs": [
    {
     "data": {
      "text/plain": [
       "1.0"
      ]
     },
     "execution_count": 7,
     "metadata": {},
     "output_type": "execute_result"
    }
   ],
   "source": [
    "np.exp(1)**(-0)"
   ]
  },
  {
   "cell_type": "code",
   "execution_count": 50,
   "id": "18fa4bde",
   "metadata": {},
   "outputs": [
    {
     "name": "stdout",
     "output_type": "stream",
     "text": [
      "128.0\n",
      "26.0\n",
      "13.0\n"
     ]
    }
   ],
   "source": [
    "import numpy as np\n",
    "\n",
    "W1 = np.array([[2.0, 3, 5, 6], [3, 2, 4, 5]])\n",
    "W2 = np.array([[2.0,3], [3,2]])\n",
    "W3 = np.array([[2.0], [3]])\n",
    "\n",
    "for Wl in [W1, W2, W3]:\n",
    "    print(np.sum(np.square(Wl)))\n",
    "    "
   ]
  },
  {
   "cell_type": "code",
   "execution_count": 55,
   "id": "dcdc2edf",
   "metadata": {},
   "outputs": [
    {
     "data": {
      "text/plain": [
       "167.0"
      ]
     },
     "execution_count": 55,
     "metadata": {},
     "output_type": "execute_result"
    }
   ],
   "source": [
    "np.sum([np.sum(np.square(Wl)) for Wl in [W1, W2, W3]])\n"
   ]
  },
  {
   "cell_type": "code",
   "execution_count": 75,
   "id": "9312947b",
   "metadata": {},
   "outputs": [
    {
     "data": {
      "text/plain": [
       "(2, 4)"
      ]
     },
     "execution_count": 75,
     "metadata": {},
     "output_type": "execute_result"
    }
   ],
   "source": [
    "W1[0].shape\n",
    "W1.shape[0], W1.shape[1] \n"
   ]
  },
  {
   "cell_type": "code",
   "execution_count": 77,
   "id": "5195f4e7",
   "metadata": {},
   "outputs": [
    {
     "data": {
      "text/plain": [
       "(array([[2., 3., 5., 6.],\n",
       "        [3., 2., 4., 5.]]),\n",
       " array([[ 4.,  6., 10., 12.],\n",
       "        [ 6.,  4.,  8., 10.]]))"
      ]
     },
     "execution_count": 77,
     "metadata": {},
     "output_type": "execute_result"
    }
   ],
   "source": [
    "W1, W1/0.5"
   ]
  }
 ],
 "metadata": {
  "kernelspec": {
   "display_name": "neumans",
   "language": "python",
   "name": "python3"
  },
  "language_info": {
   "codemirror_mode": {
    "name": "ipython",
    "version": 3
   },
   "file_extension": ".py",
   "mimetype": "text/x-python",
   "name": "python",
   "nbconvert_exporter": "python",
   "pygments_lexer": "ipython3",
   "version": "3.10.18"
  }
 },
 "nbformat": 4,
 "nbformat_minor": 5
}
