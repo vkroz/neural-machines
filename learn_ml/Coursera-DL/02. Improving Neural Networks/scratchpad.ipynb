{
 "cells": [
  {
   "cell_type": "code",
   "execution_count": 2,
   "id": "969dc59b94cce15a",
   "metadata": {
    "ExecuteTime": {
     "end_time": "2024-07-11T23:03:53.165056Z",
     "start_time": "2024-07-11T23:03:53.133334Z"
    }
   },
   "outputs": [
    {
     "data": {
      "text/plain": [
       "(array([[ True, False,  True],\n",
       "        [False, False,  True],\n",
       "        [ True, False, False]]),\n",
       " array([[0.05151974, 0.08457806, 0.65607557],\n",
       "        [0.05222512, 0.27273875, 0.47037006],\n",
       "        [0.4890294 , 0.09224402, 0.13777984]]),\n",
       " array([[0.05151974, 0.        , 0.65607557],\n",
       "        [0.        , 0.        , 0.47037006],\n",
       "        [0.4890294 , 0.        , 0.        ]]))"
      ]
     },
     "execution_count": 2,
     "metadata": {},
     "output_type": "execute_result"
    }
   ],
   "source": [
    "import numpy as np\n",
    "\n",
    "a = np.random.rand(3,3) < 0.5\n",
    "d = np.random.rand(3,3)\n",
    "ad = np.multiply(a,d)\n",
    "a, d, ad\n"
   ]
  },
  {
   "cell_type": "code",
   "execution_count": 7,
   "id": "0d45e6da",
   "metadata": {},
   "outputs": [
    {
     "data": {
      "text/plain": [
       "1.0"
      ]
     },
     "execution_count": 7,
     "metadata": {},
     "output_type": "execute_result"
    }
   ],
   "source": [
    "np.exp(1)**(-0)"
   ]
  },
  {
   "cell_type": "code",
   "execution_count": null,
   "id": "18fa4bde",
   "metadata": {},
   "outputs": [],
   "source": [
    "n"
   ]
  }
 ],
 "metadata": {
  "kernelspec": {
   "display_name": "neumans",
   "language": "python",
   "name": "python3"
  },
  "language_info": {
   "codemirror_mode": {
    "name": "ipython",
    "version": 3
   },
   "file_extension": ".py",
   "mimetype": "text/x-python",
   "name": "python",
   "nbconvert_exporter": "python",
   "pygments_lexer": "ipython3",
   "version": "3.10.18"
  }
 },
 "nbformat": 4,
 "nbformat_minor": 5
}
