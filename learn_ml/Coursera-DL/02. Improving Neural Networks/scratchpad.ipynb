{
 "cells": [
  {
   "cell_type": "code",
   "execution_count": 12,
   "id": "969dc59b94cce15a",
   "metadata": {
    "ExecuteTime": {
     "end_time": "2024-07-11T23:03:53.165056Z",
     "start_time": "2024-07-11T23:03:53.133334Z"
    }
   },
   "outputs": [
    {
     "data": {
      "text/plain": [
       "(array([[ True,  True, False],\n",
       "        [False,  True, False],\n",
       "        [ True, False,  True]]),\n",
       " array([[0.79016151, 0.85263045, 0.23194777],\n",
       "        [0.92308361, 0.41226325, 0.12496937],\n",
       "        [0.79714052, 0.38928804, 0.05544898]]),\n",
       " array([[0.79016151, 0.85263045, 0.        ],\n",
       "        [0.        , 0.41226325, 0.        ],\n",
       "        [0.79714052, 0.        , 0.05544898]]))"
      ]
     },
     "execution_count": 12,
     "metadata": {},
     "output_type": "execute_result"
    }
   ],
   "source": [
    "import numpy as np\n",
    "\n",
    "a = np.random.rand(3,3) < 0.5\n",
    "d = np.random.rand(3,3)\n",
    "ad = np.multiply(a,d)\n",
    "a, d, ad\n"
   ]
  }
 ],
 "metadata": {
  "kernelspec": {
   "display_name": "neumans",
   "language": "python",
   "name": "python3"
  },
  "language_info": {
   "codemirror_mode": {
    "name": "ipython",
    "version": 3
   },
   "file_extension": ".py",
   "mimetype": "text/x-python",
   "name": "python",
   "nbconvert_exporter": "python",
   "pygments_lexer": "ipython3",
   "version": "3.10.18"
  }
 },
 "nbformat": 4,
 "nbformat_minor": 5
}
