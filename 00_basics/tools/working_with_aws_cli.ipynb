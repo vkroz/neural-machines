{
 "cells": [
  {
   "cell_type": "code",
   "execution_count": 5,
   "id": "initial_id",
   "metadata": {
    "collapsed": true,
    "ExecuteTime": {
     "end_time": "2023-11-15T23:25:23.448456Z",
     "start_time": "2023-11-15T23:25:23.406728Z"
    }
   },
   "outputs": [
    {
     "name": "stdout",
     "output_type": "stream",
     "text": [
      "/Volumes/workplace/github.com/learning_ai/cookbook\n",
      "total 3320\n",
      "-rw-r--r--  1 vkroz  staff     1836 Nov 15 15:21 using_boto.ipynb\n",
      "-rw-r--r--  1 vkroz  staff     5261 Feb 26  2023 using_math_formulas.ipynb\n",
      "-rw-r--r--  1 vkroz  staff  1438739 Jul  9 11:53 using_matplotlib.ipynb\n",
      "-rw-r--r--  1 vkroz  staff     2934 Jan 26  2023 using_numpy.ipynb\n",
      "-rw-r--r--  1 vkroz  staff     8152 May  7  2023 using_pandas.ipynb\n",
      "-rw-r--r--  1 vkroz  staff   226049 Jan 26  2023 using_seaborn.ipynb\n",
      "-rw-r--r--  1 vkroz  staff     1284 Nov 15 15:25 working_with_aws_cli.ipynb\n"
     ]
    }
   ],
   "source": [
    "%%bash\n",
    "pwd\n",
    "ls -l"
   ]
  },
  {
   "cell_type": "code",
   "execution_count": 6,
   "outputs": [
    {
     "name": "stdout",
     "output_type": "stream",
     "text": [
      "['using_boto.ipynb', 'using_math_formulas.ipynb', 'using_matplotlib.ipynb', 'using_numpy.ipynb', 'using_pandas.ipynb', 'using_seaborn.ipynb', 'working_with_aws_cli.ipynb']\n"
     ]
    }
   ],
   "source": [
    "files = !ls\n",
    "print(files)"
   ],
   "metadata": {
    "collapsed": false,
    "ExecuteTime": {
     "end_time": "2023-11-15T23:25:23.496189Z",
     "start_time": "2023-11-15T23:25:23.452047Z"
    }
   },
   "id": "9cc39d7c81ce5357"
  },
  {
   "cell_type": "code",
   "execution_count": 7,
   "outputs": [
    {
     "name": "stdout",
     "output_type": "stream",
     "text": [
      "total 72\r\n",
      "-rw-r--r--   1 vkroz  staff    390 Apr 19  2023 DEVELOP.md\r\n",
      "-rw-r--r--   1 vkroz  staff  11357 Jan 26  2023 LICENSE\r\n",
      "drwxr-xr-x   7 vkroz  staff    224 Jul  7 14:30 \u001B[1m\u001B[36mNLP with PyTorch\u001B[m\u001B[m\r\n",
      "-rw-r--r--   1 vkroz  staff    933 Jun  1 13:09 RAW_NOTES_TO_PROCESS.md\r\n",
      "-rw-r--r--   1 vkroz  staff   3533 Feb 17  2023 README.md\r\n",
      "drwxr-xr-x  10 vkroz  staff    320 Nov 15 15:25 \u001B[1m\u001B[36mcookbook\u001B[m\u001B[m\r\n",
      "drwxr-xr-x   3 vkroz  staff     96 Jul  7 14:30 \u001B[1m\u001B[36md2l.ai\u001B[m\u001B[m\r\n",
      "drwxr-xr-x   6 vkroz  staff    192 May  7  2023 \u001B[1m\u001B[36mdatasets\u001B[m\u001B[m\r\n",
      "-rw-r--r--   1 vkroz  staff    381 Nov 15 14:16 learning_ai.iml\r\n",
      "-rw-r--r--   1 vkroz  staff    150 Feb 17  2023 progress.md\r\n",
      "-rwxr-xr-x   1 vkroz  staff    424 Nov 15 14:51 \u001B[31msetup.sh\u001B[m\u001B[m\r\n"
     ]
    }
   ],
   "source": [
    "directory = \"/Volumes/workplace/github.com/learning_ai\"\n",
    "!ls -l {directory}"
   ],
   "metadata": {
    "collapsed": false,
    "ExecuteTime": {
     "end_time": "2023-11-15T23:25:23.658277Z",
     "start_time": "2023-11-15T23:25:23.497840Z"
    }
   },
   "id": "97d5dec84a6988f9"
  },
  {
   "cell_type": "code",
   "execution_count": null,
   "outputs": [],
   "source": [],
   "metadata": {
    "collapsed": false
   },
   "id": "12d81a83665bc2f5"
  }
 ],
 "metadata": {
  "kernelspec": {
   "display_name": "Python 3",
   "language": "python",
   "name": "python3"
  },
  "language_info": {
   "codemirror_mode": {
    "name": "ipython",
    "version": 2
   },
   "file_extension": ".py",
   "mimetype": "text/x-python",
   "name": "python",
   "nbconvert_exporter": "python",
   "pygments_lexer": "ipython2",
   "version": "2.7.6"
  }
 },
 "nbformat": 4,
 "nbformat_minor": 5
}
