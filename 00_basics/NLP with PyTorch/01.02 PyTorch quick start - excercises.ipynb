{
 "cells": [
  {
   "cell_type": "markdown",
   "metadata": {},
   "source": [
    "# Excercises - Chapter 1 PyTorch Basics"
   ]
  },
  {
   "cell_type": "code",
   "execution_count": 1,
   "metadata": {
    "ExecuteTime": {
     "end_time": "2023-04-19T19:20:24.304039Z",
     "start_time": "2023-04-19T19:20:24.297249Z"
    }
   },
   "outputs": [
    {
     "name": "stdout",
     "output_type": "stream",
     "text": [
      "tensor([[0.7225, 0.0061, 0.3088, 0.8153, 0.8452],\n",
      "        [0.9247, 0.8551, 0.8588, 0.2065, 0.2447],\n",
      "        [0.1421, 0.1797, 0.0358, 0.7419, 0.8806],\n",
      "        [0.1977, 0.5466, 0.5733, 0.3269, 0.9627],\n",
      "        [0.0852, 0.9765, 0.5429, 0.5748, 0.3426]])\n",
      "torch.Size([5, 5])\n"
     ]
    }
   ],
   "source": [
    "import torch\n",
    "\n",
    "# Create a 5x5 tensor with random values between 0 and 1. Print the tensor and its shape.\n",
    "\n",
    "tensor = torch.rand(5, 5)\n",
    "print(tensor)\n",
    "print(tensor.shape)"
   ]
  },
  {
   "cell_type": "code",
   "execution_count": 2,
   "metadata": {
    "ExecuteTime": {
     "end_time": "2023-04-19T19:21:39.846317Z",
     "start_time": "2023-04-19T19:21:39.840259Z"
    }
   },
   "outputs": [
    {
     "data": {
      "text/plain": [
       "tensor([[1., 0., 0.],\n",
       "        [0., 1., 0.],\n",
       "        [0., 0., 1.]])"
      ]
     },
     "execution_count": 2,
     "metadata": {},
     "output_type": "execute_result"
    }
   ],
   "source": [
    "# Create a 3x3 identity matrix (ones on the diagonal, zeros elsewhere) using PyTorch.\n",
    "\n",
    "torch.eye(3, 3)"
   ]
  },
  {
   "cell_type": "code",
   "execution_count": 3,
   "metadata": {
    "ExecuteTime": {
     "end_time": "2023-04-19T19:25:20.511684Z",
     "start_time": "2023-04-19T19:25:20.503320Z"
    },
    "pycharm": {
     "name": "#%%md\n"
    }
   },
   "outputs": [
    {
     "name": "stdout",
     "output_type": "stream",
     "text": [
      "tensor([[ 5,  7,  8],\n",
      "        [18, 10,  5],\n",
      "        [ 7, 10,  9]])\n"
     ]
    }
   ],
   "source": [
    "# Create two 3x3 tensors with random integer values between 1 and 10. Add them element-wise and print the result.\n",
    "\n",
    "t1 = torch.randint(1, 10, (3, 3))\n",
    "t2 = torch.randint(1, 10, (3, 3))\n",
    "print(t1 + t2)\n"
   ]
  },
  {
   "cell_type": "code",
   "execution_count": 4,
   "metadata": {
    "ExecuteTime": {
     "end_time": "2023-04-19T19:31:59.282910Z",
     "start_time": "2023-04-19T19:31:59.265803Z"
    }
   },
   "outputs": [
    {
     "name": "stdout",
     "output_type": "stream",
     "text": [
      "tensor([[-1,  0, -1, -1],\n",
      "        [ 0,  0,  0,  0],\n",
      "        [-1,  0,  0, -1],\n",
      "        [ 0,  0,  0,  0]])\n",
      "tensor([[-5,  0, -5, -5],\n",
      "        [ 0,  0,  0,  0],\n",
      "        [-5,  0,  0, -5],\n",
      "        [ 0,  0,  0,  0]])\n",
      "tensor([[-3,  2, -3, -3],\n",
      "        [ 2,  2,  2,  2],\n",
      "        [-3,  2,  2, -3],\n",
      "        [ 2,  2,  2,  2]])\n"
     ]
    }
   ],
   "source": [
    "# Create a 4x4 tensor with random values between -1 and 1. Multiply each element by 5 and add 2. Print the tensor.\n",
    "\n",
    "t = torch.randint(-1, 1, (4, 4))\n",
    "print(t)\n",
    "t = t * 5\n",
    "print(t)\n",
    "t = t + 2\n",
    "print(t)\n"
   ]
  },
  {
   "cell_type": "markdown",
   "metadata": {},
   "source": [
    "## Indexing, Slicing, and Joining"
   ]
  },
  {
   "cell_type": "code",
   "execution_count": null,
   "metadata": {},
   "outputs": [],
   "source": []
  }
 ],
 "metadata": {
  "kernelspec": {
   "display_name": "neumans",
   "language": "python",
   "name": "python3"
  },
  "language_info": {
   "codemirror_mode": {
    "name": "ipython",
    "version": 3
   },
   "file_extension": ".py",
   "mimetype": "text/x-python",
   "name": "python",
   "nbconvert_exporter": "python",
   "pygments_lexer": "ipython3",
   "version": "3.10.16"
  },
  "toc": {
   "base_numbering": 1,
   "nav_menu": {},
   "number_sections": true,
   "sideBar": false,
   "skip_h1_title": false,
   "title_cell": "Table of Contents",
   "title_sidebar": "Contents",
   "toc_cell": false,
   "toc_position": {},
   "toc_section_display": true,
   "toc_window_display": false
  }
 },
 "nbformat": 4,
 "nbformat_minor": 1
}
